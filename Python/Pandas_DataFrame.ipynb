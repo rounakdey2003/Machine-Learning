{
 "nbformat": 4,
 "nbformat_minor": 0,
 "metadata": {
  "colab": {
   "name": "Pandas_DataFrame.ipynb",
   "provenance": []
  },
  "kernelspec": {
   "name": "python3",
   "display_name": "Python 3"
  },
  "language_info": {
   "name": "python"
  }
 },
 "cells": [
  {
   "cell_type": "code",
   "metadata": {
    "colab": {
     "base_uri": "https://localhost:8080/"
    },
    "id": "i35FcZHL1fpb",
    "executionInfo": {
     "status": "ok",
     "timestamp": 1631542168388,
     "user_tz": -330,
     "elapsed": 24,
     "user": {
      "displayName": "Trinanjan Daw",
      "photoUrl": "https://lh3.googleusercontent.com/a-/AOh14GhQQ7g7DJNZuSTt_3FZA-n_9Z86KEVtHZiC_Ks68g=s64",
      "userId": "06428610514401875874"
     }
    },
    "outputId": "13e47e22-9a97-40dd-fcd7-39e0f770f1ed"
   },
   "source": [
    "import pandas as pd  \n",
    "  \n",
    "info = {'one' : pd.Series([1, 2, 3, 4, 5, 6], index=['a', 'b', 'c', 'd', 'e', 'f']),  \n",
    "   'two' : pd.Series([11, 21, 32, 43, 52, 64, 73, 81], index=['a', 'b', 'c', 'd', 'e', 'f', 'g', 'h'])}  \n",
    "  \n",
    "d1 = pd.DataFrame(info)\n",
    "print(d1)\n",
    "print(\"Adding new dataframe by passing series\") \n",
    "d1['three'] = pd.Series([1,2,3],index=['a','b','c']) \n",
    "print (d1)  \n",
    "print(\"Adding new row using DataFrame\")\n",
    "d1['four'] = d1['one']+d1['two']\n",
    "print(d1)"
   ],
   "execution_count": null,
   "outputs": [
    {
     "output_type": "stream",
     "name": "stdout",
     "text": [
      "   one  two\n",
      "a  1.0   11\n",
      "b  2.0   21\n",
      "c  3.0   32\n",
      "d  4.0   43\n",
      "e  5.0   52\n",
      "f  6.0   64\n",
      "g  NaN   73\n",
      "h  NaN   81\n",
      "Adding new dataframe by passing series\n",
      "   one  two  three\n",
      "a  1.0   11    1.0\n",
      "b  2.0   21    2.0\n",
      "c  3.0   32    3.0\n",
      "d  4.0   43    NaN\n",
      "e  5.0   52    NaN\n",
      "f  6.0   64    NaN\n",
      "g  NaN   73    NaN\n",
      "h  NaN   81    NaN\n",
      "Adding new row using DataFrame\n",
      "   one  two  three  four\n",
      "a  1.0   11    1.0  12.0\n",
      "b  2.0   21    2.0  23.0\n",
      "c  3.0   32    3.0  35.0\n",
      "d  4.0   43    NaN  47.0\n",
      "e  5.0   52    NaN  57.0\n",
      "f  6.0   64    NaN  70.0\n",
      "g  NaN   73    NaN   NaN\n",
      "h  NaN   81    NaN   NaN\n"
     ]
    }
   ]
  },
  {
   "cell_type": "markdown",
   "source": [],
   "metadata": {
    "id": "K5Bl2fekx3Mv"
   }
  },
  {
   "cell_type": "code",
   "metadata": {
    "colab": {
     "base_uri": "https://localhost:8080/"
    },
    "id": "5Spg8nue0Rz0",
    "executionInfo": {
     "status": "ok",
     "timestamp": 1631114748937,
     "user_tz": -330,
     "elapsed": 480,
     "user": {
      "displayName": "Trinanjan Daw",
      "photoUrl": "https://lh3.googleusercontent.com/a-/AOh14GhQQ7g7DJNZuSTt_3FZA-n_9Z86KEVtHZiC_Ks68g=s64",
      "userId": "06428610514401875874"
     }
    },
    "outputId": "9fb28356-168a-495d-d692-cc27591ee62e"
   },
   "source": [
    "import pandas as pd\n",
    "stu_roll = {'Roll':[701,704,705,706,707],\n",
    "            'Name':['Sayantan','Debpritam','Alapan','Sawan','Mama'],\n",
    "            'SGPA':[9.1,9.4,9.5,9.9,9.2]}\n",
    "details = pd.DataFrame(stu_roll)\n",
    "print(details)"
   ],
   "execution_count": null,
   "outputs": [
    {
     "output_type": "stream",
     "name": "stdout",
     "text": [
      "   Roll       Name  SGPA\n",
      "0   701   Sayantan   9.1\n",
      "1   704  Debpritam   9.4\n",
      "2   705     Alapan   9.5\n",
      "3   706      Sawan   9.9\n",
      "4   707       Mama   9.2\n"
     ]
    }
   ]
  },
  {
   "cell_type": "code",
   "metadata": {
    "id": "uzHtDf513jpU",
    "colab": {
     "base_uri": "https://localhost:8080/",
     "height": 295
    },
    "executionInfo": {
     "status": "ok",
     "timestamp": 1631114693010,
     "user_tz": -330,
     "elapsed": 618,
     "user": {
      "displayName": "Trinanjan Daw",
      "photoUrl": "https://lh3.googleusercontent.com/a-/AOh14GhQQ7g7DJNZuSTt_3FZA-n_9Z86KEVtHZiC_Ks68g=s64",
      "userId": "06428610514401875874"
     }
    },
    "outputId": "cced42f1-2473-491e-f313-a8a4daea95be"
   },
   "source": [
    "import pandas as pd\n",
    "info1 = pd.DataFrame({\"x\":[10,20,30,40],\"y\":[40,30,20,10]})\n",
    "info2 = pd.DataFrame({\"x\":[10,20,30,40],\"y\":[40,30,20,10],\"z\":[25,15,23,26]})\n",
    "info1.append(info2,ignore_index = True)"
   ],
   "execution_count": null,
   "outputs": [
    {
     "output_type": "execute_result",
     "data": {
      "text/html": [
       "<div>\n",
       "<style scoped>\n",
       "    .dataframe tbody tr th:only-of-type {\n",
       "        vertical-align: middle;\n",
       "    }\n",
       "\n",
       "    .dataframe tbody tr th {\n",
       "        vertical-align: top;\n",
       "    }\n",
       "\n",
       "    .dataframe thead th {\n",
       "        text-align: right;\n",
       "    }\n",
       "</style>\n",
       "<table border=\"1\" class=\"dataframe\">\n",
       "  <thead>\n",
       "    <tr style=\"text-align: right;\">\n",
       "      <th></th>\n",
       "      <th>x</th>\n",
       "      <th>y</th>\n",
       "      <th>z</th>\n",
       "    </tr>\n",
       "  </thead>\n",
       "  <tbody>\n",
       "    <tr>\n",
       "      <th>0</th>\n",
       "      <td>10</td>\n",
       "      <td>40</td>\n",
       "      <td>NaN</td>\n",
       "    </tr>\n",
       "    <tr>\n",
       "      <th>1</th>\n",
       "      <td>20</td>\n",
       "      <td>30</td>\n",
       "      <td>NaN</td>\n",
       "    </tr>\n",
       "    <tr>\n",
       "      <th>2</th>\n",
       "      <td>30</td>\n",
       "      <td>20</td>\n",
       "      <td>NaN</td>\n",
       "    </tr>\n",
       "    <tr>\n",
       "      <th>3</th>\n",
       "      <td>40</td>\n",
       "      <td>10</td>\n",
       "      <td>NaN</td>\n",
       "    </tr>\n",
       "    <tr>\n",
       "      <th>4</th>\n",
       "      <td>10</td>\n",
       "      <td>40</td>\n",
       "      <td>25.0</td>\n",
       "    </tr>\n",
       "    <tr>\n",
       "      <th>5</th>\n",
       "      <td>20</td>\n",
       "      <td>30</td>\n",
       "      <td>15.0</td>\n",
       "    </tr>\n",
       "    <tr>\n",
       "      <th>6</th>\n",
       "      <td>30</td>\n",
       "      <td>20</td>\n",
       "      <td>23.0</td>\n",
       "    </tr>\n",
       "    <tr>\n",
       "      <th>7</th>\n",
       "      <td>40</td>\n",
       "      <td>10</td>\n",
       "      <td>26.0</td>\n",
       "    </tr>\n",
       "  </tbody>\n",
       "</table>\n",
       "</div>"
      ],
      "text/plain": [
       "    x   y     z\n",
       "0  10  40   NaN\n",
       "1  20  30   NaN\n",
       "2  30  20   NaN\n",
       "3  40  10   NaN\n",
       "4  10  40  25.0\n",
       "5  20  30  15.0\n",
       "6  30  20  23.0\n",
       "7  40  10  26.0"
      ]
     },
     "metadata": {},
     "execution_count": 44
    }
   ]
  },
  {
   "cell_type": "code",
   "metadata": {
    "id": "gWmgVguY79Od",
    "colab": {
     "base_uri": "https://localhost:8080/",
     "height": 401
    },
    "executionInfo": {
     "status": "ok",
     "timestamp": 1631115312010,
     "user_tz": -330,
     "elapsed": 551,
     "user": {
      "displayName": "Trinanjan Daw",
      "photoUrl": "https://lh3.googleusercontent.com/a-/AOh14GhQQ7g7DJNZuSTt_3FZA-n_9Z86KEVtHZiC_Ks68g=s64",
      "userId": "06428610514401875874"
     }
    },
    "outputId": "3975348e-62e1-4d90-b361-1a521c571170"
   },
   "source": [
    "import pandas as pd\n",
    "info1 = pd.DataFrame({\"x\":[10,20,30,40],\"y\":[40,30,20,10]})\n",
    "info2 = pd.DataFrame({\"x\":[10,20,30,40],\"y\":[40,30,20,10],\"z\":[25,15,23,26]})\n",
    "print(info1,\"\\n\")\n",
    "info2\n",
    "info1.append(info2)\n",
    "info1.append(info2,ignore_index = True)"
   ],
   "execution_count": null,
   "outputs": [
    {
     "output_type": "stream",
     "name": "stdout",
     "text": [
      "    x   y\n",
      "0  10  40\n",
      "1  20  30\n",
      "2  30  20\n",
      "3  40  10 \n",
      "\n"
     ]
    },
    {
     "output_type": "execute_result",
     "data": {
      "text/html": [
       "<div>\n",
       "<style scoped>\n",
       "    .dataframe tbody tr th:only-of-type {\n",
       "        vertical-align: middle;\n",
       "    }\n",
       "\n",
       "    .dataframe tbody tr th {\n",
       "        vertical-align: top;\n",
       "    }\n",
       "\n",
       "    .dataframe thead th {\n",
       "        text-align: right;\n",
       "    }\n",
       "</style>\n",
       "<table border=\"1\" class=\"dataframe\">\n",
       "  <thead>\n",
       "    <tr style=\"text-align: right;\">\n",
       "      <th></th>\n",
       "      <th>x</th>\n",
       "      <th>y</th>\n",
       "      <th>z</th>\n",
       "    </tr>\n",
       "  </thead>\n",
       "  <tbody>\n",
       "    <tr>\n",
       "      <th>0</th>\n",
       "      <td>10</td>\n",
       "      <td>40</td>\n",
       "      <td>NaN</td>\n",
       "    </tr>\n",
       "    <tr>\n",
       "      <th>1</th>\n",
       "      <td>20</td>\n",
       "      <td>30</td>\n",
       "      <td>NaN</td>\n",
       "    </tr>\n",
       "    <tr>\n",
       "      <th>2</th>\n",
       "      <td>30</td>\n",
       "      <td>20</td>\n",
       "      <td>NaN</td>\n",
       "    </tr>\n",
       "    <tr>\n",
       "      <th>3</th>\n",
       "      <td>40</td>\n",
       "      <td>10</td>\n",
       "      <td>NaN</td>\n",
       "    </tr>\n",
       "    <tr>\n",
       "      <th>4</th>\n",
       "      <td>10</td>\n",
       "      <td>40</td>\n",
       "      <td>25.0</td>\n",
       "    </tr>\n",
       "    <tr>\n",
       "      <th>5</th>\n",
       "      <td>20</td>\n",
       "      <td>30</td>\n",
       "      <td>15.0</td>\n",
       "    </tr>\n",
       "    <tr>\n",
       "      <th>6</th>\n",
       "      <td>30</td>\n",
       "      <td>20</td>\n",
       "      <td>23.0</td>\n",
       "    </tr>\n",
       "    <tr>\n",
       "      <th>7</th>\n",
       "      <td>40</td>\n",
       "      <td>10</td>\n",
       "      <td>26.0</td>\n",
       "    </tr>\n",
       "  </tbody>\n",
       "</table>\n",
       "</div>"
      ],
      "text/plain": [
       "    x   y     z\n",
       "0  10  40   NaN\n",
       "1  20  30   NaN\n",
       "2  30  20   NaN\n",
       "3  40  10   NaN\n",
       "4  10  40  25.0\n",
       "5  20  30  15.0\n",
       "6  30  20  23.0\n",
       "7  40  10  26.0"
      ]
     },
     "metadata": {},
     "execution_count": 47
    }
   ]
  },
  {
   "cell_type": "code",
   "metadata": {
    "id": "BF6rCA-15-4Y",
    "colab": {
     "base_uri": "https://localhost:8080/",
     "height": 735
    },
    "executionInfo": {
     "status": "ok",
     "timestamp": 1631255285465,
     "user_tz": -330,
     "elapsed": 475,
     "user": {
      "displayName": "Trinanjan Daw",
      "photoUrl": "https://lh3.googleusercontent.com/a-/AOh14GhQQ7g7DJNZuSTt_3FZA-n_9Z86KEVtHZiC_Ks68g=s64",
      "userId": "06428610514401875874"
     }
    },
    "outputId": "84d3744d-db25-4b8a-b0d9-a0099e7faa36"
   },
   "source": [
    "import pandas as pd\n",
    "info1 = pd.DataFrame({\"x\":[1,2,3,4,5,6,7,8,9],\"index1\":['a','b','c','d','e','f','g','h','i']})\n",
    "info2 = pd.DataFrame({\"x\":[1,2,3,4,5,6,7],\"index2\":['a','b','c','d','e','f','g']})\n",
    "print(info1,\"\\n\")\n",
    "info2\n",
    "info1.append(info2)\n",
    "info1.append(info2,ignore_index = True)"
   ],
   "execution_count": null,
   "outputs": [
    {
     "output_type": "stream",
     "name": "stdout",
     "text": [
      "   x index1\n",
      "0  1      a\n",
      "1  2      b\n",
      "2  3      c\n",
      "3  4      d\n",
      "4  5      e\n",
      "5  6      f\n",
      "6  7      g\n",
      "7  8      h\n",
      "8  9      i \n",
      "\n"
     ]
    },
    {
     "output_type": "execute_result",
     "data": {
      "text/html": [
       "<div>\n",
       "<style scoped>\n",
       "    .dataframe tbody tr th:only-of-type {\n",
       "        vertical-align: middle;\n",
       "    }\n",
       "\n",
       "    .dataframe tbody tr th {\n",
       "        vertical-align: top;\n",
       "    }\n",
       "\n",
       "    .dataframe thead th {\n",
       "        text-align: right;\n",
       "    }\n",
       "</style>\n",
       "<table border=\"1\" class=\"dataframe\">\n",
       "  <thead>\n",
       "    <tr style=\"text-align: right;\">\n",
       "      <th></th>\n",
       "      <th>x</th>\n",
       "      <th>index1</th>\n",
       "      <th>index2</th>\n",
       "    </tr>\n",
       "  </thead>\n",
       "  <tbody>\n",
       "    <tr>\n",
       "      <th>0</th>\n",
       "      <td>1</td>\n",
       "      <td>a</td>\n",
       "      <td>NaN</td>\n",
       "    </tr>\n",
       "    <tr>\n",
       "      <th>1</th>\n",
       "      <td>2</td>\n",
       "      <td>b</td>\n",
       "      <td>NaN</td>\n",
       "    </tr>\n",
       "    <tr>\n",
       "      <th>2</th>\n",
       "      <td>3</td>\n",
       "      <td>c</td>\n",
       "      <td>NaN</td>\n",
       "    </tr>\n",
       "    <tr>\n",
       "      <th>3</th>\n",
       "      <td>4</td>\n",
       "      <td>d</td>\n",
       "      <td>NaN</td>\n",
       "    </tr>\n",
       "    <tr>\n",
       "      <th>4</th>\n",
       "      <td>5</td>\n",
       "      <td>e</td>\n",
       "      <td>NaN</td>\n",
       "    </tr>\n",
       "    <tr>\n",
       "      <th>5</th>\n",
       "      <td>6</td>\n",
       "      <td>f</td>\n",
       "      <td>NaN</td>\n",
       "    </tr>\n",
       "    <tr>\n",
       "      <th>6</th>\n",
       "      <td>7</td>\n",
       "      <td>g</td>\n",
       "      <td>NaN</td>\n",
       "    </tr>\n",
       "    <tr>\n",
       "      <th>7</th>\n",
       "      <td>8</td>\n",
       "      <td>h</td>\n",
       "      <td>NaN</td>\n",
       "    </tr>\n",
       "    <tr>\n",
       "      <th>8</th>\n",
       "      <td>9</td>\n",
       "      <td>i</td>\n",
       "      <td>NaN</td>\n",
       "    </tr>\n",
       "    <tr>\n",
       "      <th>9</th>\n",
       "      <td>1</td>\n",
       "      <td>NaN</td>\n",
       "      <td>a</td>\n",
       "    </tr>\n",
       "    <tr>\n",
       "      <th>10</th>\n",
       "      <td>2</td>\n",
       "      <td>NaN</td>\n",
       "      <td>b</td>\n",
       "    </tr>\n",
       "    <tr>\n",
       "      <th>11</th>\n",
       "      <td>3</td>\n",
       "      <td>NaN</td>\n",
       "      <td>c</td>\n",
       "    </tr>\n",
       "    <tr>\n",
       "      <th>12</th>\n",
       "      <td>4</td>\n",
       "      <td>NaN</td>\n",
       "      <td>d</td>\n",
       "    </tr>\n",
       "    <tr>\n",
       "      <th>13</th>\n",
       "      <td>5</td>\n",
       "      <td>NaN</td>\n",
       "      <td>e</td>\n",
       "    </tr>\n",
       "    <tr>\n",
       "      <th>14</th>\n",
       "      <td>6</td>\n",
       "      <td>NaN</td>\n",
       "      <td>f</td>\n",
       "    </tr>\n",
       "    <tr>\n",
       "      <th>15</th>\n",
       "      <td>7</td>\n",
       "      <td>NaN</td>\n",
       "      <td>g</td>\n",
       "    </tr>\n",
       "  </tbody>\n",
       "</table>\n",
       "</div>"
      ],
      "text/plain": [
       "    x index1 index2\n",
       "0   1      a    NaN\n",
       "1   2      b    NaN\n",
       "2   3      c    NaN\n",
       "3   4      d    NaN\n",
       "4   5      e    NaN\n",
       "5   6      f    NaN\n",
       "6   7      g    NaN\n",
       "7   8      h    NaN\n",
       "8   9      i    NaN\n",
       "9   1    NaN      a\n",
       "10  2    NaN      b\n",
       "11  3    NaN      c\n",
       "12  4    NaN      d\n",
       "13  5    NaN      e\n",
       "14  6    NaN      f\n",
       "15  7    NaN      g"
      ]
     },
     "metadata": {},
     "execution_count": 24
    }
   ]
  },
  {
   "cell_type": "code",
   "metadata": {
    "colab": {
     "base_uri": "https://localhost:8080/"
    },
    "id": "FjxEqsduUMex",
    "executionInfo": {
     "status": "ok",
     "timestamp": 1660225056524,
     "user_tz": -330,
     "elapsed": 616,
     "user": {
      "displayName": "Trinanjan Daw",
      "userId": "06428610514401875874"
     }
    },
    "outputId": "b2cb6a78-27d4-4dfc-9f99-52190de37ac1"
   },
   "source": [
    "import pandas as pd\n",
    "axis1 = pd.DataFrame([[2,9],[4,5],[7,8]],columns = ['x','y'])\n",
    "axis2 = pd.DataFrame([[1,7],[3,5],[6,10]],columns = ['x','y'])\n",
    "#axis1.append(axis2,ignore_index=True)\n",
    "#axis1.drop(0)\n",
    "#axis2\n",
    "print(axis1)"
   ],
   "execution_count": null,
   "outputs": [
    {
     "output_type": "stream",
     "name": "stdout",
     "text": [
      "   x  y\n",
      "0  2  9\n",
      "1  4  5\n",
      "2  7  8\n"
     ]
    }
   ]
  },
  {
   "cell_type": "code",
   "metadata": {
    "colab": {
     "base_uri": "https://localhost:8080/"
    },
    "id": "-erSUG7ha4-4",
    "executionInfo": {
     "status": "ok",
     "timestamp": 1660225246186,
     "user_tz": -330,
     "elapsed": 651,
     "user": {
      "displayName": "Trinanjan Daw",
      "userId": "06428610514401875874"
     }
    },
    "outputId": "920a4d87-7f7f-4ef9-c951-d94ff3ee0127"
   },
   "source": [
    "import pandas as pd\n",
    "import numpy as np\n",
    "info = pd.DataFrame([[2,8]]*4,columns = ['x','y'])\n",
    "#info.apply(np.sqrt)\n",
    "#info.apply(np.sum,axis =0)\n",
    "info.apply(np.sum,axis =1)\n",
    "#info"
   ],
   "execution_count": null,
   "outputs": [
    {
     "output_type": "execute_result",
     "data": {
      "text/plain": [
       "0    10\n",
       "1    10\n",
       "2    10\n",
       "3    10\n",
       "dtype: int64"
      ]
     },
     "metadata": {},
     "execution_count": 7
    }
   ]
  },
  {
   "cell_type": "code",
   "metadata": {
    "id": "1qokEkkscnh7",
    "colab": {
     "base_uri": "https://localhost:8080/",
     "height": 112
    },
    "executionInfo": {
     "status": "ok",
     "timestamp": 1660225426060,
     "user_tz": -330,
     "elapsed": 718,
     "user": {
      "displayName": "Trinanjan Daw",
      "userId": "06428610514401875874"
     }
    },
    "outputId": "1dde808f-13f3-44b1-d8d9-01026c72feb1"
   },
   "source": [
    "import pandas as pd\n",
    "#import numpy as np\n",
    "info = pd.DataFrame([[10,21,32,45],[4,2,45,37]],columns = ['x','y','z','p'])\n",
    "info.agg(['min','sum'])\n",
    "#info\n"
   ],
   "execution_count": null,
   "outputs": [
    {
     "output_type": "execute_result",
     "data": {
      "text/plain": [
       "      x   y   z   p\n",
       "min   4   2  32  37\n",
       "sum  14  23  77  82"
      ],
      "text/html": [
       "\n",
       "  <div id=\"df-f34c3283-d98f-4d85-8ebb-5a63e3eef93b\">\n",
       "    <div class=\"colab-df-container\">\n",
       "      <div>\n",
       "<style scoped>\n",
       "    .dataframe tbody tr th:only-of-type {\n",
       "        vertical-align: middle;\n",
       "    }\n",
       "\n",
       "    .dataframe tbody tr th {\n",
       "        vertical-align: top;\n",
       "    }\n",
       "\n",
       "    .dataframe thead th {\n",
       "        text-align: right;\n",
       "    }\n",
       "</style>\n",
       "<table border=\"1\" class=\"dataframe\">\n",
       "  <thead>\n",
       "    <tr style=\"text-align: right;\">\n",
       "      <th></th>\n",
       "      <th>x</th>\n",
       "      <th>y</th>\n",
       "      <th>z</th>\n",
       "      <th>p</th>\n",
       "    </tr>\n",
       "  </thead>\n",
       "  <tbody>\n",
       "    <tr>\n",
       "      <th>min</th>\n",
       "      <td>4</td>\n",
       "      <td>2</td>\n",
       "      <td>32</td>\n",
       "      <td>37</td>\n",
       "    </tr>\n",
       "    <tr>\n",
       "      <th>sum</th>\n",
       "      <td>14</td>\n",
       "      <td>23</td>\n",
       "      <td>77</td>\n",
       "      <td>82</td>\n",
       "    </tr>\n",
       "  </tbody>\n",
       "</table>\n",
       "</div>\n",
       "      <button class=\"colab-df-convert\" onclick=\"convertToInteractive('df-f34c3283-d98f-4d85-8ebb-5a63e3eef93b')\"\n",
       "              title=\"Convert this dataframe to an interactive table.\"\n",
       "              style=\"display:none;\">\n",
       "        \n",
       "  <svg xmlns=\"http://www.w3.org/2000/svg\" height=\"24px\"viewBox=\"0 0 24 24\"\n",
       "       width=\"24px\">\n",
       "    <path d=\"M0 0h24v24H0V0z\" fill=\"none\"/>\n",
       "    <path d=\"M18.56 5.44l.94 2.06.94-2.06 2.06-.94-2.06-.94-.94-2.06-.94 2.06-2.06.94zm-11 1L8.5 8.5l.94-2.06 2.06-.94-2.06-.94L8.5 2.5l-.94 2.06-2.06.94zm10 10l.94 2.06.94-2.06 2.06-.94-2.06-.94-.94-2.06-.94 2.06-2.06.94z\"/><path d=\"M17.41 7.96l-1.37-1.37c-.4-.4-.92-.59-1.43-.59-.52 0-1.04.2-1.43.59L10.3 9.45l-7.72 7.72c-.78.78-.78 2.05 0 2.83L4 21.41c.39.39.9.59 1.41.59.51 0 1.02-.2 1.41-.59l7.78-7.78 2.81-2.81c.8-.78.8-2.07 0-2.86zM5.41 20L4 18.59l7.72-7.72 1.47 1.35L5.41 20z\"/>\n",
       "  </svg>\n",
       "      </button>\n",
       "      \n",
       "  <style>\n",
       "    .colab-df-container {\n",
       "      display:flex;\n",
       "      flex-wrap:wrap;\n",
       "      gap: 12px;\n",
       "    }\n",
       "\n",
       "    .colab-df-convert {\n",
       "      background-color: #E8F0FE;\n",
       "      border: none;\n",
       "      border-radius: 50%;\n",
       "      cursor: pointer;\n",
       "      display: none;\n",
       "      fill: #1967D2;\n",
       "      height: 32px;\n",
       "      padding: 0 0 0 0;\n",
       "      width: 32px;\n",
       "    }\n",
       "\n",
       "    .colab-df-convert:hover {\n",
       "      background-color: #E2EBFA;\n",
       "      box-shadow: 0px 1px 2px rgba(60, 64, 67, 0.3), 0px 1px 3px 1px rgba(60, 64, 67, 0.15);\n",
       "      fill: #174EA6;\n",
       "    }\n",
       "\n",
       "    [theme=dark] .colab-df-convert {\n",
       "      background-color: #3B4455;\n",
       "      fill: #D2E3FC;\n",
       "    }\n",
       "\n",
       "    [theme=dark] .colab-df-convert:hover {\n",
       "      background-color: #434B5C;\n",
       "      box-shadow: 0px 1px 3px 1px rgba(0, 0, 0, 0.15);\n",
       "      filter: drop-shadow(0px 1px 2px rgba(0, 0, 0, 0.3));\n",
       "      fill: #FFFFFF;\n",
       "    }\n",
       "  </style>\n",
       "\n",
       "      <script>\n",
       "        const buttonEl =\n",
       "          document.querySelector('#df-f34c3283-d98f-4d85-8ebb-5a63e3eef93b button.colab-df-convert');\n",
       "        buttonEl.style.display =\n",
       "          google.colab.kernel.accessAllowed ? 'block' : 'none';\n",
       "\n",
       "        async function convertToInteractive(key) {\n",
       "          const element = document.querySelector('#df-f34c3283-d98f-4d85-8ebb-5a63e3eef93b');\n",
       "          const dataTable =\n",
       "            await google.colab.kernel.invokeFunction('convertToInteractive',\n",
       "                                                     [key], {});\n",
       "          if (!dataTable) return;\n",
       "\n",
       "          const docLinkHtml = 'Like what you see? Visit the ' +\n",
       "            '<a target=\"_blank\" href=https://colab.research.google.com/notebooks/data_table.ipynb>data table notebook</a>'\n",
       "            + ' to learn more about interactive tables.';\n",
       "          element.innerHTML = '';\n",
       "          dataTable['output_type'] = 'display_data';\n",
       "          await google.colab.output.renderOutput(dataTable, element);\n",
       "          const docLink = document.createElement('div');\n",
       "          docLink.innerHTML = docLinkHtml;\n",
       "          element.appendChild(docLink);\n",
       "        }\n",
       "      </script>\n",
       "    </div>\n",
       "  </div>\n",
       "  "
      ]
     },
     "metadata": {},
     "execution_count": 9
    }
   ]
  },
  {
   "cell_type": "code",
   "metadata": {
    "colab": {
     "base_uri": "https://localhost:8080/"
    },
    "id": "34KtyZ3oyhuK",
    "executionInfo": {
     "status": "ok",
     "timestamp": 1660225826545,
     "user_tz": -330,
     "elapsed": 621,
     "user": {
      "displayName": "Trinanjan Daw",
      "userId": "06428610514401875874"
     }
    },
    "outputId": "87b730df-ea98-4578-812e-4136628f0fa7"
   },
   "source": [
    "import pandas as pd\n",
    "info = pd.DataFrame()\n",
    "info\n",
    "info['ID'] = [701,702,703,704,705]\n",
    "info\n",
    "info.assign(Name = ['Artira','Sourojit','Anik','Ankit','Ram'])\n",
    "info\n",
    "info.assign(Marks = [90,92,80,99,100])\n",
    "info.agg('min')\n"
   ],
   "execution_count": null,
   "outputs": [
    {
     "output_type": "execute_result",
     "data": {
      "text/plain": [
       "ID    701\n",
       "dtype: int64"
      ]
     },
     "metadata": {},
     "execution_count": 19
    }
   ]
  },
  {
   "cell_type": "code",
   "metadata": {
    "colab": {
     "base_uri": "https://localhost:8080/"
    },
    "id": "B-Jt23xO0okC",
    "executionInfo": {
     "status": "ok",
     "timestamp": 1660225967657,
     "user_tz": -330,
     "elapsed": 617,
     "user": {
      "displayName": "Trinanjan Daw",
      "userId": "06428610514401875874"
     }
    },
    "outputId": "3b4ac43a-c5cc-4af7-c08f-61cde2cb2ba3"
   },
   "source": [
    "import pandas as pd\n",
    "import numpy as np\n",
    "info = pd.DataFrame({'Name':('XU','RKMVU','RKMVCC','Narendrapur','Bethun','Presidency'),\n",
    "                      'Rankings':(4,5,15,21,np.nan,np.nan)})\n",
    "info.count()\n",
    "info.count(axis = 'columns')\n",
    "#info"
   ],
   "execution_count": null,
   "outputs": [
    {
     "output_type": "execute_result",
     "data": {
      "text/plain": [
       "0    2\n",
       "1    2\n",
       "2    2\n",
       "3    2\n",
       "4    1\n",
       "5    1\n",
       "dtype: int64"
      ]
     },
     "metadata": {},
     "execution_count": 21
    }
   ]
  },
  {
   "cell_type": "code",
   "metadata": {
    "id": "rx4xrkdW3ZNk",
    "colab": {
     "base_uri": "https://localhost:8080/"
    },
    "executionInfo": {
     "status": "ok",
     "timestamp": 1660226057432,
     "user_tz": -330,
     "elapsed": 932,
     "user": {
      "displayName": "Trinanjan Daw",
      "userId": "06428610514401875874"
     }
    },
    "outputId": "a2777527-4233-4a29-c0dd-00b499c79c9d"
   },
   "source": [
    "import pandas as pd  \n",
    "import numpy as np  \n",
    "info_nums = pd.DataFrame({'num': np.random.randint(1, 50, 11)})  \n",
    "print(info_nums) \n",
    "\n",
    "info_nums['num_bins'] = pd.cut(x=info_nums['num'], bins=[1, 25, 50])  \n",
    "print(info_nums)  \n",
    "print(info_nums['num_bins'].unique())"
   ],
   "execution_count": null,
   "outputs": [
    {
     "output_type": "stream",
     "name": "stdout",
     "text": [
      "    num\n",
      "0    12\n",
      "1    35\n",
      "2    30\n",
      "3    34\n",
      "4    49\n",
      "5     6\n",
      "6    42\n",
      "7    48\n",
      "8    42\n",
      "9     5\n",
      "10   19\n",
      "    num  num_bins\n",
      "0    12   (1, 25]\n",
      "1    35  (25, 50]\n",
      "2    30  (25, 50]\n",
      "3    34  (25, 50]\n",
      "4    49  (25, 50]\n",
      "5     6   (1, 25]\n",
      "6    42  (25, 50]\n",
      "7    48  (25, 50]\n",
      "8    42  (25, 50]\n",
      "9     5   (1, 25]\n",
      "10   19   (1, 25]\n",
      "[(1, 25], (25, 50]]\n",
      "Categories (2, interval[int64, right]): [(1, 25] < (25, 50]]\n"
     ]
    }
   ]
  },
  {
   "cell_type": "code",
   "metadata": {
    "colab": {
     "base_uri": "https://localhost:8080/"
    },
    "id": "-1YMtLr2Bvq7",
    "executionInfo": {
     "status": "ok",
     "timestamp": 1660226446887,
     "user_tz": -330,
     "elapsed": 8,
     "user": {
      "displayName": "Trinanjan Daw",
      "userId": "06428610514401875874"
     }
    },
    "outputId": "2fd4281e-010d-4730-a0e4-d3edf4c459bc"
   },
   "source": [
    "import pandas as pd  \n",
    "import numpy as np  \n",
    "info_nums = pd.DataFrame({'num': np.random.randint(1, 10, 7)})  \n",
    "print(info_nums)  \n",
    "info_nums['nums_labels'] = pd.cut(x=info_nums['num'], bins=[1, 4, 10], labels=['Low', 'High'],right=True)  \n",
    "print(info_nums)  \n",
    "print(info_nums['nums_labels'].unique())  "
   ],
   "execution_count": null,
   "outputs": [
    {
     "output_type": "stream",
     "name": "stdout",
     "text": [
      "   num\n",
      "0    7\n",
      "1    8\n",
      "2    6\n",
      "3    7\n",
      "4    4\n",
      "5    7\n",
      "6    3\n",
      "   num nums_labels\n",
      "0    7        High\n",
      "1    8        High\n",
      "2    6        High\n",
      "3    7        High\n",
      "4    4         Low\n",
      "5    7        High\n",
      "6    3         Low\n",
      "['High', 'Low']\n",
      "Categories (2, object): ['Low' < 'High']\n"
     ]
    }
   ]
  },
  {
   "cell_type": "code",
   "metadata": {
    "colab": {
     "base_uri": "https://localhost:8080/",
     "height": 247
    },
    "id": "zmf3KQ92Cqph",
    "executionInfo": {
     "status": "ok",
     "timestamp": 1660226521796,
     "user_tz": -330,
     "elapsed": 732,
     "user": {
      "displayName": "Trinanjan Daw",
      "userId": "06428610514401875874"
     }
    },
    "outputId": "1dee636d-cc41-494d-b8c9-18a7eecc44dc"
   },
   "source": [
    "    #Describing the data\n",
    "import pandas as pd  \n",
    "import numpy as np  \n",
    "a1 = pd.Series([1, 2, 3])  \n",
    "a1.describe()  \n",
    "a1 = pd.Series(['p', 'q', 'q', 'r'])  \n",
    "a1.describe()  \n",
    "info = pd.DataFrame({'categorical': pd.Categorical(['u','v','w']),  \n",
    "    'numeric': [1, 2, 3],  \n",
    "    'object': ['p', 'q', 'r']  \n",
    "     })  \n",
    "info.describe(include=[np.number])  \n",
    "info.describe(include=[np.object])  \n",
    "info.describe(include=['category'])  "
   ],
   "execution_count": null,
   "outputs": [
    {
     "output_type": "stream",
     "name": "stderr",
     "text": [
      "/usr/local/lib/python3.7/dist-packages/ipykernel_launcher.py:13: DeprecationWarning: `np.object` is a deprecated alias for the builtin `object`. To silence this warning, use `object` by itself. Doing this will not modify any behavior and is safe. \n",
      "Deprecated in NumPy 1.20; for more details and guidance: https://numpy.org/devdocs/release/1.20.0-notes.html#deprecations\n",
      "  del sys.path[0]\n"
     ]
    },
    {
     "output_type": "execute_result",
     "data": {
      "text/plain": [
       "       categorical\n",
       "count            3\n",
       "unique           3\n",
       "top              u\n",
       "freq             1"
      ],
      "text/html": [
       "\n",
       "  <div id=\"df-5c5a95e9-4056-4fe0-af48-344d69367ea7\">\n",
       "    <div class=\"colab-df-container\">\n",
       "      <div>\n",
       "<style scoped>\n",
       "    .dataframe tbody tr th:only-of-type {\n",
       "        vertical-align: middle;\n",
       "    }\n",
       "\n",
       "    .dataframe tbody tr th {\n",
       "        vertical-align: top;\n",
       "    }\n",
       "\n",
       "    .dataframe thead th {\n",
       "        text-align: right;\n",
       "    }\n",
       "</style>\n",
       "<table border=\"1\" class=\"dataframe\">\n",
       "  <thead>\n",
       "    <tr style=\"text-align: right;\">\n",
       "      <th></th>\n",
       "      <th>categorical</th>\n",
       "    </tr>\n",
       "  </thead>\n",
       "  <tbody>\n",
       "    <tr>\n",
       "      <th>count</th>\n",
       "      <td>3</td>\n",
       "    </tr>\n",
       "    <tr>\n",
       "      <th>unique</th>\n",
       "      <td>3</td>\n",
       "    </tr>\n",
       "    <tr>\n",
       "      <th>top</th>\n",
       "      <td>u</td>\n",
       "    </tr>\n",
       "    <tr>\n",
       "      <th>freq</th>\n",
       "      <td>1</td>\n",
       "    </tr>\n",
       "  </tbody>\n",
       "</table>\n",
       "</div>\n",
       "      <button class=\"colab-df-convert\" onclick=\"convertToInteractive('df-5c5a95e9-4056-4fe0-af48-344d69367ea7')\"\n",
       "              title=\"Convert this dataframe to an interactive table.\"\n",
       "              style=\"display:none;\">\n",
       "        \n",
       "  <svg xmlns=\"http://www.w3.org/2000/svg\" height=\"24px\"viewBox=\"0 0 24 24\"\n",
       "       width=\"24px\">\n",
       "    <path d=\"M0 0h24v24H0V0z\" fill=\"none\"/>\n",
       "    <path d=\"M18.56 5.44l.94 2.06.94-2.06 2.06-.94-2.06-.94-.94-2.06-.94 2.06-2.06.94zm-11 1L8.5 8.5l.94-2.06 2.06-.94-2.06-.94L8.5 2.5l-.94 2.06-2.06.94zm10 10l.94 2.06.94-2.06 2.06-.94-2.06-.94-.94-2.06-.94 2.06-2.06.94z\"/><path d=\"M17.41 7.96l-1.37-1.37c-.4-.4-.92-.59-1.43-.59-.52 0-1.04.2-1.43.59L10.3 9.45l-7.72 7.72c-.78.78-.78 2.05 0 2.83L4 21.41c.39.39.9.59 1.41.59.51 0 1.02-.2 1.41-.59l7.78-7.78 2.81-2.81c.8-.78.8-2.07 0-2.86zM5.41 20L4 18.59l7.72-7.72 1.47 1.35L5.41 20z\"/>\n",
       "  </svg>\n",
       "      </button>\n",
       "      \n",
       "  <style>\n",
       "    .colab-df-container {\n",
       "      display:flex;\n",
       "      flex-wrap:wrap;\n",
       "      gap: 12px;\n",
       "    }\n",
       "\n",
       "    .colab-df-convert {\n",
       "      background-color: #E8F0FE;\n",
       "      border: none;\n",
       "      border-radius: 50%;\n",
       "      cursor: pointer;\n",
       "      display: none;\n",
       "      fill: #1967D2;\n",
       "      height: 32px;\n",
       "      padding: 0 0 0 0;\n",
       "      width: 32px;\n",
       "    }\n",
       "\n",
       "    .colab-df-convert:hover {\n",
       "      background-color: #E2EBFA;\n",
       "      box-shadow: 0px 1px 2px rgba(60, 64, 67, 0.3), 0px 1px 3px 1px rgba(60, 64, 67, 0.15);\n",
       "      fill: #174EA6;\n",
       "    }\n",
       "\n",
       "    [theme=dark] .colab-df-convert {\n",
       "      background-color: #3B4455;\n",
       "      fill: #D2E3FC;\n",
       "    }\n",
       "\n",
       "    [theme=dark] .colab-df-convert:hover {\n",
       "      background-color: #434B5C;\n",
       "      box-shadow: 0px 1px 3px 1px rgba(0, 0, 0, 0.15);\n",
       "      filter: drop-shadow(0px 1px 2px rgba(0, 0, 0, 0.3));\n",
       "      fill: #FFFFFF;\n",
       "    }\n",
       "  </style>\n",
       "\n",
       "      <script>\n",
       "        const buttonEl =\n",
       "          document.querySelector('#df-5c5a95e9-4056-4fe0-af48-344d69367ea7 button.colab-df-convert');\n",
       "        buttonEl.style.display =\n",
       "          google.colab.kernel.accessAllowed ? 'block' : 'none';\n",
       "\n",
       "        async function convertToInteractive(key) {\n",
       "          const element = document.querySelector('#df-5c5a95e9-4056-4fe0-af48-344d69367ea7');\n",
       "          const dataTable =\n",
       "            await google.colab.kernel.invokeFunction('convertToInteractive',\n",
       "                                                     [key], {});\n",
       "          if (!dataTable) return;\n",
       "\n",
       "          const docLinkHtml = 'Like what you see? Visit the ' +\n",
       "            '<a target=\"_blank\" href=https://colab.research.google.com/notebooks/data_table.ipynb>data table notebook</a>'\n",
       "            + ' to learn more about interactive tables.';\n",
       "          element.innerHTML = '';\n",
       "          dataTable['output_type'] = 'display_data';\n",
       "          await google.colab.output.renderOutput(dataTable, element);\n",
       "          const docLink = document.createElement('div');\n",
       "          docLink.innerHTML = docLinkHtml;\n",
       "          element.appendChild(docLink);\n",
       "        }\n",
       "      </script>\n",
       "    </div>\n",
       "  </div>\n",
       "  "
      ]
     },
     "metadata": {},
     "execution_count": 27
    }
   ]
  },
  {
   "cell_type": "code",
   "metadata": {
    "colab": {
     "base_uri": "https://localhost:8080/",
     "height": 143
    },
    "id": "NQUNH2f-FYvC",
    "executionInfo": {
     "status": "ok",
     "timestamp": 1633012619219,
     "user_tz": -330,
     "elapsed": 629,
     "user": {
      "displayName": "Trinanjan Daw",
      "photoUrl": "https://lh3.googleusercontent.com/a-/AOh14GhQQ7g7DJNZuSTt_3FZA-n_9Z86KEVtHZiC_Ks68g=s64",
      "userId": "06428610514401875874"
     }
    },
    "outputId": "3855568f-f49b-4522-b1af-bd842564073f"
   },
   "source": [
    "#Removing Duplicates\n",
    "import pandas as pd\n",
    "info = pd.DataFrame({\"Name\":[\"Alapan\",\"Venky\",\"Venky\",\"Harish\"],\"Age\":[21,31,31,41]})\n",
    "info\n",
    "info.drop_duplicates()\n",
    "#data = pd.DataFrame(info)\n",
    "#data"
   ],
   "execution_count": null,
   "outputs": [
    {
     "output_type": "execute_result",
     "data": {
      "text/html": [
       "<div>\n",
       "<style scoped>\n",
       "    .dataframe tbody tr th:only-of-type {\n",
       "        vertical-align: middle;\n",
       "    }\n",
       "\n",
       "    .dataframe tbody tr th {\n",
       "        vertical-align: top;\n",
       "    }\n",
       "\n",
       "    .dataframe thead th {\n",
       "        text-align: right;\n",
       "    }\n",
       "</style>\n",
       "<table border=\"1\" class=\"dataframe\">\n",
       "  <thead>\n",
       "    <tr style=\"text-align: right;\">\n",
       "      <th></th>\n",
       "      <th>Name</th>\n",
       "      <th>Age</th>\n",
       "    </tr>\n",
       "  </thead>\n",
       "  <tbody>\n",
       "    <tr>\n",
       "      <th>0</th>\n",
       "      <td>Alapan</td>\n",
       "      <td>21</td>\n",
       "    </tr>\n",
       "    <tr>\n",
       "      <th>1</th>\n",
       "      <td>Venky</td>\n",
       "      <td>31</td>\n",
       "    </tr>\n",
       "    <tr>\n",
       "      <th>3</th>\n",
       "      <td>Harish</td>\n",
       "      <td>41</td>\n",
       "    </tr>\n",
       "  </tbody>\n",
       "</table>\n",
       "</div>"
      ],
      "text/plain": [
       "     Name  Age\n",
       "0  Alapan   21\n",
       "1   Venky   31\n",
       "3  Harish   41"
      ]
     },
     "metadata": {},
     "execution_count": 25
    }
   ]
  },
  {
   "cell_type": "code",
   "metadata": {
    "colab": {
     "base_uri": "https://localhost:8080/"
    },
    "id": "2IrhsF-FG9Yi",
    "executionInfo": {
     "status": "ok",
     "timestamp": 1651558799022,
     "user_tz": -330,
     "elapsed": 451,
     "user": {
      "displayName": "Trinanjan Daw",
      "userId": "06428610514401875874"
     }
    },
    "outputId": "3f8dba75-fa9b-425e-c167-dc92e0dfd528"
   },
   "source": [
    "import pandas as pd\n",
    "import numpy as np\n",
    "friends = pd.DataFrame({\"Name\":[\"Alapan\",\"Venkatesh\",\"Arkajeet\",\"Srijit\"],\n",
    "                        \"Course\":[\"Phd\",\"MSc\",\"Bsc\",\"Btech\"],\n",
    "                        \"Location\":[\"Seorapully\",\"Patna\",\"Dumdum\",\"Shyamnagar\"]})\n",
    "friends\n",
    "group = friends.groupby(\"Location\")\n",
    "print(group['Course'].agg([min]))"
   ],
   "execution_count": null,
   "outputs": [
    {
     "output_type": "stream",
     "name": "stdout",
     "text": [
      "              min\n",
      "Location         \n",
      "Dumdum        Bsc\n",
      "Patna         MSc\n",
      "Seorapully    Phd\n",
      "Shyamnagar  Btech\n"
     ]
    }
   ]
  },
  {
   "cell_type": "code",
   "metadata": {
    "colab": {
     "base_uri": "https://localhost:8080/"
    },
    "id": "-MxN0itAK0KN",
    "executionInfo": {
     "status": "ok",
     "timestamp": 1633014438930,
     "user_tz": -330,
     "elapsed": 661,
     "user": {
      "displayName": "Trinanjan Daw",
      "photoUrl": "https://lh3.googleusercontent.com/a-/AOh14GhQQ7g7DJNZuSTt_3FZA-n_9Z86KEVtHZiC_Ks68g=s64",
      "userId": "06428610514401875874"
     }
    },
    "outputId": "bb40a1f2-93fc-415f-d097-5767bd42e938"
   },
   "source": [
    "import pandas as pd\n",
    "friends = pd.DataFrame({\"Name\":[\"Alapan\",\"Venkatesh\",\"Arkajeet\",\"Srijit\"],\n",
    "                        \"Course\":[\"Phd\",\"MSc\",\"Bsc\",\"Btech\"],\n",
    "                        \"Location\":[\"Seorapully\",\"Patna\",\"Dumdum\",\"Shyamnagar\"]})\n",
    "friends\n",
    "group = friends.groupby(\"Location\")\n",
    "print(group['Course'].filter(lambda x : len(x)<=1))"
   ],
   "execution_count": null,
   "outputs": [
    {
     "output_type": "stream",
     "name": "stdout",
     "text": [
      "0      Phd\n",
      "1      MSc\n",
      "2      Bsc\n",
      "3    Btech\n",
      "Name: Course, dtype: object\n"
     ]
    }
   ]
  },
  {
   "cell_type": "code",
   "metadata": {
    "colab": {
     "base_uri": "https://localhost:8080/",
     "height": 175
    },
    "id": "HzjozjXfPb_F",
    "executionInfo": {
     "status": "ok",
     "timestamp": 1634915585644,
     "user_tz": -330,
     "elapsed": 719,
     "user": {
      "displayName": "Trinanjan Daw",
      "photoUrl": "https://lh3.googleusercontent.com/a-/AOh14GhQQ7g7DJNZuSTt_3FZA-n_9Z86KEVtHZiC_Ks68g=s64",
      "userId": "06428610514401875874"
     }
    },
    "outputId": "5ce5bd6e-7a87-4650-eb48-021931ab8832"
   },
   "source": [
    "import pandas as pd\n",
    "info = pd.DataFrame({'Language':[\"Python\",\"C\",\"C++\",\"Java\"],\"Rankings\":[1,2,3,4]})\n",
    "info\n",
    "info.head()\n",
    "#info.head(2)"
   ],
   "execution_count": null,
   "outputs": [
    {
     "output_type": "execute_result",
     "data": {
      "text/html": [
       "<div>\n",
       "<style scoped>\n",
       "    .dataframe tbody tr th:only-of-type {\n",
       "        vertical-align: middle;\n",
       "    }\n",
       "\n",
       "    .dataframe tbody tr th {\n",
       "        vertical-align: top;\n",
       "    }\n",
       "\n",
       "    .dataframe thead th {\n",
       "        text-align: right;\n",
       "    }\n",
       "</style>\n",
       "<table border=\"1\" class=\"dataframe\">\n",
       "  <thead>\n",
       "    <tr style=\"text-align: right;\">\n",
       "      <th></th>\n",
       "      <th>Language</th>\n",
       "      <th>Rankings</th>\n",
       "    </tr>\n",
       "  </thead>\n",
       "  <tbody>\n",
       "    <tr>\n",
       "      <th>0</th>\n",
       "      <td>Python</td>\n",
       "      <td>1</td>\n",
       "    </tr>\n",
       "    <tr>\n",
       "      <th>1</th>\n",
       "      <td>C</td>\n",
       "      <td>2</td>\n",
       "    </tr>\n",
       "    <tr>\n",
       "      <th>2</th>\n",
       "      <td>C++</td>\n",
       "      <td>3</td>\n",
       "    </tr>\n",
       "    <tr>\n",
       "      <th>3</th>\n",
       "      <td>Java</td>\n",
       "      <td>4</td>\n",
       "    </tr>\n",
       "  </tbody>\n",
       "</table>\n",
       "</div>"
      ],
      "text/plain": [
       "  Language  Rankings\n",
       "0   Python         1\n",
       "1        C         2\n",
       "2      C++         3\n",
       "3     Java         4"
      ]
     },
     "metadata": {},
     "execution_count": 3
    }
   ]
  },
  {
   "cell_type": "code",
   "metadata": {
    "id": "06B09SS7R9Cd",
    "colab": {
     "base_uri": "https://localhost:8080/"
    },
    "executionInfo": {
     "status": "ok",
     "timestamp": 1634916337745,
     "user_tz": -330,
     "elapsed": 37,
     "user": {
      "displayName": "Trinanjan Daw",
      "photoUrl": "https://lh3.googleusercontent.com/a-/AOh14GhQQ7g7DJNZuSTt_3FZA-n_9Z86KEVtHZiC_Ks68g=s64",
      "userId": "06428610514401875874"
     }
    },
    "outputId": "272b8fd1-2f75-4d4a-9e05-24bd9b96cc66"
   },
   "source": [
    "import pandas as pd\n",
    "data1 = pd.DataFrame({'id':[701,704,712],'Location':[\"Midnapore\",\"Hooghly\",\"Ghatal\"],'SGPA':[8.95,9.5,9.08]})\n",
    "data2 = pd.DataFrame({'id':[703,705,716],'Location':[\"Hooghly\",\"Chittaranjan\",\"Assam\"],'SGPA':[9.05,9.3,8.55]})\n",
    "print(data1)\n",
    "print(data2)\n",
    "\n"
   ],
   "execution_count": null,
   "outputs": [
    {
     "output_type": "stream",
     "name": "stdout",
     "text": [
      "    id   Location  SGPA\n",
      "0  701  Midnapore  8.95\n",
      "1  704    Hooghly  9.50\n",
      "2  712     Ghatal  9.08\n",
      "    id      Location  SGPA\n",
      "0  703       Hooghly  9.05\n",
      "1  705  Chittaranjan  9.30\n",
      "2  716         Assam  8.55\n"
     ]
    }
   ]
  },
  {
   "cell_type": "code",
   "metadata": {
    "id": "fazhh5PolsU5"
   },
   "source": [],
   "execution_count": null,
   "outputs": []
  }
 ]
}
