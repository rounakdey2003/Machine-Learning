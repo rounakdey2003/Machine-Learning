{
  "nbformat": 4,
  "nbformat_minor": 0,
  "metadata": {
    "colab": {
      "name": "Python_basics.ipynb",
      "provenance": []
    },
    "kernelspec": {
      "name": "python3",
      "display_name": "Python 3"
    },
    "language_info": {
      "name": "python"
    }
  },
  "cells": [
    {
      "cell_type": "code",
      "execution_count": null,
      "metadata": {
        "id": "s6YN0s3FuC3K"
      },
      "outputs": [],
      "source": [
        "print('Calculator program using Lambda')\n",
        "\n",
        "a = int(input(\" Enter first number: \"))\n",
        "b = int(input('Enter second number: '))\n",
        "c = input('''Enter the operator given below:\n",
        "    '+', '-', '*', '/', '**'  :   ''')\n",
        "import math\n",
        "\n",
        "if c == '+': \n",
        "  output = lambda a, b: a + b\n",
        "\n",
        "elif c == '-': \n",
        "  output = lambda a, b: a - b\n",
        "\n",
        "elif c == '*':\n",
        "  output = lambda a, b: a * b\n",
        "\n",
        "elif c =='/':\n",
        "  output = lambda a, b: a / b\n",
        "\n",
        "elif c == '**':\n",
        "  output = lambda a, b: math.pow(a,b)\n",
        "  print('!! Note: here second input is the power of the first input !!') \n",
        "\n",
        "else: print('wrong operator!!')\n",
        "\n",
        "print('The answer of the given number is = ', output(a, b))\n"
      ]
    },
    {
      "cell_type": "code",
      "source": [
        "print(\"Dictionary program: normal and using loop\")\n",
        "\n",
        "\n",
        "print('Today is ', end='')\n",
        "\n",
        "dict = {\"Day\": \"Thursday\", \"Date(day)\": 27, \"Month\": 1, \"Year\": 2022}\n",
        "\n",
        "print(dict[\"Day\"],'-', dict[\"Date(day)\"],'/',dict[\"Month\"],'/',dict[\"Year\"]) \n",
        "\n",
        "print('Using loop')\n",
        "\n",
        "for today in dict:\n",
        "  print(today,\" - \", dict[today])\n",
        "    "
      ],
      "metadata": {
        "colab": {
          "base_uri": "https://localhost:8080/"
        },
        "id": "tYzvhZQg1mER",
        "outputId": "0dfebf84-b077-4bcd-a106-ad5777239df7"
      },
      "execution_count": 12,
      "outputs": [
        {
          "output_type": "stream",
          "name": "stdout",
          "text": [
            "Today is Thursday - 27 / 1 / 2022\n",
            "Using loop\n",
            "Day  -  Thursday\n",
            "Date(day)  -  27\n",
            "Month  -  1\n",
            "Year  -  2022\n"
          ]
        }
      ]
    },
    {
      "cell_type": "code",
      "source": [
        "print(\"Dictionary program using list\")\n",
        "\n",
        "dict = {}\n",
        "dict[0]={\"Games\": \"Call Of Duty\", \"Year\": 1999, \"Popularity\": 999}\n",
        "dict[1]={\"Games\": \"Genshin Impact\", \"Year\": 2015, \"Popularity\": \"100M\"}\n",
        "dict[2]={\"Games\": \"Valorant\", \"Year\": 2020, \"Popularity\": \"1000M\"}\n",
        "dict[3]={\"Games\": \"Apex Legend\", \"Year\": 2005, \"Popularity\": 10000}\n",
        "\n",
        "for games in range(0,4):\n",
        "  print(\"Element: \", dict[games])\n"
      ],
      "metadata": {
        "colab": {
          "base_uri": "https://localhost:8080/"
        },
        "id": "YlbTY56z6HB2",
        "outputId": "6086ac70-9c9d-43a3-e58b-6ba82c8048de"
      },
      "execution_count": 21,
      "outputs": [
        {
          "output_type": "stream",
          "name": "stdout",
          "text": [
            "Dictionary program using list\n",
            "Element:  {'Games': 'Call Of Duty', 'Year': 1999, 'Popularity': 999}\n",
            "Element:  {'Games': 'Genshin Impact', 'Year': 2015, 'Popularity': '100M'}\n",
            "Element:  {'Games': 'Valorant', 'Year': 2020, 'Popularity': '1000M'}\n",
            "Element:  {'Games': 'Apex Legend', 'Year': 2005, 'Popularity': 10000}\n"
          ]
        }
      ]
    },
    {
      "cell_type": "code",
      "source": [
        "a = int(input(\"Enter the decimal number: \"))\n",
        "c = input('''Enter the operation from the given character below: \n",
        "           Binary(B,b), Octal(O,o), Hexadecimal(H,h)''')\n",
        "#dummy = a\n",
        "#sum = 0\n",
        "#mul = 1\n",
        "\n",
        "def binary(dummy,sum,mul):\n",
        "  while dummy:\n",
        "    rem = dummy % 2\n",
        "    sum = sum +  (rem * mul) \n",
        "    dummy = dummy // 2\n",
        "    mul = mul * 10\n",
        "  print(\" Binary equivalent of \", a , ' is = ', sum)\n",
        "\n",
        "def octal(dummy,sum,mul):\n",
        "  while dummy:\n",
        "    rem = dummy % 8\n",
        "    sum = sum +  (rem * mul) \n",
        "    dummy = dummy // 8\n",
        "    mul = mul * 10\n",
        "  print(\" Octal equivalent of \", a , ' is = ', sum)\n",
        "\n",
        "\n",
        "def hex(dummy,sum,mul):\n",
        "  while dummy:\n",
        "    rem = dummy % 16\n",
        "    sum = sum +  (rem * mul) \n",
        "    dummy = dummy // 16\n",
        "    mul = mul * 10\n",
        "  print(\" Hexadecimal equivalent of \", a , ' is = ', sum)\n",
        "\n",
        "     \n",
        "\n",
        "\n",
        "if c == 'b' or c == 'B':\n",
        "  binary(a,0,1)\n",
        "elif  c == 'O' or c == 'o':\n",
        "  octal(a,0,1)\n",
        "elif c == 'H' or c == 'h':\n",
        "  hex(a,0,1)\n",
        "else:\n",
        "  print(\"wrong operator!!\")\n",
        "\n",
        "\n",
        "  \n"
      ],
      "metadata": {
        "colab": {
          "base_uri": "https://localhost:8080/"
        },
        "id": "ScSZinJs8ryo",
        "outputId": "436d5a29-3d7c-4a87-a3e3-b81d6b301aa0"
      },
      "execution_count": 26,
      "outputs": [
        {
          "output_type": "stream",
          "name": "stdout",
          "text": [
            "Enter the decimal number: 32\n",
            "Enter the operation from the given character below: \n",
            "           Binary(B,b), Octal(O,o), Hexadecimal(H,h)o\n",
            " Octal equivalent of  32  is =  40\n"
          ]
        }
      ]
    }
  ]
}