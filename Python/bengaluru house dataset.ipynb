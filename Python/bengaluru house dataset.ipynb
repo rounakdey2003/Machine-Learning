{
 "cells": [
  {
   "cell_type": "code",
   "execution_count": null,
   "metadata": {
    "collapsed": true
   },
   "outputs": [],
   "source": [
    "import pandas as pd\n",
    "import numpy as np\n",
    "import seaborn as sns\n",
    "import matplotlib.pyplot as plt\n",
    "\n",
    "dataset = pd.read_csv('Bengaluru_House_Data.csv')\n",
    "dataset.head()\n",
    "\n",
    "df = pd.DataFrame(dataset)\n",
    "df = dataset.fillna(0)\n",
    "\n",
    "#df = df.iloc[:,[5]]\n",
    "df.head()"
   ]
  },
  {
   "cell_type": "code",
   "execution_count": null,
   "outputs": [],
   "source": [
    "x=dataset.drop('price',axis=1)\n",
    "y=dataset['price']\n",
    "\n",
    "print(\"Shape in X = \",x.shape)\n",
    "print(\"Shape in Y = \",y.shape)"
   ],
   "metadata": {
    "collapsed": false
   }
  },
  {
   "cell_type": "code",
   "execution_count": null,
   "outputs": [],
   "source": [
    "from sklearn.model_selection import train_test_split\n",
    "\n",
    "x_train, x_test, y_train, y_test = train_test_split(x, y, test_size=0.2, random_state=51)\n",
    "\n",
    "print(\"Shape in x_train = \",x_train.shape)\n",
    "print(\"Shape in x_test = \",x_test.shape)\n",
    "print(\"Shape in y_train = \",y_train.shape)\n",
    "print(\"Shape in y_test = \",y_test.shape)"
   ],
   "metadata": {
    "collapsed": false
   }
  },
  {
   "cell_type": "code",
   "execution_count": null,
   "outputs": [],
   "source": [
    "from sklearn.preprocessing import StandardScaler\n",
    "sc = StandardScaler()\n",
    "sc.fit(x_train)\n",
    "x_train = sc.transform(x_train)\n",
    "x_test = sc.transform(x_test)\n",
    "\n",
    "print(\"Shape in x_train = \",x_train.shape)\n",
    "print(\"Shape in x_test = \",x_test.shape)"
   ],
   "metadata": {
    "collapsed": false
   }
  },
  {
   "cell_type": "code",
   "execution_count": null,
   "outputs": [],
   "source": [
    "pred = x_test[0,:]\n",
    "\n",
    "print(\"Prediction: \", pred)"
   ],
   "metadata": {
    "collapsed": false
   }
  },
  {
   "cell_type": "code",
   "execution_count": null,
   "outputs": [],
   "source": [
    "from sklearn.linear_model import LinearRegression\n",
    "df = pd.DataFrame(dataset)\n",
    "df = dataset.fillna(0)\n",
    "\n",
    "lr = LinearRegression()\n",
    "lr.fit(x_train, y_train)\n",
    "\n",
    "\n",
    "\n",
    "sing = lr.predict([x_test[0,:]])\n",
    "mul = lr.predict(x_test)\n",
    "\n",
    "print(\"Single value Prediction: \",sing)\n",
    "print(\"Multi value Prediction: \",mul)"
   ],
   "metadata": {
    "collapsed": false
   }
  },
  {
   "cell_type": "code",
   "execution_count": null,
   "outputs": [],
   "source": [
    "from sklearn.linear_model import LinearRegression\n",
    "lr = LinearRegression()\n",
    "lr.fit(x_train, y_train)\n",
    "\n",
    "score = lr.score(x_test,y_test)\n",
    "print(\"Score: \",score)"
   ],
   "metadata": {
    "collapsed": false
   }
  },
  {
   "cell_type": "code",
   "execution_count": null,
   "outputs": [],
   "source": [
    "import pandas as pd\n",
    "import numpy as np\n",
    "import seaborn as sns\n",
    "import matplotlib.pyplot as plt\n",
    "\n",
    "dataset = pd.read_csv('Bengaluru_House_Data.csv')\n",
    "dataset.head()\n",
    "\n",
    "df = pd.DataFrame(dataset)\n",
    "df = dataset.fillna(0)\n",
    "\n",
    "#df = df.iloc[:,[5]]\n",
    "df.head()"
   ],
   "metadata": {
    "collapsed": false
   }
  },
  {
   "cell_type": "code",
   "execution_count": null,
   "outputs": [],
   "source": [
    "x=dataset.drop('price',axis=1)\n",
    "y=dataset['price']\n",
    "\n",
    "print(\"Shape in X = \",x.shape)\n",
    "print(\"Shape in Y = \",y.shape)"
   ],
   "metadata": {
    "collapsed": false
   }
  },
  {
   "cell_type": "code",
   "execution_count": null,
   "outputs": [],
   "source": [
    "from sklearn.model_selection import train_test_split\n",
    "\n",
    "x_train, x_test, y_train, y_test = train_test_split(x, y, test_size=0.2, random_state=51)\n",
    "\n",
    "print(\"Shape in x_train = \",x_train.shape)\n",
    "print(\"Shape in x_test = \",x_test.shape)\n",
    "print(\"Shape in y_train = \",y_train.shape)\n",
    "print(\"Shape in y_test = \",y_test.shape)"
   ],
   "metadata": {
    "collapsed": false
   }
  },
  {
   "cell_type": "code",
   "execution_count": null,
   "outputs": [],
   "source": [
    "from sklearn.preprocessing import StandardScaler\n",
    "sc = StandardScaler()\n",
    "sc.fit(x_train)\n",
    "x_train = sc.transform(x_train)\n",
    "x_test = sc.transform(x_test)\n",
    "\n",
    "print(\"Shape in x_train = \",x_train.shape)\n",
    "print(\"Shape in x_test = \",x_test.shape)"
   ],
   "metadata": {
    "collapsed": false
   }
  },
  {
   "cell_type": "code",
   "execution_count": null,
   "outputs": [],
   "source": [
    "pred = x_test[0,:]\n",
    "\n",
    "print(\"Prediction: \", pred)"
   ],
   "metadata": {
    "collapsed": false
   }
  },
  {
   "cell_type": "code",
   "execution_count": null,
   "outputs": [],
   "source": [
    "from sklearn.linear_model import LinearRegression\n",
    "df = pd.DataFrame(dataset)\n",
    "df = dataset.fillna(0)\n",
    "\n",
    "lr = LinearRegression()\n",
    "lr.fit(x_train, y_train)\n",
    "\n",
    "\n",
    "\n",
    "sing = lr.predict([x_test[0,:]])\n",
    "mul = lr.predict(x_test)\n",
    "\n",
    "print(\"Single value Prediction: \",sing)\n",
    "print(\"Multi value Prediction: \",mul)"
   ],
   "metadata": {
    "collapsed": false
   }
  },
  {
   "cell_type": "code",
   "execution_count": null,
   "outputs": [],
   "source": [
    "from sklearn.linear_model import LinearRegression\n",
    "lr = LinearRegression()\n",
    "lr.fit(x_train, y_train)\n",
    "\n",
    "score = lr.score(x_test,y_test)\n",
    "print(\"Score: \",score)"
   ],
   "metadata": {
    "collapsed": false
   }
  }
 ],
 "metadata": {
  "kernelspec": {
   "display_name": "Python 3",
   "language": "python",
   "name": "python3"
  },
  "language_info": {
   "codemirror_mode": {
    "name": "ipython",
    "version": 2
   },
   "file_extension": ".py",
   "mimetype": "text/x-python",
   "name": "python",
   "nbconvert_exporter": "python",
   "pygments_lexer": "ipython2",
   "version": "2.7.6"
  }
 },
 "nbformat": 4,
 "nbformat_minor": 0
}
