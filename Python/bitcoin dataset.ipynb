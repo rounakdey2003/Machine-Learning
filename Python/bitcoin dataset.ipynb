{
 "cells": [
  {
   "cell_type": "code",
   "execution_count": 1,
   "metadata": {
    "collapsed": true,
    "ExecuteTime": {
     "end_time": "2023-08-02T18:53:21.948383Z",
     "start_time": "2023-08-02T18:53:20.996257Z"
    }
   },
   "outputs": [
    {
     "data": {
      "text/plain": "            Date     Open     High      Low    Close  Volume Currency\n0     2010-07-18      0.0      0.1      0.1      0.1      75      USD\n1     2010-07-19      0.1      0.1      0.1      0.1     574      USD\n2     2010-07-20      0.1      0.1      0.1      0.1     262      USD\n3     2010-07-21      0.1      0.1      0.1      0.1     575      USD\n4     2010-07-22      0.1      0.1      0.1      0.1    2160      USD\n...          ...      ...      ...      ...      ...     ...      ...\n4415  2022-08-19  23201.6  23202.3  20807.8  20831.3  339472      USD\n4416  2022-08-20  20830.7  21357.4  20784.8  21138.9  206943      USD\n4417  2022-08-21  21138.9  21692.4  21077.4  21517.2  177522      USD\n4418  2022-08-22  21516.8  21517.4  20912.1  21416.3  251833      USD\n4419  2022-08-23  21416.5  21458.2  21271.2  21309.0  251695      USD\n\n[4420 rows x 7 columns]",
      "text/html": "<div>\n<style scoped>\n    .dataframe tbody tr th:only-of-type {\n        vertical-align: middle;\n    }\n\n    .dataframe tbody tr th {\n        vertical-align: top;\n    }\n\n    .dataframe thead th {\n        text-align: right;\n    }\n</style>\n<table border=\"1\" class=\"dataframe\">\n  <thead>\n    <tr style=\"text-align: right;\">\n      <th></th>\n      <th>Date</th>\n      <th>Open</th>\n      <th>High</th>\n      <th>Low</th>\n      <th>Close</th>\n      <th>Volume</th>\n      <th>Currency</th>\n    </tr>\n  </thead>\n  <tbody>\n    <tr>\n      <th>0</th>\n      <td>2010-07-18</td>\n      <td>0.0</td>\n      <td>0.1</td>\n      <td>0.1</td>\n      <td>0.1</td>\n      <td>75</td>\n      <td>USD</td>\n    </tr>\n    <tr>\n      <th>1</th>\n      <td>2010-07-19</td>\n      <td>0.1</td>\n      <td>0.1</td>\n      <td>0.1</td>\n      <td>0.1</td>\n      <td>574</td>\n      <td>USD</td>\n    </tr>\n    <tr>\n      <th>2</th>\n      <td>2010-07-20</td>\n      <td>0.1</td>\n      <td>0.1</td>\n      <td>0.1</td>\n      <td>0.1</td>\n      <td>262</td>\n      <td>USD</td>\n    </tr>\n    <tr>\n      <th>3</th>\n      <td>2010-07-21</td>\n      <td>0.1</td>\n      <td>0.1</td>\n      <td>0.1</td>\n      <td>0.1</td>\n      <td>575</td>\n      <td>USD</td>\n    </tr>\n    <tr>\n      <th>4</th>\n      <td>2010-07-22</td>\n      <td>0.1</td>\n      <td>0.1</td>\n      <td>0.1</td>\n      <td>0.1</td>\n      <td>2160</td>\n      <td>USD</td>\n    </tr>\n    <tr>\n      <th>...</th>\n      <td>...</td>\n      <td>...</td>\n      <td>...</td>\n      <td>...</td>\n      <td>...</td>\n      <td>...</td>\n      <td>...</td>\n    </tr>\n    <tr>\n      <th>4415</th>\n      <td>2022-08-19</td>\n      <td>23201.6</td>\n      <td>23202.3</td>\n      <td>20807.8</td>\n      <td>20831.3</td>\n      <td>339472</td>\n      <td>USD</td>\n    </tr>\n    <tr>\n      <th>4416</th>\n      <td>2022-08-20</td>\n      <td>20830.7</td>\n      <td>21357.4</td>\n      <td>20784.8</td>\n      <td>21138.9</td>\n      <td>206943</td>\n      <td>USD</td>\n    </tr>\n    <tr>\n      <th>4417</th>\n      <td>2022-08-21</td>\n      <td>21138.9</td>\n      <td>21692.4</td>\n      <td>21077.4</td>\n      <td>21517.2</td>\n      <td>177522</td>\n      <td>USD</td>\n    </tr>\n    <tr>\n      <th>4418</th>\n      <td>2022-08-22</td>\n      <td>21516.8</td>\n      <td>21517.4</td>\n      <td>20912.1</td>\n      <td>21416.3</td>\n      <td>251833</td>\n      <td>USD</td>\n    </tr>\n    <tr>\n      <th>4419</th>\n      <td>2022-08-23</td>\n      <td>21416.5</td>\n      <td>21458.2</td>\n      <td>21271.2</td>\n      <td>21309.0</td>\n      <td>251695</td>\n      <td>USD</td>\n    </tr>\n  </tbody>\n</table>\n<p>4420 rows × 7 columns</p>\n</div>"
     },
     "execution_count": 1,
     "metadata": {},
     "output_type": "execute_result"
    }
   ],
   "source": [
    "import pandas as pd\n",
    "df =  pd.read_csv('bitcoin.csv')\n",
    "df"
   ]
  },
  {
   "cell_type": "code",
   "execution_count": null,
   "outputs": [],
   "source": [
    "df = df.dropna()\n",
    "df"
   ],
   "metadata": {
    "collapsed": false
   }
  },
  {
   "cell_type": "code",
   "execution_count": null,
   "outputs": [],
   "source": [
    "df = df.drop_duplicates()\n",
    "df"
   ],
   "metadata": {
    "collapsed": false
   }
  },
  {
   "cell_type": "code",
   "execution_count": null,
   "outputs": [],
   "source": [
    "df = df.drop(columns=['Date','Open','Close','High','Low','Currency'])\n",
    "df"
   ],
   "metadata": {
    "collapsed": false
   }
  },
  {
   "cell_type": "code",
   "execution_count": null,
   "outputs": [],
   "source": [
    "import numpy as np\n",
    "maximum_values = np.max(np.abs(df))\n",
    "maximum_values"
   ],
   "metadata": {
    "collapsed": false
   }
  },
  {
   "cell_type": "code",
   "execution_count": null,
   "outputs": [],
   "source": [
    "minimum_values = np.min(np.abs(df))\n",
    "minimum_values"
   ],
   "metadata": {
    "collapsed": false
   }
  },
  {
   "cell_type": "code",
   "execution_count": null,
   "outputs": [],
   "source": [
    "scaling = (df-maximum_values)/(maximum_values-minimum_values)\n",
    "scaling"
   ],
   "metadata": {
    "collapsed": false
   }
  },
  {
   "cell_type": "code",
   "execution_count": null,
   "outputs": [],
   "source": [
    "from sklearn.preprocessing import MinMaxScaler\n",
    "\n",
    "scaler = MinMaxScaler()\n",
    "scale_data = scaler.fit_transform(df)\n",
    "scale_dataframe = pd.DataFrame(scale_data,columns=df.columns)\n",
    "scale_dataframe.head()"
   ],
   "metadata": {
    "collapsed": false
   }
  },
  {
   "cell_type": "code",
   "execution_count": null,
   "outputs": [],
   "source": [
    "from sklearn.preprocessing import Normalizer\n",
    "\n",
    "scale = Normalizer()\n",
    "scale_data = scale.fit_transform(df)\n",
    "scale_dataframe = pd.DataFrame(scale_data,columns=df.columns)\n",
    "scale_dataframe.head()"
   ],
   "metadata": {
    "collapsed": false
   }
  },
  {
   "cell_type": "code",
   "execution_count": null,
   "outputs": [],
   "source": [
    "import numpy as np\n",
    "import pandas as pd\n",
    "import matplotlib.pyplot as mp\n",
    "\n",
    "data = pd.read_csv('bitcoin.csv')\n",
    "data"
   ],
   "metadata": {
    "collapsed": false
   }
  },
  {
   "cell_type": "code",
   "execution_count": null,
   "outputs": [],
   "source": [
    "x = data.iloc[:, 5].values\n",
    "y = data.iloc[:, 1].values\n",
    "\n",
    "print(x,'\\n****************************')\n",
    "print(y)"
   ],
   "metadata": {
    "collapsed": false
   }
  },
  {
   "cell_type": "code",
   "execution_count": null,
   "outputs": [],
   "source": [
    "from sklearn.model_selection import train_test_split\n",
    "\n",
    "x_train,x_test,y_train,y_test = train_test_split(x,y,test_size=0.25,random_state=0)\n",
    "\n",
    "from sklearn.preprocessing import StandardScaler\n",
    "\n",
    "st_x = StandardScaler()\n",
    "x_train = st_x.fit_transform(x_train)\n",
    "x_test = st_x.transform(x_test)\n",
    "\n",
    "print(x_train)\n",
    "print(x_test)"
   ],
   "metadata": {
    "collapsed": false
   }
  },
  {
   "cell_type": "code",
   "execution_count": null,
   "outputs": [],
   "source": [
    "from sklearn.neighbors import KNeighborsClassifier\n",
    "\n",
    "classifier = KNeighborsClassifier(n_neighbors=5,metric='minkowski',p=2)\n",
    "classifier.fit(x_train,y_train)\n",
    "\n",
    "y_predict = classifier.predict(x_test)\n",
    "print(y_predict)"
   ],
   "metadata": {
    "collapsed": false
   }
  },
  {
   "cell_type": "code",
   "execution_count": null,
   "outputs": [],
   "source": [
    "from sklearn.metrics import confusion_matrix\n",
    "\n",
    "mat = confusion_matrix(y_test,y_predict)\n",
    "print(mat)"
   ],
   "metadata": {
    "collapsed": false
   }
  },
  {
   "cell_type": "code",
   "execution_count": null,
   "outputs": [],
   "source": [
    "from matplotlib.colors import ListedColormap\n",
    "x_set, y_set = x_test, y_test\n",
    "x1, x2 = np.meshgrid(np.arange(start = x_set[:, 0].min() - 1, stop = x_set[:, 0].max() + 1, step  =0.01),\n",
    "                     np.arange(start = x_set[:, 1].min() - 1, stop = x_set[:, 1].max() + 1, step = 0.01))\n",
    "mp.contourf(x1, x2, classifier.predict(np.array([x1.ravel(), x2.ravel()]).T).reshape(x1.shape),\n",
    "            alpha = 0.75, cmap = ListedColormap(('purple','green')))\n",
    "mp.xlim(x1.min(), x1.max())\n",
    "mp.ylim(x2.min(), x2.max())\n",
    "for i, j in enumerate(np.unique(y_set)):\n",
    "    mp.scatter(x_set[y_set == j, 0], x_set[y_set == j, 1],\n",
    "               c = ListedColormap(('red', 'blue'))(i), label = j)\n",
    "mp.title('KNN')\n",
    "mp.xlabel('Salary')\n",
    "mp.ylabel('Experience Year')\n",
    "mp.legend()\n",
    "mp.show()"
   ],
   "metadata": {
    "collapsed": false
   }
  }
 ],
 "metadata": {
  "kernelspec": {
   "display_name": "Python 3",
   "language": "python",
   "name": "python3"
  },
  "language_info": {
   "codemirror_mode": {
    "name": "ipython",
    "version": 2
   },
   "file_extension": ".py",
   "mimetype": "text/x-python",
   "name": "python",
   "nbconvert_exporter": "python",
   "pygments_lexer": "ipython2",
   "version": "2.7.6"
  }
 },
 "nbformat": 4,
 "nbformat_minor": 0
}
