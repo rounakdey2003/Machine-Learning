{
 "cells": [
  {
   "cell_type": "code",
   "execution_count": 1,
   "metadata": {
    "collapsed": true,
    "pycharm": {
     "name": "#%%\n"
    }
   },
   "outputs": [
    {
     "ename": "ModuleNotFoundError",
     "evalue": "No module named 'cv2'",
     "output_type": "error",
     "traceback": [
      "\u001B[1;31m---------------------------------------------------------------------------\u001B[0m",
      "\u001B[1;31mModuleNotFoundError\u001B[0m                       Traceback (most recent call last)",
      "Input \u001B[1;32mIn [1]\u001B[0m, in \u001B[0;36m<cell line: 1>\u001B[1;34m()\u001B[0m\n\u001B[1;32m----> 1\u001B[0m \u001B[38;5;28;01mimport\u001B[39;00m \u001B[38;5;21;01mcv2\u001B[39;00m\n\u001B[0;32m      2\u001B[0m \u001B[38;5;28;01mimport\u001B[39;00m \u001B[38;5;21;01mmatplotlib\u001B[39;00m\u001B[38;5;21;01m.\u001B[39;00m\u001B[38;5;21;01mpyplot\u001B[39;00m \u001B[38;5;28;01mas\u001B[39;00m \u001B[38;5;21;01mplt\u001B[39;00m\n\u001B[0;32m      3\u001B[0m \u001B[38;5;28;01mimport\u001B[39;00m \u001B[38;5;21;01mcvlib\u001B[39;00m \u001B[38;5;28;01mas\u001B[39;00m \u001B[38;5;21;01mcv\u001B[39;00m\n",
      "\u001B[1;31mModuleNotFoundError\u001B[0m: No module named 'cv2'"
     ]
    }
   ],
   "source": [
    "import cv2\n",
    "import matplotlib.pyplot as plt\n",
    "import cvlib as cv\n",
    "import urllib.request\n",
    "import numpy as np\n",
    "from cvlib.object_detection import draw_bbox\n",
    "import concurrent.futures\n",
    "\n",
    "url='http://192.168.10.162/cam-hi.jpg'\n",
    "im=None\n",
    "\n",
    "def run1():\n",
    "    cv2.namedWindow(\"live transmission\", cv2.WINDOW_AUTOSIZE)\n",
    "    while True:\n",
    "        img_resp=urllib.request.urlopen(url)\n",
    "        imgnp=np.array(bytearray(img_resp.read()),dtype=np.uint8)\n",
    "        im = cv2.imdecode(imgnp,-1)\n",
    "\n",
    "        cv2.imshow('live transmission',im)\n",
    "        key=cv2.waitKey(5)\n",
    "        if key==ord('q'):\n",
    "            break\n",
    "\n",
    "    cv2.destroyAllWindows()\n",
    "\n",
    "def run2():\n",
    "    cv2.namedWindow(\"detection\", cv2.WINDOW_AUTOSIZE)\n",
    "    while True:\n",
    "        img_resp=urllib.request.urlopen(url)\n",
    "        imgnp=np.array(bytearray(img_resp.read()),dtype=np.uint8)\n",
    "        im = cv2.imdecode(imgnp,-1)\n",
    "\n",
    "        bbox, label, conf = cv.detect_common_objects(im)\n",
    "        im = draw_bbox(im, bbox, label, conf)\n",
    "\n",
    "        cv2.imshow('detection',im)\n",
    "        key=cv2.waitKey(5)\n",
    "        if key==ord('q'):\n",
    "            break\n",
    "\n",
    "    cv2.destroyAllWindows()\n",
    "\n",
    "\n",
    "\n",
    "if __name__ == '__main__':\n",
    "    print(\"started\")\n",
    "    with concurrent.futures.ProcessPoolExecutor() as executer:\n",
    "            f1= executer.submit(run1)\n",
    "            f2= executer.submit(run2)"
   ]
  },
  {
   "cell_type": "code",
   "execution_count": null,
   "outputs": [],
   "source": [],
   "metadata": {
    "collapsed": false,
    "pycharm": {
     "name": "#%%\n"
    }
   }
  }
 ],
 "metadata": {
  "kernelspec": {
   "display_name": "Python 3",
   "language": "python",
   "name": "python3"
  },
  "language_info": {
   "codemirror_mode": {
    "name": "ipython",
    "version": 2
   },
   "file_extension": ".py",
   "mimetype": "text/x-python",
   "name": "python",
   "nbconvert_exporter": "python",
   "pygments_lexer": "ipython2",
   "version": "2.7.6"
  }
 },
 "nbformat": 4,
 "nbformat_minor": 0
}