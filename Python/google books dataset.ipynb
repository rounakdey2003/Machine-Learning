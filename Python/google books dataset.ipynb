{
 "cells": [
  {
   "cell_type": "code",
   "execution_count": null,
   "metadata": {
    "collapsed": true
   },
   "outputs": [],
   "source": [
    "import pandas as pd\n",
    "import matplotlib.pyplot as plt\n",
    "\n",
    "df=pd.read_csv('google_books_dataset.csv')\n",
    "df.head()\n",
    "\n",
    "title = df['title']\n",
    "author = df['authors']\n",
    "language = df['language']\n",
    "categories = df['categories']\n",
    "ratings = df['averageRating']\n",
    "publisher = df['publisher']\n",
    "year = df['publishedDate']\n",
    "page = df['pageCount']\n",
    "\n",
    "print(\"Famous Author Name:\",max(str(author)),\",Average Author Name:\",min(str(author)))\n",
    "print(\"Most preferred Language:\",max(language),\",Min preferred language:\",min(language))\n",
    "print(\"Most Used Category:\",max(str(categories)),\",Min Used Category:\",min(str(categories)))\n",
    "print(\"Max Rated:\",max(ratings),\"Min Rated:\",min(ratings))\n",
    "print(\"Famous Publisher\",max(str(publisher)),\",Average Publisher:\",min(str(publisher)))\n",
    "print(\"Most Published Year: \",max(str(year)),\",Min Published Year:\",min(str(year)))\n",
    "print(\"Max Pages:\",max(page),\",Min Pages:\",min(page))\n",
    "\n",
    "figure ,axs=plt.subplots(7)\n",
    "axs[0].plot(str(author),color='yellow')\n",
    "axs[1].plot(str(language),color='red')\n",
    "axs[2].plot(str(categories),color='blue')\n",
    "axs[3].plot(str(ratings),color='orange')\n",
    "axs[4].plot(str(publisher),color='green')\n",
    "axs[5].plot(str(year),color='yellow')\n",
    "axs[6].plot(str(page),color='red')"
   ]
  },
  {
   "cell_type": "code",
   "execution_count": null,
   "outputs": [],
   "source": [
    "import numpy as np\n",
    "import pandas as pd\n",
    "import matplotlib.pyplot as plt\n",
    "import seaborn as sns\n",
    "sns.set_style('darkgrid')\n",
    "pal = sns.color_palette()\n",
    "\n",
    "data = pd.read_csv('google_books_dataset.csv')\n",
    "\n",
    "data"
   ],
   "metadata": {
    "collapsed": false
   }
  },
  {
   "cell_type": "code",
   "execution_count": null,
   "outputs": [],
   "source": [
    "import numpy as np\n",
    "import pandas as pd\n",
    "import matplotlib.pyplot as plt\n",
    "import seaborn as sns\n",
    "sns.set_style('darkgrid')\n",
    "pal = sns.color_palette()\n",
    "\n",
    "data = pd.read_csv('google_books_dataset.csv')\n",
    "\n",
    "plt.figure(figsize=(18, 10))\n",
    "num_features = data.select_dtypes('object').drop('categories', axis=1).columns.values\n",
    "\n",
    "for i, num in enumerate(num_features):\n",
    "    plt.subplot(2, 3, i+1)\n",
    "    sns.histplot(data[num], color=pal[i])\n",
    "\n",
    "plt.show()"
   ],
   "metadata": {
    "collapsed": false
   }
  },
  {
   "cell_type": "code",
   "execution_count": null,
   "outputs": [],
   "source": [
    "sns.set_style('darkgrid')\n",
    "pal = sns.color_palette()\n",
    "\n",
    "data = pd.read_csv('google_books_dataset.csv')\n",
    "\n",
    "plt.figure(figsize=(4, 4))\n",
    "sns.heatmap(data[data.select_dtypes('number').columns].corr(),\n",
    "            square=True, cmap='seismic', cbar=False, annot=True, fmt='.2f', vmin=-1, vmax=1)\n",
    "plt.show()"
   ],
   "metadata": {
    "collapsed": false
   }
  },
  {
   "cell_type": "code",
   "execution_count": null,
   "outputs": [],
   "source": [
    "import numpy as np\n",
    "import pandas as pd\n",
    "import matplotlib.pyplot as plt\n",
    "import seaborn as sns\n",
    "sns.set_style('darkgrid')\n",
    "pal = sns.color_palette()\n",
    "\n",
    "data = pd.read_csv('google_books_dataset.csv')\n",
    "\n",
    "plt.figure(figsize=(30, 20))\n",
    "\n",
    "cat_features = data.select_dtypes('object').columns.values\n",
    "\n",
    "for i, cat in enumerate(cat_features):\n",
    "    plt.subplot(2, 2, i + 1)\n",
    "    sns.histplot(data[cat], shrink=0.8, color=pal[i])\n",
    "\n",
    "plt.show()"
   ],
   "metadata": {
    "collapsed": false
   }
  },
  {
   "cell_type": "code",
   "execution_count": null,
   "outputs": [],
   "source": [
    "import pandas as pd\n",
    "import matplotlib.pyplot as plt\n",
    "\n",
    "df=pd.read_csv('google_books_dataset.csv')\n",
    "df.head()\n",
    "\n",
    "title = df['title']\n",
    "author = df['authors']\n",
    "language = df['language']\n",
    "categories = df['categories']\n",
    "ratings = df['averageRating']\n",
    "publisher = df['publisher']\n",
    "year = df['publishedDate']\n",
    "page = df['pageCount']\n",
    "\n",
    "print(\"Famous Author Name:\",max(str(author)),\",Average Author Name:\",min(str(author)))\n",
    "print(\"Most preferred Language:\",max(language),\",Min preferred language:\",min(language))\n",
    "print(\"Most Used Category:\",max(str(categories)),\",Min Used Category:\",min(str(categories)))\n",
    "print(\"Max Rated:\",max(ratings),\"Min Rated:\",min(ratings))\n",
    "print(\"Famous Publisher\",max(str(publisher)),\",Average Publisher:\",min(str(publisher)))\n",
    "print(\"Most Published Year: \",max(str(year)),\",Min Published Year:\",min(str(year)))\n",
    "print(\"Max Pages:\",max(page),\",Min Pages:\",min(page))\n",
    "\n",
    "figure ,axs=plt.subplots(7)\n",
    "axs[0].plot(str(author),color='yellow')\n",
    "axs[1].plot(str(language),color='red')\n",
    "axs[2].plot(str(categories),color='blue')\n",
    "axs[3].plot(str(ratings),color='orange')\n",
    "axs[4].plot(str(publisher),color='green')\n",
    "axs[5].plot(str(year),color='yellow')\n",
    "axs[6].plot(str(page),color='red')"
   ],
   "metadata": {
    "collapsed": false
   }
  },
  {
   "cell_type": "code",
   "execution_count": null,
   "outputs": [],
   "source": [
    "import numpy as np\n",
    "import pandas as pd\n",
    "import matplotlib.pyplot as plt\n",
    "import seaborn as sns\n",
    "sns.set_style('darkgrid')\n",
    "pal = sns.color_palette()\n",
    "\n",
    "data = pd.read_csv('google_books_dataset.csv')\n",
    "\n",
    "data"
   ],
   "metadata": {
    "collapsed": false
   }
  },
  {
   "cell_type": "code",
   "execution_count": null,
   "outputs": [],
   "source": [
    "import numpy as np\n",
    "import pandas as pd\n",
    "import matplotlib.pyplot as plt\n",
    "import seaborn as sns\n",
    "sns.set_style('darkgrid')\n",
    "pal = sns.color_palette()\n",
    "\n",
    "data = pd.read_csv('google_books_dataset.csv')\n",
    "\n",
    "plt.figure(figsize=(18, 10))\n",
    "num_features = data.select_dtypes('object').drop('categories', axis=1).columns.values\n",
    "\n",
    "for i, num in enumerate(num_features):\n",
    "    plt.subplot(2, 3, i+1)\n",
    "    sns.histplot(data[num], color=pal[i])\n",
    "\n",
    "plt.show()"
   ],
   "metadata": {
    "collapsed": false
   }
  },
  {
   "cell_type": "code",
   "execution_count": null,
   "outputs": [],
   "source": [
    "sns.set_style('darkgrid')\n",
    "pal = sns.color_palette()\n",
    "\n",
    "data = pd.read_csv('google_books_dataset.csv')\n",
    "\n",
    "plt.figure(figsize=(4, 4))\n",
    "sns.heatmap(data[data.select_dtypes('number').columns].corr(),\n",
    "            square=True, cmap='seismic', cbar=False, annot=True, fmt='.2f', vmin=-1, vmax=1)\n",
    "plt.show()"
   ],
   "metadata": {
    "collapsed": false
   }
  },
  {
   "cell_type": "code",
   "execution_count": null,
   "outputs": [],
   "source": [
    "import numpy as np\n",
    "import pandas as pd\n",
    "import matplotlib.pyplot as plt\n",
    "import seaborn as sns\n",
    "sns.set_style('darkgrid')\n",
    "pal = sns.color_palette()\n",
    "\n",
    "data = pd.read_csv('google_books_dataset.csv')\n",
    "\n",
    "plt.figure(figsize=(30, 20))\n",
    "\n",
    "cat_features = data.select_dtypes('object').columns.values\n",
    "\n",
    "for i, cat in enumerate(cat_features):\n",
    "    plt.subplot(2, 2, i + 1)\n",
    "    sns.histplot(data[cat], shrink=0.8, color=pal[i])\n",
    "\n",
    "plt.show()"
   ],
   "metadata": {
    "collapsed": false
   }
  }
 ],
 "metadata": {
  "kernelspec": {
   "display_name": "Python 3",
   "language": "python",
   "name": "python3"
  },
  "language_info": {
   "codemirror_mode": {
    "name": "ipython",
    "version": 2
   },
   "file_extension": ".py",
   "mimetype": "text/x-python",
   "name": "python",
   "nbconvert_exporter": "python",
   "pygments_lexer": "ipython2",
   "version": "2.7.6"
  }
 },
 "nbformat": 4,
 "nbformat_minor": 0
}
