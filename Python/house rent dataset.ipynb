{
 "cells": [
  {
   "cell_type": "code",
   "execution_count": null,
   "metadata": {
    "collapsed": true
   },
   "outputs": [],
   "source": [
    "import pandas as pd\n",
    "import matplotlib.pyplot as plt\n",
    "\n",
    "df=pd.read_csv('House_Rent_Dataset.csv')\n",
    "df.head()\n",
    "\n",
    "BHK = df['BHK']\n",
    "Rent = df['Rent']\n",
    "Size = df['Size']\n",
    "Floor = df['Floor']\n",
    "AreaType = df['Area Type']\n",
    "AreaLocality = df['Area Locality']\n",
    "City = df['City']\n",
    "FurnishingStatus = df['Furnishing Status']\n",
    "Bathroom = df['Bathroom']\n",
    "PointofContact = df['Point of Contact']\n",
    "\n",
    "figure,axs=plt.subplots(10)\n",
    "axs[0].plot(BHK,color='orange')\n",
    "axs[1].plot(Rent,color='green')\n",
    "axs[2].plot(Size,color='red')\n",
    "axs[3].plot(Floor,color='blue')\n",
    "axs[4].plot(AreaType,color='yellow')\n",
    "axs[5].plot(AreaLocality,color='orange')\n",
    "axs[6].plot(City,color='green')\n",
    "axs[7].plot(FurnishingStatus,color='red')\n",
    "axs[8].plot(Bathroom,color='blue')\n",
    "axs[9].plot(PointofContact,color='yellow')\n",
    "\n",
    "print(\"Max Bhk:\",max(BHK),\", Min Bhk:\",min(BHK))\n",
    "print(\"Max Rent:\",max(Rent),\"/-\"\", Min Rent:\",min(Rent),\"/-\")\n",
    "print(\"Max Size(sq):\",max(Size),\", Min Size(sq):\",min(Size))\n",
    "print(\"Max Floor Size:\",max(Floor),\", Min Floor Size:\",min(Floor))\n",
    "print(\"Max Area Covered:\",max(AreaType),\", Min Area Covered:\",min(AreaType))\n",
    "print(\"Popular Locality:\",max(AreaLocality),\", Remote Locality:\",min(AreaLocality))\n",
    "print(\"Most availability in City:\",max(City),\", Less availability in City:\",min(City))\n",
    "print(\"Furnishing Status:\",max(FurnishingStatus),\" OR \",min(FurnishingStatus))\n",
    "print(\"Max Bathroom:\",max(Bathroom),\",Min Bathroom:\",min(Bathroom))\n",
    "print(\"Contact:\",max(PointofContact),\" OR \",min(PointofContact))"
   ]
  },
  {
   "cell_type": "code",
   "execution_count": null,
   "outputs": [],
   "source": [
    "import pandas as pd\n",
    "import matplotlib.pyplot as plt\n",
    "\n",
    "df=pd.read_csv('House_Rent_Dataset.csv')\n",
    "df.head()\n",
    "\n",
    "BHK = df['BHK']\n",
    "Rent = df['Rent']\n",
    "Size = df['Size']\n",
    "Floor = df['Floor']\n",
    "AreaType = df['Area Type']\n",
    "AreaLocality = df['Area Locality']\n",
    "City = df['City']\n",
    "FurnishingStatus = df['Furnishing Status']\n",
    "Bathroom = df['Bathroom']\n",
    "PointofContact = df['Point of Contact']\n",
    "\n",
    "figure,axs=plt.subplots(10)\n",
    "axs[0].plot(BHK,color='orange')\n",
    "axs[1].plot(Rent,color='green')\n",
    "axs[2].plot(Size,color='red')\n",
    "axs[3].plot(Floor,color='blue')\n",
    "axs[4].plot(AreaType,color='yellow')\n",
    "axs[5].plot(AreaLocality,color='orange')\n",
    "axs[6].plot(City,color='green')\n",
    "axs[7].plot(FurnishingStatus,color='red')\n",
    "axs[8].plot(Bathroom,color='blue')\n",
    "axs[9].plot(PointofContact,color='yellow')\n",
    "\n",
    "print(\"Max Bhk:\",max(BHK),\", Min Bhk:\",min(BHK))\n",
    "print(\"Max Rent:\",max(Rent),\"/-\"\", Min Rent:\",min(Rent),\"/-\")\n",
    "print(\"Max Size(sq):\",max(Size),\", Min Size(sq):\",min(Size))\n",
    "print(\"Max Floor Size:\",max(Floor),\", Min Floor Size:\",min(Floor))\n",
    "print(\"Max Area Covered:\",max(AreaType),\", Min Area Covered:\",min(AreaType))\n",
    "print(\"Popular Locality:\",max(AreaLocality),\", Remote Locality:\",min(AreaLocality))\n",
    "print(\"Most availability in City:\",max(City),\", Less availability in City:\",min(City))\n",
    "print(\"Furnishing Status:\",max(FurnishingStatus),\" OR \",min(FurnishingStatus))\n",
    "print(\"Max Bathroom:\",max(Bathroom),\",Min Bathroom:\",min(Bathroom))\n",
    "print(\"Contact:\",max(PointofContact),\" OR \",min(PointofContact))"
   ],
   "metadata": {
    "collapsed": false
   }
  }
 ],
 "metadata": {
  "kernelspec": {
   "display_name": "Python 3",
   "language": "python",
   "name": "python3"
  },
  "language_info": {
   "codemirror_mode": {
    "name": "ipython",
    "version": 2
   },
   "file_extension": ".py",
   "mimetype": "text/x-python",
   "name": "python",
   "nbconvert_exporter": "python",
   "pygments_lexer": "ipython2",
   "version": "2.7.6"
  }
 },
 "nbformat": 4,
 "nbformat_minor": 0
}
