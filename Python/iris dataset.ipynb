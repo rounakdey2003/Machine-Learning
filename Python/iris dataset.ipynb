{
 "cells": [
  {
   "cell_type": "code",
   "execution_count": 2,
   "metadata": {
    "collapsed": true,
    "ExecuteTime": {
     "end_time": "2023-10-08T05:49:20.537701400Z",
     "start_time": "2023-10-08T05:49:19.732415500Z"
    }
   },
   "outputs": [
    {
     "name": "stdout",
     "output_type": "stream",
     "text": [
      "[[ 0.58767779  0.31824278]\n",
      " [-1.33091734 -1.36389762]\n",
      " [ 0.75696559  0.96521985]\n",
      " [-1.27448807 -1.36389762]\n",
      " [-0.31519051 -0.3287343 ]\n",
      " [ 0.70053632  1.48280152]\n",
      " [ 1.03911193  1.61219693]\n",
      " [ 1.60340462  1.22401069]\n",
      " [ 0.13624364 -0.3287343 ]\n",
      " [-0.20233197 -0.3287343 ]\n",
      " [ 0.58767779  0.31824278]\n",
      " [ 0.98268267  1.22401069]\n",
      " [ 0.58767779  0.96521985]\n",
      " [ 0.30553144 -0.06994347]\n",
      " [ 0.64410706  0.83582444]\n",
      " [ 0.70053632  0.83582444]\n",
      " [ 0.36196071  0.31824278]\n",
      " [ 0.58767779  0.70642902]\n",
      " [ 0.19267291  0.31824278]\n",
      " [-1.33091734 -1.10510679]\n",
      " [-0.1459027   0.05945195]\n",
      " [ 0.07981437 -0.06994347]\n",
      " [ 0.36196071  0.31824278]\n",
      " [ 0.30553144  0.05945195]\n",
      " [ 1.03911193  1.09461527]\n",
      " [ 0.13624364  0.05945195]\n",
      " [ 0.58767779  0.70642902]\n",
      " [-1.38734661 -1.36389762]\n",
      " [-1.50020515 -1.36389762]\n",
      " [ 1.26482901  1.61219693]\n",
      " [-0.31519051 -0.3287343 ]\n",
      " [-1.33091734 -1.10510679]\n",
      " [-1.44377588 -1.10510679]\n",
      " [ 0.07981437  0.05945195]\n",
      " [-1.38734661 -1.36389762]\n",
      " [ 0.98268267  1.09461527]\n",
      " [ 0.64410706  0.57703361]\n",
      " [-1.33091734 -1.36389762]\n",
      " [ 0.0233851  -0.19933888]\n",
      " [ 1.37768754  0.70642902]\n",
      " [ 0.19267291  0.05945195]\n",
      " [-1.55663441 -1.49329304]\n",
      " [ 1.20839974  0.70642902]\n",
      " [ 0.86982413  1.3534061 ]\n",
      " [ 1.15197047  1.09461527]\n",
      " [ 0.53124852  0.70642902]\n",
      " [-1.38734661 -1.36389762]\n",
      " [-1.38734661 -1.49329304]\n",
      " [ 1.0955412   0.70642902]\n",
      " [ 0.64410706  0.96521985]\n",
      " [-1.44377588 -1.36389762]\n",
      " [ 0.81339486  1.3534061 ]\n",
      " [-1.44377588 -1.36389762]\n",
      " [ 0.81339486  0.83582444]\n",
      " [ 0.86982413  1.09461527]\n",
      " [-1.27448807 -0.84631596]\n",
      " [-1.2180588  -1.10510679]\n",
      " [ 1.0955412   0.44763819]\n",
      " [-1.2180588  -1.23450221]\n",
      " [-1.33091734 -1.36389762]\n",
      " [-1.38734661 -1.23450221]\n",
      " [ 0.41838998  0.31824278]\n",
      " [ 1.15197047  1.3534061 ]\n",
      " [ 0.98268267  0.70642902]\n",
      " [-1.38734661 -1.36389762]\n",
      " [-1.50020515 -1.36389762]\n",
      " [-1.27448807 -1.36389762]\n",
      " [ 0.47481925  0.44763819]\n",
      " [ 0.53124852  0.18884736]\n",
      " [-1.44377588 -1.36389762]\n",
      " [-1.10520027 -1.36389762]\n",
      " [ 0.30553144  0.18884736]\n",
      " [-1.33091734 -1.49329304]\n",
      " [ 1.60340462  0.96521985]\n",
      " [ 0.41838998  0.05945195]\n",
      " [ 1.43411681  0.96521985]\n",
      " [ 0.36196071  0.31824278]\n",
      " [-1.38734661 -1.36389762]\n",
      " [ 0.53124852  0.70642902]\n",
      " [-1.33091734 -1.10510679]\n",
      " [ 1.03911193  1.3534061 ]\n",
      " [-1.2180588  -1.36389762]\n",
      " [-1.27448807 -1.36389762]\n",
      " [ 1.26482901  0.83582444]\n",
      " [ 0.47481925  0.18884736]\n",
      " [ 0.98268267  1.48280152]\n",
      " [ 1.20839974  1.61219693]\n",
      " [ 0.70053632  0.44763819]\n",
      " [ 0.30553144  0.18884736]\n",
      " [ 0.70053632  0.70642902]\n",
      " [-0.03304417 -0.19933888]\n",
      " [ 0.9262534   0.70642902]\n",
      " [ 0.75696559  1.3534061 ]\n",
      " [ 0.47481925 -0.06994347]\n",
      " [ 0.36196071  0.31824278]\n",
      " [-1.27448807 -1.10510679]\n",
      " [ 0.0233851  -0.06994347]\n",
      " [ 0.98268267  1.48280152]\n",
      " [ 0.70053632  0.83582444]\n",
      " [-1.44377588 -1.23450221]\n",
      " [ 0.0233851   0.18884736]\n",
      " [ 0.07981437  0.05945195]\n",
      " [ 0.07981437  0.05945195]\n",
      " [ 0.13624364  0.05945195]\n",
      " [-1.33091734 -1.49329304]\n",
      " [-1.61306368 -1.36389762]\n",
      " [-1.33091734 -1.36389762]\n",
      " [ 1.0955412   1.22401069]\n",
      " [ 0.36196071  0.31824278]\n",
      " [ 1.71626316  1.3534061 ]\n",
      " [-1.33091734 -1.36389762]] \n",
      "******************************\n",
      "[[ 0.98268267  0.18884736]\n",
      " [ 0.70053632  0.96521985]\n",
      " [-0.20233197 -0.3287343 ]\n",
      " [-0.08947343 -0.3287343 ]\n",
      " [-1.38734661 -1.36389762]\n",
      " [ 1.54697535  1.09461527]\n",
      " [ 0.70053632  1.3534061 ]\n",
      " [ 0.19267291  0.05945195]\n",
      " [ 0.64410706  0.31824278]\n",
      " [ 0.36196071  0.44763819]\n",
      " [-1.33091734 -1.49329304]\n",
      " [-1.38734661 -1.23450221]\n",
      " [ 0.36196071  0.05945195]\n",
      " [-1.27448807 -1.36389762]\n",
      " [-1.44377588 -1.36389762]\n",
      " [ 0.70053632  0.31824278]\n",
      " [ 0.9262534   1.09461527]\n",
      " [ 0.24910218  0.05945195]\n",
      " [-1.38734661 -1.23450221]\n",
      " [-1.27448807 -1.36389762]\n",
      " [-1.44377588 -1.23450221]\n",
      " [-1.33091734 -1.49329304]\n",
      " [ 0.47481925  0.31824278]\n",
      " [-1.2180588  -0.97571137]\n",
      " [ 0.47481925  0.18884736]\n",
      " [ 0.19267291 -0.06994347]\n",
      " [ 0.41838998  0.18884736]\n",
      " [-1.33091734 -1.36389762]\n",
      " [-1.10520027 -1.10510679]\n",
      " [ 1.26482901  1.3534061 ]\n",
      " [-1.38734661 -1.36389762]\n",
      " [-0.48447831 -0.19933888]\n",
      " [ 0.24910218  0.05945195]\n",
      " [ 0.53124852  0.70642902]\n",
      " [-1.33091734 -1.23450221]\n",
      " [ 0.36196071  0.57703361]\n",
      " [ 0.9262534   0.70642902]\n",
      " [ 0.07981437 -0.3287343 ]]\n"
     ]
    }
   ],
   "source": [
    "import numpy as nm\n",
    "import matplotlib.pyplot as mtp\n",
    "import pandas as pd\n",
    "\n",
    "data_set= pd.read_csv('C:/Users/rouna/OneDrive/Documents/MachineLearningProject/Dataset/iris.data.csv')\n",
    "\n",
    "x= data_set.iloc[:, [2,3]].values\n",
    "y= data_set.iloc[:, 4].values\n",
    "\n",
    "from sklearn.model_selection import train_test_split\n",
    "x_train, x_test, y_train, y_test= train_test_split(x, y, test_size= 0.25, random_state=0)\n",
    "\n",
    "from sklearn.preprocessing import StandardScaler\n",
    "st_x= StandardScaler()\n",
    "x_train= st_x.fit_transform(x_train)\n",
    "x_test= st_x.transform(x_test)\n",
    "\n",
    "print(x_train, '\\n******************************')\n",
    "print(x_test)"
   ]
  },
  {
   "cell_type": "code",
   "execution_count": 3,
   "outputs": [
    {
     "ename": "FileNotFoundError",
     "evalue": "[Errno 2] No such file or directory: 'iris.data.csv'",
     "output_type": "error",
     "traceback": [
      "\u001B[1;31m---------------------------------------------------------------------------\u001B[0m",
      "\u001B[1;31mFileNotFoundError\u001B[0m                         Traceback (most recent call last)",
      "Cell \u001B[1;32mIn[3], line 1\u001B[0m\n\u001B[1;32m----> 1\u001B[0m dataset \u001B[38;5;241m=\u001B[39m pd\u001B[38;5;241m.\u001B[39mread_csv(\u001B[38;5;124m'\u001B[39m\u001B[38;5;124miris.data.csv\u001B[39m\u001B[38;5;124m'\u001B[39m)\n\u001B[0;32m      2\u001B[0m dataset\u001B[38;5;241m.\u001B[39mhead()\n\u001B[0;32m      3\u001B[0m tc\u001B[38;5;241m=\u001B[39mdataset\u001B[38;5;241m.\u001B[39mcorr()\n",
      "File \u001B[1;32m~\\anaconda3\\Lib\\site-packages\\pandas\\util\\_decorators.py:211\u001B[0m, in \u001B[0;36mdeprecate_kwarg.<locals>._deprecate_kwarg.<locals>.wrapper\u001B[1;34m(*args, **kwargs)\u001B[0m\n\u001B[0;32m    209\u001B[0m     \u001B[38;5;28;01melse\u001B[39;00m:\n\u001B[0;32m    210\u001B[0m         kwargs[new_arg_name] \u001B[38;5;241m=\u001B[39m new_arg_value\n\u001B[1;32m--> 211\u001B[0m \u001B[38;5;28;01mreturn\u001B[39;00m func(\u001B[38;5;241m*\u001B[39margs, \u001B[38;5;241m*\u001B[39m\u001B[38;5;241m*\u001B[39mkwargs)\n",
      "File \u001B[1;32m~\\anaconda3\\Lib\\site-packages\\pandas\\util\\_decorators.py:331\u001B[0m, in \u001B[0;36mdeprecate_nonkeyword_arguments.<locals>.decorate.<locals>.wrapper\u001B[1;34m(*args, **kwargs)\u001B[0m\n\u001B[0;32m    325\u001B[0m \u001B[38;5;28;01mif\u001B[39;00m \u001B[38;5;28mlen\u001B[39m(args) \u001B[38;5;241m>\u001B[39m num_allow_args:\n\u001B[0;32m    326\u001B[0m     warnings\u001B[38;5;241m.\u001B[39mwarn(\n\u001B[0;32m    327\u001B[0m         msg\u001B[38;5;241m.\u001B[39mformat(arguments\u001B[38;5;241m=\u001B[39m_format_argument_list(allow_args)),\n\u001B[0;32m    328\u001B[0m         \u001B[38;5;167;01mFutureWarning\u001B[39;00m,\n\u001B[0;32m    329\u001B[0m         stacklevel\u001B[38;5;241m=\u001B[39mfind_stack_level(),\n\u001B[0;32m    330\u001B[0m     )\n\u001B[1;32m--> 331\u001B[0m \u001B[38;5;28;01mreturn\u001B[39;00m func(\u001B[38;5;241m*\u001B[39margs, \u001B[38;5;241m*\u001B[39m\u001B[38;5;241m*\u001B[39mkwargs)\n",
      "File \u001B[1;32m~\\anaconda3\\Lib\\site-packages\\pandas\\io\\parsers\\readers.py:950\u001B[0m, in \u001B[0;36mread_csv\u001B[1;34m(filepath_or_buffer, sep, delimiter, header, names, index_col, usecols, squeeze, prefix, mangle_dupe_cols, dtype, engine, converters, true_values, false_values, skipinitialspace, skiprows, skipfooter, nrows, na_values, keep_default_na, na_filter, verbose, skip_blank_lines, parse_dates, infer_datetime_format, keep_date_col, date_parser, dayfirst, cache_dates, iterator, chunksize, compression, thousands, decimal, lineterminator, quotechar, quoting, doublequote, escapechar, comment, encoding, encoding_errors, dialect, error_bad_lines, warn_bad_lines, on_bad_lines, delim_whitespace, low_memory, memory_map, float_precision, storage_options)\u001B[0m\n\u001B[0;32m    935\u001B[0m kwds_defaults \u001B[38;5;241m=\u001B[39m _refine_defaults_read(\n\u001B[0;32m    936\u001B[0m     dialect,\n\u001B[0;32m    937\u001B[0m     delimiter,\n\u001B[1;32m   (...)\u001B[0m\n\u001B[0;32m    946\u001B[0m     defaults\u001B[38;5;241m=\u001B[39m{\u001B[38;5;124m\"\u001B[39m\u001B[38;5;124mdelimiter\u001B[39m\u001B[38;5;124m\"\u001B[39m: \u001B[38;5;124m\"\u001B[39m\u001B[38;5;124m,\u001B[39m\u001B[38;5;124m\"\u001B[39m},\n\u001B[0;32m    947\u001B[0m )\n\u001B[0;32m    948\u001B[0m kwds\u001B[38;5;241m.\u001B[39mupdate(kwds_defaults)\n\u001B[1;32m--> 950\u001B[0m \u001B[38;5;28;01mreturn\u001B[39;00m _read(filepath_or_buffer, kwds)\n",
      "File \u001B[1;32m~\\anaconda3\\Lib\\site-packages\\pandas\\io\\parsers\\readers.py:605\u001B[0m, in \u001B[0;36m_read\u001B[1;34m(filepath_or_buffer, kwds)\u001B[0m\n\u001B[0;32m    602\u001B[0m _validate_names(kwds\u001B[38;5;241m.\u001B[39mget(\u001B[38;5;124m\"\u001B[39m\u001B[38;5;124mnames\u001B[39m\u001B[38;5;124m\"\u001B[39m, \u001B[38;5;28;01mNone\u001B[39;00m))\n\u001B[0;32m    604\u001B[0m \u001B[38;5;66;03m# Create the parser.\u001B[39;00m\n\u001B[1;32m--> 605\u001B[0m parser \u001B[38;5;241m=\u001B[39m TextFileReader(filepath_or_buffer, \u001B[38;5;241m*\u001B[39m\u001B[38;5;241m*\u001B[39mkwds)\n\u001B[0;32m    607\u001B[0m \u001B[38;5;28;01mif\u001B[39;00m chunksize \u001B[38;5;129;01mor\u001B[39;00m iterator:\n\u001B[0;32m    608\u001B[0m     \u001B[38;5;28;01mreturn\u001B[39;00m parser\n",
      "File \u001B[1;32m~\\anaconda3\\Lib\\site-packages\\pandas\\io\\parsers\\readers.py:1442\u001B[0m, in \u001B[0;36mTextFileReader.__init__\u001B[1;34m(self, f, engine, **kwds)\u001B[0m\n\u001B[0;32m   1439\u001B[0m     \u001B[38;5;28mself\u001B[39m\u001B[38;5;241m.\u001B[39moptions[\u001B[38;5;124m\"\u001B[39m\u001B[38;5;124mhas_index_names\u001B[39m\u001B[38;5;124m\"\u001B[39m] \u001B[38;5;241m=\u001B[39m kwds[\u001B[38;5;124m\"\u001B[39m\u001B[38;5;124mhas_index_names\u001B[39m\u001B[38;5;124m\"\u001B[39m]\n\u001B[0;32m   1441\u001B[0m \u001B[38;5;28mself\u001B[39m\u001B[38;5;241m.\u001B[39mhandles: IOHandles \u001B[38;5;241m|\u001B[39m \u001B[38;5;28;01mNone\u001B[39;00m \u001B[38;5;241m=\u001B[39m \u001B[38;5;28;01mNone\u001B[39;00m\n\u001B[1;32m-> 1442\u001B[0m \u001B[38;5;28mself\u001B[39m\u001B[38;5;241m.\u001B[39m_engine \u001B[38;5;241m=\u001B[39m \u001B[38;5;28mself\u001B[39m\u001B[38;5;241m.\u001B[39m_make_engine(f, \u001B[38;5;28mself\u001B[39m\u001B[38;5;241m.\u001B[39mengine)\n",
      "File \u001B[1;32m~\\anaconda3\\Lib\\site-packages\\pandas\\io\\parsers\\readers.py:1735\u001B[0m, in \u001B[0;36mTextFileReader._make_engine\u001B[1;34m(self, f, engine)\u001B[0m\n\u001B[0;32m   1733\u001B[0m     \u001B[38;5;28;01mif\u001B[39;00m \u001B[38;5;124m\"\u001B[39m\u001B[38;5;124mb\u001B[39m\u001B[38;5;124m\"\u001B[39m \u001B[38;5;129;01mnot\u001B[39;00m \u001B[38;5;129;01min\u001B[39;00m mode:\n\u001B[0;32m   1734\u001B[0m         mode \u001B[38;5;241m+\u001B[39m\u001B[38;5;241m=\u001B[39m \u001B[38;5;124m\"\u001B[39m\u001B[38;5;124mb\u001B[39m\u001B[38;5;124m\"\u001B[39m\n\u001B[1;32m-> 1735\u001B[0m \u001B[38;5;28mself\u001B[39m\u001B[38;5;241m.\u001B[39mhandles \u001B[38;5;241m=\u001B[39m get_handle(\n\u001B[0;32m   1736\u001B[0m     f,\n\u001B[0;32m   1737\u001B[0m     mode,\n\u001B[0;32m   1738\u001B[0m     encoding\u001B[38;5;241m=\u001B[39m\u001B[38;5;28mself\u001B[39m\u001B[38;5;241m.\u001B[39moptions\u001B[38;5;241m.\u001B[39mget(\u001B[38;5;124m\"\u001B[39m\u001B[38;5;124mencoding\u001B[39m\u001B[38;5;124m\"\u001B[39m, \u001B[38;5;28;01mNone\u001B[39;00m),\n\u001B[0;32m   1739\u001B[0m     compression\u001B[38;5;241m=\u001B[39m\u001B[38;5;28mself\u001B[39m\u001B[38;5;241m.\u001B[39moptions\u001B[38;5;241m.\u001B[39mget(\u001B[38;5;124m\"\u001B[39m\u001B[38;5;124mcompression\u001B[39m\u001B[38;5;124m\"\u001B[39m, \u001B[38;5;28;01mNone\u001B[39;00m),\n\u001B[0;32m   1740\u001B[0m     memory_map\u001B[38;5;241m=\u001B[39m\u001B[38;5;28mself\u001B[39m\u001B[38;5;241m.\u001B[39moptions\u001B[38;5;241m.\u001B[39mget(\u001B[38;5;124m\"\u001B[39m\u001B[38;5;124mmemory_map\u001B[39m\u001B[38;5;124m\"\u001B[39m, \u001B[38;5;28;01mFalse\u001B[39;00m),\n\u001B[0;32m   1741\u001B[0m     is_text\u001B[38;5;241m=\u001B[39mis_text,\n\u001B[0;32m   1742\u001B[0m     errors\u001B[38;5;241m=\u001B[39m\u001B[38;5;28mself\u001B[39m\u001B[38;5;241m.\u001B[39moptions\u001B[38;5;241m.\u001B[39mget(\u001B[38;5;124m\"\u001B[39m\u001B[38;5;124mencoding_errors\u001B[39m\u001B[38;5;124m\"\u001B[39m, \u001B[38;5;124m\"\u001B[39m\u001B[38;5;124mstrict\u001B[39m\u001B[38;5;124m\"\u001B[39m),\n\u001B[0;32m   1743\u001B[0m     storage_options\u001B[38;5;241m=\u001B[39m\u001B[38;5;28mself\u001B[39m\u001B[38;5;241m.\u001B[39moptions\u001B[38;5;241m.\u001B[39mget(\u001B[38;5;124m\"\u001B[39m\u001B[38;5;124mstorage_options\u001B[39m\u001B[38;5;124m\"\u001B[39m, \u001B[38;5;28;01mNone\u001B[39;00m),\n\u001B[0;32m   1744\u001B[0m )\n\u001B[0;32m   1745\u001B[0m \u001B[38;5;28;01massert\u001B[39;00m \u001B[38;5;28mself\u001B[39m\u001B[38;5;241m.\u001B[39mhandles \u001B[38;5;129;01mis\u001B[39;00m \u001B[38;5;129;01mnot\u001B[39;00m \u001B[38;5;28;01mNone\u001B[39;00m\n\u001B[0;32m   1746\u001B[0m f \u001B[38;5;241m=\u001B[39m \u001B[38;5;28mself\u001B[39m\u001B[38;5;241m.\u001B[39mhandles\u001B[38;5;241m.\u001B[39mhandle\n",
      "File \u001B[1;32m~\\anaconda3\\Lib\\site-packages\\pandas\\io\\common.py:856\u001B[0m, in \u001B[0;36mget_handle\u001B[1;34m(path_or_buf, mode, encoding, compression, memory_map, is_text, errors, storage_options)\u001B[0m\n\u001B[0;32m    851\u001B[0m \u001B[38;5;28;01melif\u001B[39;00m \u001B[38;5;28misinstance\u001B[39m(handle, \u001B[38;5;28mstr\u001B[39m):\n\u001B[0;32m    852\u001B[0m     \u001B[38;5;66;03m# Check whether the filename is to be opened in binary mode.\u001B[39;00m\n\u001B[0;32m    853\u001B[0m     \u001B[38;5;66;03m# Binary mode does not support 'encoding' and 'newline'.\u001B[39;00m\n\u001B[0;32m    854\u001B[0m     \u001B[38;5;28;01mif\u001B[39;00m ioargs\u001B[38;5;241m.\u001B[39mencoding \u001B[38;5;129;01mand\u001B[39;00m \u001B[38;5;124m\"\u001B[39m\u001B[38;5;124mb\u001B[39m\u001B[38;5;124m\"\u001B[39m \u001B[38;5;129;01mnot\u001B[39;00m \u001B[38;5;129;01min\u001B[39;00m ioargs\u001B[38;5;241m.\u001B[39mmode:\n\u001B[0;32m    855\u001B[0m         \u001B[38;5;66;03m# Encoding\u001B[39;00m\n\u001B[1;32m--> 856\u001B[0m         handle \u001B[38;5;241m=\u001B[39m \u001B[38;5;28mopen\u001B[39m(\n\u001B[0;32m    857\u001B[0m             handle,\n\u001B[0;32m    858\u001B[0m             ioargs\u001B[38;5;241m.\u001B[39mmode,\n\u001B[0;32m    859\u001B[0m             encoding\u001B[38;5;241m=\u001B[39mioargs\u001B[38;5;241m.\u001B[39mencoding,\n\u001B[0;32m    860\u001B[0m             errors\u001B[38;5;241m=\u001B[39merrors,\n\u001B[0;32m    861\u001B[0m             newline\u001B[38;5;241m=\u001B[39m\u001B[38;5;124m\"\u001B[39m\u001B[38;5;124m\"\u001B[39m,\n\u001B[0;32m    862\u001B[0m         )\n\u001B[0;32m    863\u001B[0m     \u001B[38;5;28;01melse\u001B[39;00m:\n\u001B[0;32m    864\u001B[0m         \u001B[38;5;66;03m# Binary mode\u001B[39;00m\n\u001B[0;32m    865\u001B[0m         handle \u001B[38;5;241m=\u001B[39m \u001B[38;5;28mopen\u001B[39m(handle, ioargs\u001B[38;5;241m.\u001B[39mmode)\n",
      "\u001B[1;31mFileNotFoundError\u001B[0m: [Errno 2] No such file or directory: 'iris.data.csv'"
     ]
    }
   ],
   "source": [
    "dataset = pd.read_csv('iris.data.csv')\n",
    "dataset.head()\n",
    "tc=dataset.corr()\n",
    "sns.heatmap(tc,annot=True,cmap='plasma',linecolor='black',linewidths=1)"
   ],
   "metadata": {
    "collapsed": false,
    "ExecuteTime": {
     "end_time": "2023-10-08T05:49:20.808939600Z",
     "start_time": "2023-10-08T05:49:20.538715700Z"
    }
   }
  },
  {
   "cell_type": "code",
   "execution_count": null,
   "outputs": [],
   "source": [
    "from sklearn.svm import SVC\n",
    "classifier = SVC(kernel='linear', random_state=0)\n",
    "classifier.fit(x_train, y_train)\n",
    "\n",
    "y_pred= classifier.predict(x_test)\n",
    "\n",
    "print(y_pred)"
   ],
   "metadata": {
    "collapsed": false,
    "ExecuteTime": {
     "end_time": "2023-10-08T05:49:20.809937Z",
     "start_time": "2023-10-08T05:49:20.808939600Z"
    }
   }
  },
  {
   "cell_type": "code",
   "execution_count": null,
   "outputs": [],
   "source": [
    "from sklearn.metrics import confusion_matrix\n",
    "cm= confusion_matrix(y_test, y_pred)\n",
    "\n",
    "print(cm)"
   ],
   "metadata": {
    "collapsed": false,
    "ExecuteTime": {
     "start_time": "2023-10-08T05:49:20.812937300Z"
    }
   }
  },
  {
   "cell_type": "code",
   "execution_count": null,
   "outputs": [],
   "source": [
    "import numpy as nm\n",
    "import matplotlib.pyplot as mtp\n",
    "import pandas as pd\n",
    "\n",
    "data_set= pd.read_csv('iris.data.csv')\n",
    "\n",
    "x= data_set.iloc[:, [2,3]].values\n",
    "y= data_set.iloc[:, 4].values\n",
    "\n",
    "from sklearn.model_selection import train_test_split\n",
    "x_train, x_test, y_train, y_test= train_test_split(x, y, test_size= 0.25, random_state=0)\n",
    "\n",
    "from sklearn.preprocessing import StandardScaler\n",
    "st_x= StandardScaler()\n",
    "x_train= st_x.fit_transform(x_train)\n",
    "x_test= st_x.transform(x_test)\n",
    "\n",
    "print(x_train, '\\n******************************')\n",
    "print(x_test)"
   ],
   "metadata": {
    "collapsed": false,
    "ExecuteTime": {
     "start_time": "2023-10-08T05:49:20.814935500Z"
    }
   }
  },
  {
   "cell_type": "code",
   "execution_count": null,
   "outputs": [],
   "source": [
    "import numpy as nm\n",
    "import matplotlib.pyplot as mtp\n",
    "import pandas as pd\n",
    "import seaborn as sns\n",
    "\n",
    "data_set = pd.read_csv('iris.data.csv')\n",
    "data_set.head()\n",
    "tc=dataset.corr()\n",
    "sns.heatmap(tc,annot=True,cmap='plasma',linecolor='black',linewidths=1)"
   ],
   "metadata": {
    "collapsed": false,
    "ExecuteTime": {
     "start_time": "2023-10-08T05:49:20.819484200Z"
    }
   }
  },
  {
   "cell_type": "code",
   "execution_count": null,
   "outputs": [],
   "source": [
    "from sklearn.svm import SVC\n",
    "classifier = SVC(kernel='linear', random_state=0)\n",
    "classifier.fit(x_train, y_train)\n",
    "\n",
    "y_pred= classifier.predict(x_test)\n",
    "\n",
    "print(y_pred)"
   ],
   "metadata": {
    "collapsed": false,
    "ExecuteTime": {
     "end_time": "2023-10-08T05:49:20.823471400Z",
     "start_time": "2023-10-08T05:49:20.821482800Z"
    }
   }
  },
  {
   "cell_type": "code",
   "execution_count": null,
   "outputs": [],
   "source": [
    "from sklearn.metrics import confusion_matrix\n",
    "cm= confusion_matrix(y_test, y_pred)\n",
    "\n",
    "print(cm)"
   ],
   "metadata": {
    "collapsed": false,
    "ExecuteTime": {
     "start_time": "2023-10-08T05:49:20.823471400Z"
    }
   }
  }
 ],
 "metadata": {
  "kernelspec": {
   "display_name": "Python 3",
   "language": "python",
   "name": "python3"
  },
  "language_info": {
   "codemirror_mode": {
    "name": "ipython",
    "version": 2
   },
   "file_extension": ".py",
   "mimetype": "text/x-python",
   "name": "python",
   "nbconvert_exporter": "python",
   "pygments_lexer": "ipython2",
   "version": "2.7.6"
  }
 },
 "nbformat": 4,
 "nbformat_minor": 0
}
