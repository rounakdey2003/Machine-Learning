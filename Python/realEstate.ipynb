{
 "cells": [
  {
   "cell_type": "code",
   "execution_count": 13,
   "id": "initial_id",
   "metadata": {
    "collapsed": true,
    "ExecuteTime": {
     "end_time": "2024-01-14T02:46:08.380884100Z",
     "start_time": "2024-01-14T02:46:08.294663Z"
    }
   },
   "outputs": [
    {
     "data": {
      "text/plain": "      work_year                 job_title                    job_category  \\\n0          2023      Data DevOps Engineer                Data Engineering   \n1          2023            Data Architect  Data Architecture and Modeling   \n2          2023            Data Architect  Data Architecture and Modeling   \n3          2023            Data Scientist       Data Science and Research   \n4          2023            Data Scientist       Data Science and Research   \n...         ...                       ...                             ...   \n9350       2021           Data Specialist    Data Management and Strategy   \n9351       2020            Data Scientist       Data Science and Research   \n9352       2021  Principal Data Scientist       Data Science and Research   \n9353       2020            Data Scientist       Data Science and Research   \n9354       2020     Business Data Analyst                   Data Analysis   \n\n     salary_currency  salary  salary_in_usd employee_residence  \\\n0                EUR   88000          95012            Germany   \n1                USD  186000         186000      United States   \n2                USD   81800          81800      United States   \n3                USD  212000         212000      United States   \n4                USD   93300          93300      United States   \n...              ...     ...            ...                ...   \n9350             USD  165000         165000      United States   \n9351             USD  412000         412000      United States   \n9352             USD  151000         151000      United States   \n9353             USD  105000         105000      United States   \n9354             USD  100000         100000      United States   \n\n     experience_level employment_type work_setting company_location  \\\n0           Mid-level       Full-time       Hybrid          Germany   \n1              Senior       Full-time    In-person    United States   \n2              Senior       Full-time    In-person    United States   \n3              Senior       Full-time    In-person    United States   \n4              Senior       Full-time    In-person    United States   \n...               ...             ...          ...              ...   \n9350           Senior       Full-time       Remote    United States   \n9351           Senior       Full-time       Remote    United States   \n9352        Mid-level       Full-time       Remote    United States   \n9353      Entry-level       Full-time       Remote    United States   \n9354      Entry-level        Contract       Remote    United States   \n\n     company_size  \n0               L  \n1               M  \n2               M  \n3               M  \n4               M  \n...           ...  \n9350            L  \n9351            L  \n9352            L  \n9353            S  \n9354            L  \n\n[9355 rows x 12 columns]",
      "text/html": "<div>\n<style scoped>\n    .dataframe tbody tr th:only-of-type {\n        vertical-align: middle;\n    }\n\n    .dataframe tbody tr th {\n        vertical-align: top;\n    }\n\n    .dataframe thead th {\n        text-align: right;\n    }\n</style>\n<table border=\"1\" class=\"dataframe\">\n  <thead>\n    <tr style=\"text-align: right;\">\n      <th></th>\n      <th>work_year</th>\n      <th>job_title</th>\n      <th>job_category</th>\n      <th>salary_currency</th>\n      <th>salary</th>\n      <th>salary_in_usd</th>\n      <th>employee_residence</th>\n      <th>experience_level</th>\n      <th>employment_type</th>\n      <th>work_setting</th>\n      <th>company_location</th>\n      <th>company_size</th>\n    </tr>\n  </thead>\n  <tbody>\n    <tr>\n      <th>0</th>\n      <td>2023</td>\n      <td>Data DevOps Engineer</td>\n      <td>Data Engineering</td>\n      <td>EUR</td>\n      <td>88000</td>\n      <td>95012</td>\n      <td>Germany</td>\n      <td>Mid-level</td>\n      <td>Full-time</td>\n      <td>Hybrid</td>\n      <td>Germany</td>\n      <td>L</td>\n    </tr>\n    <tr>\n      <th>1</th>\n      <td>2023</td>\n      <td>Data Architect</td>\n      <td>Data Architecture and Modeling</td>\n      <td>USD</td>\n      <td>186000</td>\n      <td>186000</td>\n      <td>United States</td>\n      <td>Senior</td>\n      <td>Full-time</td>\n      <td>In-person</td>\n      <td>United States</td>\n      <td>M</td>\n    </tr>\n    <tr>\n      <th>2</th>\n      <td>2023</td>\n      <td>Data Architect</td>\n      <td>Data Architecture and Modeling</td>\n      <td>USD</td>\n      <td>81800</td>\n      <td>81800</td>\n      <td>United States</td>\n      <td>Senior</td>\n      <td>Full-time</td>\n      <td>In-person</td>\n      <td>United States</td>\n      <td>M</td>\n    </tr>\n    <tr>\n      <th>3</th>\n      <td>2023</td>\n      <td>Data Scientist</td>\n      <td>Data Science and Research</td>\n      <td>USD</td>\n      <td>212000</td>\n      <td>212000</td>\n      <td>United States</td>\n      <td>Senior</td>\n      <td>Full-time</td>\n      <td>In-person</td>\n      <td>United States</td>\n      <td>M</td>\n    </tr>\n    <tr>\n      <th>4</th>\n      <td>2023</td>\n      <td>Data Scientist</td>\n      <td>Data Science and Research</td>\n      <td>USD</td>\n      <td>93300</td>\n      <td>93300</td>\n      <td>United States</td>\n      <td>Senior</td>\n      <td>Full-time</td>\n      <td>In-person</td>\n      <td>United States</td>\n      <td>M</td>\n    </tr>\n    <tr>\n      <th>...</th>\n      <td>...</td>\n      <td>...</td>\n      <td>...</td>\n      <td>...</td>\n      <td>...</td>\n      <td>...</td>\n      <td>...</td>\n      <td>...</td>\n      <td>...</td>\n      <td>...</td>\n      <td>...</td>\n      <td>...</td>\n    </tr>\n    <tr>\n      <th>9350</th>\n      <td>2021</td>\n      <td>Data Specialist</td>\n      <td>Data Management and Strategy</td>\n      <td>USD</td>\n      <td>165000</td>\n      <td>165000</td>\n      <td>United States</td>\n      <td>Senior</td>\n      <td>Full-time</td>\n      <td>Remote</td>\n      <td>United States</td>\n      <td>L</td>\n    </tr>\n    <tr>\n      <th>9351</th>\n      <td>2020</td>\n      <td>Data Scientist</td>\n      <td>Data Science and Research</td>\n      <td>USD</td>\n      <td>412000</td>\n      <td>412000</td>\n      <td>United States</td>\n      <td>Senior</td>\n      <td>Full-time</td>\n      <td>Remote</td>\n      <td>United States</td>\n      <td>L</td>\n    </tr>\n    <tr>\n      <th>9352</th>\n      <td>2021</td>\n      <td>Principal Data Scientist</td>\n      <td>Data Science and Research</td>\n      <td>USD</td>\n      <td>151000</td>\n      <td>151000</td>\n      <td>United States</td>\n      <td>Mid-level</td>\n      <td>Full-time</td>\n      <td>Remote</td>\n      <td>United States</td>\n      <td>L</td>\n    </tr>\n    <tr>\n      <th>9353</th>\n      <td>2020</td>\n      <td>Data Scientist</td>\n      <td>Data Science and Research</td>\n      <td>USD</td>\n      <td>105000</td>\n      <td>105000</td>\n      <td>United States</td>\n      <td>Entry-level</td>\n      <td>Full-time</td>\n      <td>Remote</td>\n      <td>United States</td>\n      <td>S</td>\n    </tr>\n    <tr>\n      <th>9354</th>\n      <td>2020</td>\n      <td>Business Data Analyst</td>\n      <td>Data Analysis</td>\n      <td>USD</td>\n      <td>100000</td>\n      <td>100000</td>\n      <td>United States</td>\n      <td>Entry-level</td>\n      <td>Contract</td>\n      <td>Remote</td>\n      <td>United States</td>\n      <td>L</td>\n    </tr>\n  </tbody>\n</table>\n<p>9355 rows × 12 columns</p>\n</div>"
     },
     "execution_count": 13,
     "metadata": {},
     "output_type": "execute_result"
    }
   ],
   "source": [
    "import pandas as pd\n",
    "\n",
    "df = pd.read_csv('../Dataset/jobs.csv')\n",
    "df"
   ]
  },
  {
   "cell_type": "code",
   "outputs": [
    {
     "name": "stdout",
     "output_type": "stream",
     "text": [
      "<class 'pandas.core.frame.DataFrame'>\n",
      "RangeIndex: 9355 entries, 0 to 9354\n",
      "Data columns (total 12 columns):\n",
      " #   Column              Non-Null Count  Dtype \n",
      "---  ------              --------------  ----- \n",
      " 0   work_year           9355 non-null   int64 \n",
      " 1   job_title           9355 non-null   object\n",
      " 2   job_category        9355 non-null   object\n",
      " 3   salary_currency     9355 non-null   object\n",
      " 4   salary              9355 non-null   int64 \n",
      " 5   salary_in_usd       9355 non-null   int64 \n",
      " 6   employee_residence  9355 non-null   object\n",
      " 7   experience_level    9355 non-null   object\n",
      " 8   employment_type     9355 non-null   object\n",
      " 9   work_setting        9355 non-null   object\n",
      " 10  company_location    9355 non-null   object\n",
      " 11  company_size        9355 non-null   object\n",
      "dtypes: int64(3), object(9)\n",
      "memory usage: 877.2+ KB\n"
     ]
    }
   ],
   "source": [
    "df.info()"
   ],
   "metadata": {
    "collapsed": false,
    "ExecuteTime": {
     "end_time": "2024-01-14T02:46:08.381557600Z",
     "start_time": "2024-01-14T02:46:08.344683400Z"
    }
   },
   "id": "1fb4b54a794a89ae",
   "execution_count": 14
  },
  {
   "cell_type": "code",
   "outputs": [
    {
     "data": {
      "text/plain": "         work_year         salary  salary_in_usd\ncount  9355.000000    9355.000000    9355.000000\nmean   2022.760449  149927.981293  150299.495564\nstd       0.519470   63608.835387   63177.372024\nmin    2020.000000   14000.000000   15000.000000\n25%    2023.000000  105200.000000  105700.000000\n50%    2023.000000  143860.000000  143000.000000\n75%    2023.000000  187000.000000  186723.000000\nmax    2023.000000  450000.000000  450000.000000",
      "text/html": "<div>\n<style scoped>\n    .dataframe tbody tr th:only-of-type {\n        vertical-align: middle;\n    }\n\n    .dataframe tbody tr th {\n        vertical-align: top;\n    }\n\n    .dataframe thead th {\n        text-align: right;\n    }\n</style>\n<table border=\"1\" class=\"dataframe\">\n  <thead>\n    <tr style=\"text-align: right;\">\n      <th></th>\n      <th>work_year</th>\n      <th>salary</th>\n      <th>salary_in_usd</th>\n    </tr>\n  </thead>\n  <tbody>\n    <tr>\n      <th>count</th>\n      <td>9355.000000</td>\n      <td>9355.000000</td>\n      <td>9355.000000</td>\n    </tr>\n    <tr>\n      <th>mean</th>\n      <td>2022.760449</td>\n      <td>149927.981293</td>\n      <td>150299.495564</td>\n    </tr>\n    <tr>\n      <th>std</th>\n      <td>0.519470</td>\n      <td>63608.835387</td>\n      <td>63177.372024</td>\n    </tr>\n    <tr>\n      <th>min</th>\n      <td>2020.000000</td>\n      <td>14000.000000</td>\n      <td>15000.000000</td>\n    </tr>\n    <tr>\n      <th>25%</th>\n      <td>2023.000000</td>\n      <td>105200.000000</td>\n      <td>105700.000000</td>\n    </tr>\n    <tr>\n      <th>50%</th>\n      <td>2023.000000</td>\n      <td>143860.000000</td>\n      <td>143000.000000</td>\n    </tr>\n    <tr>\n      <th>75%</th>\n      <td>2023.000000</td>\n      <td>187000.000000</td>\n      <td>186723.000000</td>\n    </tr>\n    <tr>\n      <th>max</th>\n      <td>2023.000000</td>\n      <td>450000.000000</td>\n      <td>450000.000000</td>\n    </tr>\n  </tbody>\n</table>\n</div>"
     },
     "execution_count": 15,
     "metadata": {},
     "output_type": "execute_result"
    }
   ],
   "source": [
    "df.describe()"
   ],
   "metadata": {
    "collapsed": false,
    "ExecuteTime": {
     "end_time": "2024-01-14T02:46:08.447253200Z",
     "start_time": "2024-01-14T02:46:08.384997300Z"
    }
   },
   "id": "c9666f2b64446ce",
   "execution_count": 15
  },
  {
   "cell_type": "code",
   "outputs": [
    {
     "data": {
      "text/plain": "work_year             0\njob_title             0\njob_category          0\nsalary_currency       0\nsalary                0\nsalary_in_usd         0\nemployee_residence    0\nexperience_level      0\nemployment_type       0\nwork_setting          0\ncompany_location      0\ncompany_size          0\ndtype: int64"
     },
     "execution_count": 16,
     "metadata": {},
     "output_type": "execute_result"
    }
   ],
   "source": [
    "df.isna().sum()"
   ],
   "metadata": {
    "collapsed": false,
    "ExecuteTime": {
     "end_time": "2024-01-14T02:46:08.489069300Z",
     "start_time": "2024-01-14T02:46:08.423979700Z"
    }
   },
   "id": "2f242afec3fdff99",
   "execution_count": 16
  },
  {
   "cell_type": "code",
   "outputs": [],
   "source": [],
   "metadata": {
    "collapsed": false
   },
   "id": "d3612781e5d4ded9"
  }
 ],
 "metadata": {
  "kernelspec": {
   "display_name": "Python 3",
   "language": "python",
   "name": "python3"
  },
  "language_info": {
   "codemirror_mode": {
    "name": "ipython",
    "version": 2
   },
   "file_extension": ".py",
   "mimetype": "text/x-python",
   "name": "python",
   "nbconvert_exporter": "python",
   "pygments_lexer": "ipython2",
   "version": "2.7.6"
  }
 },
 "nbformat": 4,
 "nbformat_minor": 5
}
