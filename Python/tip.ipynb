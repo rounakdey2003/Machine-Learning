{
 "cells": [
  {
   "cell_type": "code",
   "id": "initial_id",
   "metadata": {
    "collapsed": true,
    "ExecuteTime": {
     "end_time": "2024-05-19T02:28:45.813701Z",
     "start_time": "2024-05-19T02:28:45.803420Z"
    }
   },
   "source": [
    "import pandas as pd\n",
    "import seaborn as sns\n",
    "import matplotlib.pyplot as plt\n",
    "from sklearn.model_selection import train_test_split\n",
    "from sklearn.preprocessing import StandardScaler\n",
    "from sklearn.linear_model import LogisticRegression\n",
    "from sklearn.metrics import confusion_matrix"
   ],
   "outputs": [],
   "execution_count": 301
  },
  {
   "metadata": {
    "ExecuteTime": {
     "end_time": "2024-05-19T02:28:45.851463Z",
     "start_time": "2024-05-19T02:28:45.830706Z"
    }
   },
   "cell_type": "code",
   "source": [
    "df = pd.read_csv(\"C:/Users/rouna/OneDrive/Documents/MachineLearning/Dataset/tip.csv\")\n",
    "\n",
    "df"
   ],
   "id": "8cb4e1c447aafa43",
   "outputs": [
    {
     "data": {
      "text/plain": [
       "     total_bill   tip     sex smoker   day    time  size\n",
       "0         16.99  1.01  Female     No   Sun  Dinner     2\n",
       "1         10.34  1.66    Male     No   Sun  Dinner     3\n",
       "2         21.01  3.50    Male     No   Sun  Dinner     3\n",
       "3         23.68  3.31    Male     No   Sun  Dinner     2\n",
       "4         24.59  3.61  Female     No   Sun  Dinner     4\n",
       "..          ...   ...     ...    ...   ...     ...   ...\n",
       "239       29.03  5.92    Male     No   Sat  Dinner     3\n",
       "240       27.18  2.00  Female    Yes   Sat  Dinner     2\n",
       "241       22.67  2.00    Male    Yes   Sat  Dinner     2\n",
       "242       17.82  1.75    Male     No   Sat  Dinner     2\n",
       "243       18.78  3.00  Female     No  Thur  Dinner     2\n",
       "\n",
       "[244 rows x 7 columns]"
      ],
      "text/html": [
       "<div>\n",
       "<style scoped>\n",
       "    .dataframe tbody tr th:only-of-type {\n",
       "        vertical-align: middle;\n",
       "    }\n",
       "\n",
       "    .dataframe tbody tr th {\n",
       "        vertical-align: top;\n",
       "    }\n",
       "\n",
       "    .dataframe thead th {\n",
       "        text-align: right;\n",
       "    }\n",
       "</style>\n",
       "<table border=\"1\" class=\"dataframe\">\n",
       "  <thead>\n",
       "    <tr style=\"text-align: right;\">\n",
       "      <th></th>\n",
       "      <th>total_bill</th>\n",
       "      <th>tip</th>\n",
       "      <th>sex</th>\n",
       "      <th>smoker</th>\n",
       "      <th>day</th>\n",
       "      <th>time</th>\n",
       "      <th>size</th>\n",
       "    </tr>\n",
       "  </thead>\n",
       "  <tbody>\n",
       "    <tr>\n",
       "      <th>0</th>\n",
       "      <td>16.99</td>\n",
       "      <td>1.01</td>\n",
       "      <td>Female</td>\n",
       "      <td>No</td>\n",
       "      <td>Sun</td>\n",
       "      <td>Dinner</td>\n",
       "      <td>2</td>\n",
       "    </tr>\n",
       "    <tr>\n",
       "      <th>1</th>\n",
       "      <td>10.34</td>\n",
       "      <td>1.66</td>\n",
       "      <td>Male</td>\n",
       "      <td>No</td>\n",
       "      <td>Sun</td>\n",
       "      <td>Dinner</td>\n",
       "      <td>3</td>\n",
       "    </tr>\n",
       "    <tr>\n",
       "      <th>2</th>\n",
       "      <td>21.01</td>\n",
       "      <td>3.50</td>\n",
       "      <td>Male</td>\n",
       "      <td>No</td>\n",
       "      <td>Sun</td>\n",
       "      <td>Dinner</td>\n",
       "      <td>3</td>\n",
       "    </tr>\n",
       "    <tr>\n",
       "      <th>3</th>\n",
       "      <td>23.68</td>\n",
       "      <td>3.31</td>\n",
       "      <td>Male</td>\n",
       "      <td>No</td>\n",
       "      <td>Sun</td>\n",
       "      <td>Dinner</td>\n",
       "      <td>2</td>\n",
       "    </tr>\n",
       "    <tr>\n",
       "      <th>4</th>\n",
       "      <td>24.59</td>\n",
       "      <td>3.61</td>\n",
       "      <td>Female</td>\n",
       "      <td>No</td>\n",
       "      <td>Sun</td>\n",
       "      <td>Dinner</td>\n",
       "      <td>4</td>\n",
       "    </tr>\n",
       "    <tr>\n",
       "      <th>...</th>\n",
       "      <td>...</td>\n",
       "      <td>...</td>\n",
       "      <td>...</td>\n",
       "      <td>...</td>\n",
       "      <td>...</td>\n",
       "      <td>...</td>\n",
       "      <td>...</td>\n",
       "    </tr>\n",
       "    <tr>\n",
       "      <th>239</th>\n",
       "      <td>29.03</td>\n",
       "      <td>5.92</td>\n",
       "      <td>Male</td>\n",
       "      <td>No</td>\n",
       "      <td>Sat</td>\n",
       "      <td>Dinner</td>\n",
       "      <td>3</td>\n",
       "    </tr>\n",
       "    <tr>\n",
       "      <th>240</th>\n",
       "      <td>27.18</td>\n",
       "      <td>2.00</td>\n",
       "      <td>Female</td>\n",
       "      <td>Yes</td>\n",
       "      <td>Sat</td>\n",
       "      <td>Dinner</td>\n",
       "      <td>2</td>\n",
       "    </tr>\n",
       "    <tr>\n",
       "      <th>241</th>\n",
       "      <td>22.67</td>\n",
       "      <td>2.00</td>\n",
       "      <td>Male</td>\n",
       "      <td>Yes</td>\n",
       "      <td>Sat</td>\n",
       "      <td>Dinner</td>\n",
       "      <td>2</td>\n",
       "    </tr>\n",
       "    <tr>\n",
       "      <th>242</th>\n",
       "      <td>17.82</td>\n",
       "      <td>1.75</td>\n",
       "      <td>Male</td>\n",
       "      <td>No</td>\n",
       "      <td>Sat</td>\n",
       "      <td>Dinner</td>\n",
       "      <td>2</td>\n",
       "    </tr>\n",
       "    <tr>\n",
       "      <th>243</th>\n",
       "      <td>18.78</td>\n",
       "      <td>3.00</td>\n",
       "      <td>Female</td>\n",
       "      <td>No</td>\n",
       "      <td>Thur</td>\n",
       "      <td>Dinner</td>\n",
       "      <td>2</td>\n",
       "    </tr>\n",
       "  </tbody>\n",
       "</table>\n",
       "<p>244 rows × 7 columns</p>\n",
       "</div>"
      ]
     },
     "execution_count": 302,
     "metadata": {},
     "output_type": "execute_result"
    }
   ],
   "execution_count": 302
  },
  {
   "metadata": {
    "ExecuteTime": {
     "end_time": "2024-05-19T02:28:45.952908Z",
     "start_time": "2024-05-19T02:28:45.937433Z"
    }
   },
   "cell_type": "code",
   "source": "df.info()",
   "id": "40d3075eff9fc9bb",
   "outputs": [
    {
     "name": "stdout",
     "output_type": "stream",
     "text": [
      "<class 'pandas.core.frame.DataFrame'>\n",
      "RangeIndex: 244 entries, 0 to 243\n",
      "Data columns (total 7 columns):\n",
      " #   Column      Non-Null Count  Dtype  \n",
      "---  ------      --------------  -----  \n",
      " 0   total_bill  244 non-null    float64\n",
      " 1   tip         244 non-null    float64\n",
      " 2   sex         244 non-null    object \n",
      " 3   smoker      244 non-null    object \n",
      " 4   day         244 non-null    object \n",
      " 5   time        244 non-null    object \n",
      " 6   size        244 non-null    int64  \n",
      "dtypes: float64(2), int64(1), object(4)\n",
      "memory usage: 13.5+ KB\n"
     ]
    }
   ],
   "execution_count": 303
  },
  {
   "metadata": {
    "ExecuteTime": {
     "end_time": "2024-05-19T02:28:45.991701Z",
     "start_time": "2024-05-19T02:28:45.964436Z"
    }
   },
   "cell_type": "code",
   "source": "df.describe()",
   "id": "176e03bc3c0a823a",
   "outputs": [
    {
     "data": {
      "text/plain": [
       "       total_bill         tip        size\n",
       "count  244.000000  244.000000  244.000000\n",
       "mean    19.785943    2.998279    2.569672\n",
       "std      8.902412    1.383638    0.951100\n",
       "min      3.070000    1.000000    1.000000\n",
       "25%     13.347500    2.000000    2.000000\n",
       "50%     17.795000    2.900000    2.000000\n",
       "75%     24.127500    3.562500    3.000000\n",
       "max     50.810000   10.000000    6.000000"
      ],
      "text/html": [
       "<div>\n",
       "<style scoped>\n",
       "    .dataframe tbody tr th:only-of-type {\n",
       "        vertical-align: middle;\n",
       "    }\n",
       "\n",
       "    .dataframe tbody tr th {\n",
       "        vertical-align: top;\n",
       "    }\n",
       "\n",
       "    .dataframe thead th {\n",
       "        text-align: right;\n",
       "    }\n",
       "</style>\n",
       "<table border=\"1\" class=\"dataframe\">\n",
       "  <thead>\n",
       "    <tr style=\"text-align: right;\">\n",
       "      <th></th>\n",
       "      <th>total_bill</th>\n",
       "      <th>tip</th>\n",
       "      <th>size</th>\n",
       "    </tr>\n",
       "  </thead>\n",
       "  <tbody>\n",
       "    <tr>\n",
       "      <th>count</th>\n",
       "      <td>244.000000</td>\n",
       "      <td>244.000000</td>\n",
       "      <td>244.000000</td>\n",
       "    </tr>\n",
       "    <tr>\n",
       "      <th>mean</th>\n",
       "      <td>19.785943</td>\n",
       "      <td>2.998279</td>\n",
       "      <td>2.569672</td>\n",
       "    </tr>\n",
       "    <tr>\n",
       "      <th>std</th>\n",
       "      <td>8.902412</td>\n",
       "      <td>1.383638</td>\n",
       "      <td>0.951100</td>\n",
       "    </tr>\n",
       "    <tr>\n",
       "      <th>min</th>\n",
       "      <td>3.070000</td>\n",
       "      <td>1.000000</td>\n",
       "      <td>1.000000</td>\n",
       "    </tr>\n",
       "    <tr>\n",
       "      <th>25%</th>\n",
       "      <td>13.347500</td>\n",
       "      <td>2.000000</td>\n",
       "      <td>2.000000</td>\n",
       "    </tr>\n",
       "    <tr>\n",
       "      <th>50%</th>\n",
       "      <td>17.795000</td>\n",
       "      <td>2.900000</td>\n",
       "      <td>2.000000</td>\n",
       "    </tr>\n",
       "    <tr>\n",
       "      <th>75%</th>\n",
       "      <td>24.127500</td>\n",
       "      <td>3.562500</td>\n",
       "      <td>3.000000</td>\n",
       "    </tr>\n",
       "    <tr>\n",
       "      <th>max</th>\n",
       "      <td>50.810000</td>\n",
       "      <td>10.000000</td>\n",
       "      <td>6.000000</td>\n",
       "    </tr>\n",
       "  </tbody>\n",
       "</table>\n",
       "</div>"
      ]
     },
     "execution_count": 304,
     "metadata": {},
     "output_type": "execute_result"
    }
   ],
   "execution_count": 304
  },
  {
   "metadata": {
    "ExecuteTime": {
     "end_time": "2024-05-19T02:28:46.026184Z",
     "start_time": "2024-05-19T02:28:46.012772Z"
    }
   },
   "cell_type": "code",
   "source": "df.smoker.value_counts()",
   "id": "1a8785719f2745de",
   "outputs": [
    {
     "data": {
      "text/plain": [
       "smoker\n",
       "No     151\n",
       "Yes     93\n",
       "Name: count, dtype: int64"
      ]
     },
     "execution_count": 305,
     "metadata": {},
     "output_type": "execute_result"
    }
   ],
   "execution_count": 305
  },
  {
   "metadata": {
    "ExecuteTime": {
     "end_time": "2024-05-19T02:28:46.075314Z",
     "start_time": "2024-05-19T02:28:46.063106Z"
    }
   },
   "cell_type": "code",
   "source": [
    "shape = df.shape\n",
    "print(shape)"
   ],
   "id": "5d860264ce0295c2",
   "outputs": [
    {
     "name": "stdout",
     "output_type": "stream",
     "text": [
      "(244, 7)\n"
     ]
    }
   ],
   "execution_count": 306
  },
  {
   "metadata": {
    "ExecuteTime": {
     "end_time": "2024-05-19T02:28:46.391986Z",
     "start_time": "2024-05-19T02:28:46.203876Z"
    }
   },
   "cell_type": "code",
   "source": "sns.boxplot(data=df, x='tip')",
   "id": "c23f57c4fb1ef2b",
   "outputs": [
    {
     "data": {
      "text/plain": [
       "<Axes: xlabel='tip'>"
      ]
     },
     "execution_count": 307,
     "metadata": {},
     "output_type": "execute_result"
    },
    {
     "data": {
      "text/plain": [
       "<Figure size 640x480 with 1 Axes>"
      ],
      "image/png": "[encoded data removed]"
     },
     "metadata": {},
     "output_type": "display_data"
    }
   ],
   "execution_count": 307
  },
  {
   "metadata": {
    "ExecuteTime": {
     "end_time": "2024-05-19T02:28:46.627048Z",
     "start_time": "2024-05-19T02:28:46.398011Z"
    }
   },
   "cell_type": "code",
   "source": [
    "smoker = df.groupby('smoker')['sex'].value_counts()\n",
    "print(smoker)\n",
    "\n",
    "label = [f'{smoker}-{sex}' for smoker, sex in smoker.index]\n",
    "plt.bar(label, smoker.values)"
   ],
   "id": "982ebcb08aee1fa5",
   "outputs": [
    {
     "name": "stdout",
     "output_type": "stream",
     "text": [
      "smoker  sex   \n",
      "No      Male      97\n",
      "        Female    54\n",
      "Yes     Male      60\n",
      "        Female    33\n",
      "Name: count, dtype: int64\n"
     ]
    },
    {
     "data": {
      "text/plain": [
       "<BarContainer object of 4 artists>"
      ]
     },
     "execution_count": 308,
     "metadata": {},
     "output_type": "execute_result"
    },
    {
     "data": {
      "text/plain": [
       "<Figure size 640x480 with 1 Axes>"
      ],
      "image/png": "[encoded data removed]"
     },
     "metadata": {},
     "output_type": "display_data"
    }
   ],
   "execution_count": 308
  },
  {
   "metadata": {
    "ExecuteTime": {
     "end_time": "2024-05-19T02:28:46.672184Z",
     "start_time": "2024-05-19T02:28:46.633586Z"
    }
   },
   "cell_type": "code",
   "source": [
    "df_copy = df.copy()\n",
    "df_copy.drop('sex', axis=1, inplace=True)\n",
    "df_copy.drop('smoker', axis=1, inplace=True)\n",
    "df_copy.drop('day', axis=1, inplace=True)\n",
    "df_copy.drop('time', axis=1, inplace=True)\n",
    "df_copy"
   ],
   "id": "447cb7763c730aad",
   "outputs": [
    {
     "data": {
      "text/plain": [
       "     total_bill   tip  size\n",
       "0         16.99  1.01     2\n",
       "1         10.34  1.66     3\n",
       "2         21.01  3.50     3\n",
       "3         23.68  3.31     2\n",
       "4         24.59  3.61     4\n",
       "..          ...   ...   ...\n",
       "239       29.03  5.92     3\n",
       "240       27.18  2.00     2\n",
       "241       22.67  2.00     2\n",
       "242       17.82  1.75     2\n",
       "243       18.78  3.00     2\n",
       "\n",
       "[244 rows x 3 columns]"
      ],
      "text/html": [
       "<div>\n",
       "<style scoped>\n",
       "    .dataframe tbody tr th:only-of-type {\n",
       "        vertical-align: middle;\n",
       "    }\n",
       "\n",
       "    .dataframe tbody tr th {\n",
       "        vertical-align: top;\n",
       "    }\n",
       "\n",
       "    .dataframe thead th {\n",
       "        text-align: right;\n",
       "    }\n",
       "</style>\n",
       "<table border=\"1\" class=\"dataframe\">\n",
       "  <thead>\n",
       "    <tr style=\"text-align: right;\">\n",
       "      <th></th>\n",
       "      <th>total_bill</th>\n",
       "      <th>tip</th>\n",
       "      <th>size</th>\n",
       "    </tr>\n",
       "  </thead>\n",
       "  <tbody>\n",
       "    <tr>\n",
       "      <th>0</th>\n",
       "      <td>16.99</td>\n",
       "      <td>1.01</td>\n",
       "      <td>2</td>\n",
       "    </tr>\n",
       "    <tr>\n",
       "      <th>1</th>\n",
       "      <td>10.34</td>\n",
       "      <td>1.66</td>\n",
       "      <td>3</td>\n",
       "    </tr>\n",
       "    <tr>\n",
       "      <th>2</th>\n",
       "      <td>21.01</td>\n",
       "      <td>3.50</td>\n",
       "      <td>3</td>\n",
       "    </tr>\n",
       "    <tr>\n",
       "      <th>3</th>\n",
       "      <td>23.68</td>\n",
       "      <td>3.31</td>\n",
       "      <td>2</td>\n",
       "    </tr>\n",
       "    <tr>\n",
       "      <th>4</th>\n",
       "      <td>24.59</td>\n",
       "      <td>3.61</td>\n",
       "      <td>4</td>\n",
       "    </tr>\n",
       "    <tr>\n",
       "      <th>...</th>\n",
       "      <td>...</td>\n",
       "      <td>...</td>\n",
       "      <td>...</td>\n",
       "    </tr>\n",
       "    <tr>\n",
       "      <th>239</th>\n",
       "      <td>29.03</td>\n",
       "      <td>5.92</td>\n",
       "      <td>3</td>\n",
       "    </tr>\n",
       "    <tr>\n",
       "      <th>240</th>\n",
       "      <td>27.18</td>\n",
       "      <td>2.00</td>\n",
       "      <td>2</td>\n",
       "    </tr>\n",
       "    <tr>\n",
       "      <th>241</th>\n",
       "      <td>22.67</td>\n",
       "      <td>2.00</td>\n",
       "      <td>2</td>\n",
       "    </tr>\n",
       "    <tr>\n",
       "      <th>242</th>\n",
       "      <td>17.82</td>\n",
       "      <td>1.75</td>\n",
       "      <td>2</td>\n",
       "    </tr>\n",
       "    <tr>\n",
       "      <th>243</th>\n",
       "      <td>18.78</td>\n",
       "      <td>3.00</td>\n",
       "      <td>2</td>\n",
       "    </tr>\n",
       "  </tbody>\n",
       "</table>\n",
       "<p>244 rows × 3 columns</p>\n",
       "</div>"
      ]
     },
     "execution_count": 309,
     "metadata": {},
     "output_type": "execute_result"
    }
   ],
   "execution_count": 309
  },
  {
   "metadata": {
    "ExecuteTime": {
     "end_time": "2024-05-19T02:28:46.698261Z",
     "start_time": "2024-05-19T02:28:46.676206Z"
    }
   },
   "cell_type": "code",
   "source": [
    "x = df_copy.iloc[:, :-1]\n",
    "y = df_copy.iloc[:, -1]\n",
    "X_train, X_text, y_train, y_text = train_test_split(x, y, test_size=0.2, random_state=0)\n",
    "print(X_train.shape, X_text.shape, y_train.shape, y_text.shape)"
   ],
   "id": "160a34704d0ce594",
   "outputs": [
    {
     "name": "stdout",
     "output_type": "stream",
     "text": [
      "(195, 2) (49, 2) (195,) (49,)\n"
     ]
    }
   ],
   "execution_count": 310
  },
  {
   "metadata": {
    "ExecuteTime": {
     "end_time": "2024-05-19T02:28:46.719383Z",
     "start_time": "2024-05-19T02:28:46.704836Z"
    }
   },
   "cell_type": "code",
   "source": [
    "scaler = StandardScaler()\n",
    "X_train = scaler.fit_transform(X_train)\n",
    "X_text = scaler.transform(X_text)\n",
    "print(X_train.shape, X_text.shape, y_train.shape, y_text.shape)"
   ],
   "id": "96ffd7bbf7b5368",
   "outputs": [
    {
     "name": "stdout",
     "output_type": "stream",
     "text": [
      "(195, 2) (49, 2) (195,) (49,)\n"
     ]
    }
   ],
   "execution_count": 311
  },
  {
   "metadata": {
    "ExecuteTime": {
     "end_time": "2024-05-19T02:28:46.811469Z",
     "start_time": "2024-05-19T02:28:46.773501Z"
    }
   },
   "cell_type": "code",
   "source": [
    "lr = LogisticRegression()\n",
    "lr.fit(X_train, y_train)\n",
    "print(lr.score(X_train, y_train))\n",
    "print(lr.predict(X_text))\n",
    "print(lr.predict_proba(X_text))"
   ],
   "id": "c315862b55b00d74",
   "outputs": [
    {
     "name": "stdout",
     "output_type": "stream",
     "text": [
      "0.6820512820512821\n",
      "[2 2 2 2 2 2 2 2 2 4 2 2 2 2 2 4 2 2 2 2 2 2 2 2 2 2 2 4 2 2 2 2 2 2 2 2 2\n",
      " 2 4 2 2 2 2 4 2 2 2 2 2]\n",
      "[[8.30640976e-03 7.61694764e-01 1.21636757e-01 9.31646958e-02\n",
      "  1.15212675e-02 3.67610605e-03]\n",
      " [4.16471732e-03 6.70520090e-01 1.61454842e-01 1.41088286e-01\n",
      "  1.50371545e-02 7.73491024e-03]\n",
      " [4.15396641e-03 6.56268502e-01 1.67249270e-01 1.47860164e-01\n",
      "  1.66680037e-02 7.80009330e-03]\n",
      " [4.70265972e-02 9.08554559e-01 2.86934304e-02 1.36677006e-02\n",
      "  1.79557373e-03 2.62139285e-04]\n",
      " [1.02555532e-02 7.95500381e-01 1.05452309e-01 7.65395186e-02\n",
      "  9.44430244e-03 2.80793612e-03]\n",
      " [5.29973468e-02 9.09890192e-01 2.43856285e-02 1.11001954e-02\n",
      "  1.42180697e-03 2.04830400e-04]\n",
      " [6.33155070e-03 7.27436400e-01 1.37328580e-01 1.10959064e-01\n",
      "  1.29552708e-02 4.98913569e-03]\n",
      " [6.30532258e-04 3.55595544e-01 2.61188981e-01 3.20427641e-01\n",
      "  2.83613898e-02 3.37959118e-02]\n",
      " [4.89788397e-03 6.93193559e-01 1.52110488e-01 1.29004195e-01\n",
      "  1.42375066e-02 6.55636804e-03]\n",
      " [3.65477901e-04 2.05659284e-01 2.89682425e-01 4.12068062e-01\n",
      "  5.85560422e-02 3.36687092e-02]\n",
      " [7.18675319e-04 3.51924191e-01 2.63582772e-01 3.21688690e-01\n",
      "  3.22987029e-02 2.97869691e-02]\n",
      " [1.17332192e-03 4.14132846e-01 2.49060698e-01 2.82775701e-01\n",
      "  3.13954762e-02 2.14619567e-02]\n",
      " [1.27620624e-02 8.32534709e-01 8.67490103e-02 5.89083563e-02\n",
      "  7.00375590e-03 2.04210561e-03]\n",
      " [1.80577767e-02 8.63216580e-01 6.89222302e-02 4.31276138e-02\n",
      "  5.40982744e-03 1.26597193e-03]\n",
      " [2.12854595e-02 8.69351817e-01 6.41190660e-02 3.89838038e-02\n",
      "  5.23035901e-03 1.02949476e-03]\n",
      " [1.89886423e-04 1.82626007e-01 2.86471224e-01 4.33152153e-01\n",
      "  4.35096980e-02 5.40510316e-02]\n",
      " [3.42828179e-02 9.06015046e-01 3.74640938e-02 1.93837951e-02\n",
      "  2.41486393e-03 4.39383322e-04]\n",
      " [9.98468585e-03 8.12596037e-01 9.75397814e-02 6.94426083e-02\n",
      "  7.67622912e-03 2.76065785e-03]\n",
      " [6.00317742e-03 7.11721630e-01 1.44139672e-01 1.18592463e-01\n",
      "  1.42110191e-02 5.33203739e-03]\n",
      " [1.93116722e-03 5.06194037e-01 2.21635176e-01 2.29403034e-01\n",
      "  2.56214052e-02 1.52151806e-02]\n",
      " [2.50729472e-03 4.58987939e-01 2.37031387e-01 2.48566244e-01\n",
      "  4.15864114e-02 1.13207241e-02]\n",
      " [2.47967857e-03 5.67712684e-01 2.00544466e-01 1.95861507e-01\n",
      "  2.08444490e-02 1.25572158e-02]\n",
      " [1.35875066e-02 8.22508636e-01 9.11912143e-02 6.24858569e-02\n",
      "  8.24527708e-03 1.98150928e-03]\n",
      " [1.52110398e-02 8.38434256e-01 8.26944691e-02 5.48239848e-02\n",
      "  7.15887973e-03 1.67737013e-03]\n",
      " [1.72268521e-02 8.57223572e-01 7.23720809e-02 4.59907735e-02\n",
      "  5.81886041e-03 1.36786153e-03]\n",
      " [1.01201431e-02 7.93070103e-01 1.06636392e-01 7.77040799e-02\n",
      "  9.60906482e-03 2.86021690e-03]\n",
      " [1.77020383e-02 8.67254833e-01 6.70462484e-02 4.17167284e-02\n",
      "  5.01339459e-03 1.26675691e-03]\n",
      " [5.91464192e-04 2.87623148e-01 2.78270480e-01 3.59811121e-01\n",
      "  4.37274510e-02 2.99763357e-02]\n",
      " [8.74609628e-04 3.75811939e-01 2.58431940e-01 3.06587371e-01\n",
      "  3.20941492e-02 2.61999922e-02]\n",
      " [1.23768808e-02 8.16653474e-01 9.45615729e-02 6.58245888e-02\n",
      "  8.37164168e-03 2.21184137e-03]\n",
      " [1.39080403e-02 8.34135200e-01 8.54282922e-02 5.74537127e-02\n",
      "  7.21078575e-03 1.86396886e-03]\n",
      " [1.47029005e-02 8.54030943e-01 7.52251338e-02 4.87791393e-02\n",
      "  5.62970754e-03 1.63217570e-03]\n",
      " [1.77860368e-02 8.46420479e-01 7.74695454e-02 4.99904917e-02\n",
      "  6.94737544e-03 1.38607203e-03]\n",
      " [2.69464186e-02 8.92866180e-01 4.87495310e-02 2.72870431e-02\n",
      "  3.47526158e-03 6.75565833e-04]\n",
      " [6.34453834e-03 7.23735645e-01 1.38920522e-01 1.12615795e-01\n",
      "  1.33836581e-02 4.99984182e-03]\n",
      " [1.28995214e-02 8.38437779e-01 8.38042856e-02 5.63585713e-02\n",
      "  6.52052018e-03 1.97932235e-03]\n",
      " [7.09795498e-03 7.50946906e-01 1.26832518e-01 9.93552146e-02\n",
      "  1.14245270e-02 4.34287916e-03]\n",
      " [2.29453808e-02 8.88966784e-01 5.29950281e-02 3.05869519e-02\n",
      "  3.66765225e-03 8.38202870e-04]\n",
      " [2.58339010e-07 4.76000732e-03 1.46448217e-01 5.33080220e-01\n",
      "  4.45234936e-02 2.71187804e-01]\n",
      " [8.15142713e-03 7.75271430e-01 1.15573703e-01 8.73632547e-02\n",
      "  9.98545289e-03 3.65473211e-03]\n",
      " [2.77073413e-02 9.02017239e-01 4.33544220e-02 2.35450597e-02\n",
      "  2.77268191e-03 6.03255811e-04]\n",
      " [2.09429158e-02 8.74235507e-01 6.17832120e-02 3.72557753e-02\n",
      "  4.76310353e-03 1.01948623e-03]\n",
      " [8.40268249e-03 7.81133709e-01 1.12810253e-01 8.45291553e-02\n",
      "  9.61433511e-03 3.50986586e-03]\n",
      " [2.96485341e-04 2.21664718e-01 2.85421510e-01 4.05584220e-01\n",
      "  4.31145216e-02 4.39185454e-02]\n",
      " [1.65082238e-02 8.59488226e-01 7.15926730e-02 4.54964992e-02\n",
      "  5.49960625e-03 1.41477133e-03]\n",
      " [5.60503287e-03 7.22919172e-01 1.39416981e-01 1.14090684e-01\n",
      "  1.23432269e-02 5.62490279e-03]\n",
      " [4.18963387e-03 6.71882378e-01 1.60900099e-01 1.40390909e-01\n",
      "  1.49502034e-02 7.68677576e-03]\n",
      " [2.50104984e-03 5.60933024e-01 2.03063673e-01 1.99150406e-01\n",
      "  2.19290395e-02 1.24228078e-02]\n",
      " [7.25688932e-03 7.52018837e-01 1.26309345e-01 9.86807515e-02\n",
      "  1.14884946e-02 4.24568213e-03]]\n"
     ]
    }
   ],
   "execution_count": 312
  },
  {
   "metadata": {
    "ExecuteTime": {
     "end_time": "2024-05-19T02:28:46.851933Z",
     "start_time": "2024-05-19T02:28:46.831210Z"
    }
   },
   "cell_type": "code",
   "source": [
    "confusion_matrix = confusion_matrix(y_text, lr.predict(X_text))\n",
    "print(confusion_matrix)"
   ],
   "id": "f1d3f1fd9e1217e0",
   "outputs": [
    {
     "name": "stdout",
     "output_type": "stream",
     "text": [
      "[[ 0  2  0  0  0  0]\n",
      " [ 0 31  0  0  0  0]\n",
      " [ 0  9  0  0  0  0]\n",
      " [ 0  2  0  3  0  0]\n",
      " [ 0  0  0  1  0  0]\n",
      " [ 0  0  0  1  0  0]]\n"
     ]
    }
   ],
   "execution_count": 313
  }
 ],
 "metadata": {
  "kernelspec": {
   "display_name": "Python 3",
   "language": "python",
   "name": "python3"
  },
  "language_info": {
   "codemirror_mode": {
    "name": "ipython",
    "version": 2
   },
   "file_extension": ".py",
   "mimetype": "text/x-python",
   "name": "python",
   "nbconvert_exporter": "python",
   "pygments_lexer": "ipython2",
   "version": "2.7.6"
  }
 },
 "nbformat": 4,
 "nbformat_minor": 5
}
