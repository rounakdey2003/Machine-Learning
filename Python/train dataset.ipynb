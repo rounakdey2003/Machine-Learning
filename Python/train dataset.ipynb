{
 "cells": [
  {
   "cell_type": "code",
   "execution_count": null,
   "metadata": {
    "collapsed": true
   },
   "outputs": [],
   "source": [
    "import numpy as np\n",
    "import pandas as pd\n",
    "import matplotlib.pyplot as plt\n",
    "import seaborn as sns\n",
    "sns.set_style('darkgrid')\n",
    "pal = sns.color_palette()\n",
    "\n",
    "data = pd.read_csv('Train.csv')"
   ]
  },
  {
   "cell_type": "code",
   "execution_count": null,
   "outputs": [],
   "source": [
    "data"
   ],
   "metadata": {
    "collapsed": false
   }
  },
  {
   "cell_type": "code",
   "execution_count": null,
   "outputs": [],
   "source": [
    "plt.figure(figsize=(18, 10))\n",
    "num_features = data.select_dtypes('number').drop('Reached.on.Time_Y.N', axis=1).columns.values\n",
    "\n",
    "for i, num in enumerate(num_features):\n",
    "    plt.subplot(2, 3, i+1)\n",
    "    sns.histplot(data[num], color=pal[i])\n",
    "\n",
    "plt.show()"
   ],
   "metadata": {
    "collapsed": false
   }
  },
  {
   "cell_type": "code",
   "execution_count": null,
   "outputs": [],
   "source": [
    "plt.figure(figsize=(4, 4))\n",
    "sns.heatmap(data[data.select_dtypes('number').columns].corr(),\n",
    "            square=True, cmap='seismic', cbar=False, annot=True, fmt='.2f', vmin=-1, vmax=1)\n",
    "plt.show()"
   ],
   "metadata": {
    "collapsed": false
   }
  },
  {
   "cell_type": "code",
   "execution_count": null,
   "outputs": [],
   "source": [
    "plt.figure(figsize=(14, 12))\n",
    "\n",
    "cat_features = data.select_dtypes('object').columns.values\n",
    "\n",
    "for i, cat in enumerate(cat_features):\n",
    "\n",
    "    plt.subplot(2, 2, i+1)\n",
    "    sns.histplot(data[cat], shrink=0.8, color=pal[i])\n",
    "\n",
    "plt.show()"
   ],
   "metadata": {
    "collapsed": false
   }
  },
  {
   "cell_type": "code",
   "execution_count": null,
   "outputs": [],
   "source": [
    "import numpy as np\n",
    "import pandas as pd\n",
    "import matplotlib.pyplot as plt\n",
    "import seaborn as sns\n",
    "sns.set_style('darkgrid')\n",
    "pal = sns.color_palette()\n",
    "\n",
    "data = pd.read_csv('Train.csv')"
   ],
   "metadata": {
    "collapsed": false
   }
  },
  {
   "cell_type": "code",
   "execution_count": null,
   "outputs": [],
   "source": [
    "data"
   ],
   "metadata": {
    "collapsed": false
   }
  },
  {
   "cell_type": "code",
   "execution_count": null,
   "outputs": [],
   "source": [
    "plt.figure(figsize=(18, 10))\n",
    "num_features = data.select_dtypes('number').drop('Reached.on.Time_Y.N', axis=1).columns.values\n",
    "\n",
    "for i, num in enumerate(num_features):\n",
    "    plt.subplot(2, 3, i+1)\n",
    "    sns.histplot(data[num], color=pal[i])\n",
    "\n",
    "plt.show()"
   ],
   "metadata": {
    "collapsed": false
   }
  },
  {
   "cell_type": "code",
   "execution_count": null,
   "outputs": [],
   "source": [
    "plt.figure(figsize=(4, 4))\n",
    "sns.heatmap(data[data.select_dtypes('number').columns].corr(),\n",
    "            square=True, cmap='seismic', cbar=False, annot=True, fmt='.2f', vmin=-1, vmax=1)\n",
    "plt.show()"
   ],
   "metadata": {
    "collapsed": false
   }
  },
  {
   "cell_type": "code",
   "execution_count": null,
   "outputs": [],
   "source": [
    "plt.figure(figsize=(14, 12))\n",
    "\n",
    "cat_features = data.select_dtypes('object').columns.values\n",
    "\n",
    "for i, cat in enumerate(cat_features):\n",
    "\n",
    "    plt.subplot(2, 2, i+1)\n",
    "    sns.histplot(data[cat], shrink=0.8, color=pal[i])\n",
    "\n",
    "plt.show()"
   ],
   "metadata": {
    "collapsed": false
   }
  }
 ],
 "metadata": {
  "kernelspec": {
   "display_name": "Python 3",
   "language": "python",
   "name": "python3"
  },
  "language_info": {
   "codemirror_mode": {
    "name": "ipython",
    "version": 2
   },
   "file_extension": ".py",
   "mimetype": "text/x-python",
   "name": "python",
   "nbconvert_exporter": "python",
   "pygments_lexer": "ipython2",
   "version": "2.7.6"
  }
 },
 "nbformat": 4,
 "nbformat_minor": 0
}
