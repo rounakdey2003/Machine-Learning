{
 "cells": [
  {
   "cell_type": "code",
   "execution_count": null,
   "metadata": {
    "collapsed": true
   },
   "outputs": [],
   "source": [
    "import numpy as nm\n",
    "import matplotlib.pyplot as mtp\n",
    "import pandas as pd\n",
    "\n",
    "data_set= pd.read_csv('User_Data.csv')\n",
    "\n",
    "x= data_set.iloc[:, [2,3]].values\n",
    "y= data_set.iloc[:, 4].values\n",
    "\n",
    "from sklearn.model_selection import train_test_split\n",
    "x_train, x_test, y_train, y_test= train_test_split(x, y, test_size= 0.25, random_state=0)\n",
    "\n",
    "from sklearn.preprocessing import StandardScaler\n",
    "st_x= StandardScaler()\n",
    "x_train= st_x.fit_transform(x_train)\n",
    "x_test= st_x.transform(x_test)\n",
    "\n",
    "print(x_train, '\\n******************************')\n",
    "print(x_test)"
   ]
  },
  {
   "cell_type": "code",
   "execution_count": null,
   "outputs": [],
   "source": [
    "from sklearn.svm import SVC\n",
    "classifier = SVC(kernel='linear', random_state=0)\n",
    "classifier.fit(x_train, y_train)\n",
    "\n",
    "y_pred= classifier.predict(x_test)\n",
    "\n",
    "print(y_pred)"
   ],
   "metadata": {
    "collapsed": false
   }
  },
  {
   "cell_type": "code",
   "execution_count": null,
   "outputs": [],
   "source": [
    "from sklearn.metrics import confusion_matrix\n",
    "cm= confusion_matrix(y_test, y_pred)\n",
    "\n",
    "print(cm)"
   ],
   "metadata": {
    "collapsed": false
   }
  },
  {
   "cell_type": "code",
   "execution_count": null,
   "outputs": [],
   "source": [
    "from matplotlib.colors import ListedColormap\n",
    "x_set, y_set = x_train, y_train\n",
    "x1, x2 = nm.meshgrid(nm.arange(start = x_set[:, 0].min() - 1, stop = x_set[:, 0].max() + 1, step  =0.01),\n",
    "                     nm.arange(start = x_set[:, 1].min() - 1, stop = x_set[:, 1].max() + 1, step = 0.01))\n",
    "mtp.contourf(x1, x2, classifier.predict(nm.array([x1.ravel(), x2.ravel()]).T).reshape(x1.shape),\n",
    "             alpha = 0.75, cmap = ListedColormap(('red', 'green')))\n",
    "mtp.xlim(x1.min(), x1.max())\n",
    "mtp.ylim(x2.min(), x2.max())\n",
    "for i, j in enumerate(nm.unique(y_set)):\n",
    "    mtp.scatter(x_set[y_set == j, 0], x_set[y_set == j, 1],\n",
    "                c = ListedColormap(('red', 'green'))(i), label = j)\n",
    "mtp.title('SVM classifier (Training set)')\n",
    "mtp.xlabel('Age')\n",
    "mtp.ylabel('Estimated Salary')\n",
    "mtp.legend()\n",
    "mtp.show()"
   ],
   "metadata": {
    "collapsed": false
   }
  },
  {
   "cell_type": "code",
   "execution_count": null,
   "outputs": [],
   "source": [
    "from matplotlib.colors import ListedColormap\n",
    "x_set, y_set = x_test, y_test\n",
    "x1, x2 = nm.meshgrid(nm.arange(start = x_set[:, 0].min() - 1, stop = x_set[:, 0].max() + 1, step  =0.01),\n",
    "                     nm.arange(start = x_set[:, 1].min() - 1, stop = x_set[:, 1].max() + 1, step = 0.01))\n",
    "mtp.contourf(x1, x2, classifier.predict(nm.array([x1.ravel(), x2.ravel()]).T).reshape(x1.shape),\n",
    "             alpha = 0.75, cmap = ListedColormap(('red','green' )))\n",
    "mtp.xlim(x1.min(), x1.max())\n",
    "mtp.ylim(x2.min(), x2.max())\n",
    "for i, j in enumerate(nm.unique(y_set)):\n",
    "    mtp.scatter(x_set[y_set == j, 0], x_set[y_set == j, 1],\n",
    "                c = ListedColormap(('red', 'green'))(i), label = j)\n",
    "mtp.title('SVM classifier (Test set)')\n",
    "mtp.xlabel('Age')\n",
    "mtp.ylabel('Estimated Salary')\n",
    "mtp.legend()\n",
    "mtp.show()"
   ],
   "metadata": {
    "collapsed": false
   }
  },
  {
   "cell_type": "code",
   "execution_count": null,
   "outputs": [],
   "source": [
    "import numpy as nm\n",
    "import matplotlib.pyplot as mtp\n",
    "import pandas as pd\n",
    "\n",
    "data_set= pd.read_csv('User_Data.csv')\n",
    "\n",
    "x= data_set.iloc[:, [2,3]].values\n",
    "y= data_set.iloc[:, 4].values\n",
    "\n",
    "from sklearn.model_selection import train_test_split\n",
    "x_train, x_test, y_train, y_test= train_test_split(x, y, test_size= 0.25, random_state=0)\n",
    "\n",
    "from sklearn.preprocessing import StandardScaler\n",
    "st_x= StandardScaler()\n",
    "x_train= st_x.fit_transform(x_train)\n",
    "x_test= st_x.transform(x_test)\n",
    "\n",
    "print(\"Train X: \",x_train)\n",
    "print(\"Test X: \",x_test)"
   ],
   "metadata": {
    "collapsed": false
   }
  },
  {
   "cell_type": "code",
   "execution_count": null,
   "outputs": [],
   "source": [
    "from sklearn.tree import DecisionTreeClassifier\n",
    "classifier= DecisionTreeClassifier(criterion='entropy', random_state=0)\n",
    "classifier.fit(x_train, y_train)\n",
    "\n",
    "\n",
    "y_pred= classifier.predict(x_test)\n",
    "import matplotlib.pyplot as plt\n",
    "\n",
    "x = [90,50,70,30,10,20,80,40,60]\n",
    "y = [100,500,200,800,400,600,300,700,900]\n",
    "\n",
    "plt.scatter(x, y)\n",
    "plt.show()"
   ],
   "metadata": {
    "collapsed": false
   }
  },
  {
   "cell_type": "code",
   "execution_count": null,
   "outputs": [],
   "source": [
    "import numpy as nm\n",
    "import matplotlib.pyplot as mtp\n",
    "import pandas as pd\n",
    "\n",
    "data_set= pd.read_csv('User_Data.csv')\n",
    "\n",
    "x= data_set.iloc[:, [2,3]].values\n",
    "y= data_set.iloc[:, 4].values\n",
    "\n",
    "from sklearn.model_selection import train_test_split\n",
    "x_train, x_test, y_train, y_test= train_test_split(x, y, test_size= 0.25, random_state=0)\n",
    "\n",
    "from sklearn.preprocessing import StandardScaler\n",
    "st_x= StandardScaler()\n",
    "x_train= st_x.fit_transform(x_train)\n",
    "x_test= st_x.transform(x_test)\n",
    "\n",
    "print(x_train, '\\n******************************')\n",
    "print(x_test)"
   ],
   "metadata": {
    "collapsed": false
   }
  },
  {
   "cell_type": "code",
   "execution_count": null,
   "outputs": [],
   "source": [
    "from sklearn.svm import SVC\n",
    "classifier = SVC(kernel='linear', random_state=0)\n",
    "classifier = classifier.fit(x_train, y_train)\n",
    "\n",
    "print(classifier)"
   ],
   "metadata": {
    "collapsed": false
   }
  },
  {
   "cell_type": "code",
   "execution_count": null,
   "outputs": [],
   "source": [
    "y_pred= classifier.predict(x_test)\n",
    "\n",
    "print(y_pred)"
   ],
   "metadata": {
    "collapsed": false
   }
  },
  {
   "cell_type": "code",
   "execution_count": null,
   "outputs": [],
   "source": [
    "from sklearn.metrics import confusion_matrix\n",
    "cm= confusion_matrix(y_test, y_pred)\n",
    "\n",
    "print(cm)"
   ],
   "metadata": {
    "collapsed": false
   }
  },
  {
   "cell_type": "code",
   "execution_count": null,
   "outputs": [],
   "source": [
    "from matplotlib.colors import ListedColormap\n",
    "x_set, y_set = x_train, y_train\n",
    "x1, x2 = nm.meshgrid(nm.arange(start = x_set[:, 0].min() - 1, stop = x_set[:, 0].max() + 1, step  =0.01),\n",
    "                     nm.arange(start = x_set[:, 1].min() - 1, stop = x_set[:, 1].max() + 1, step = 0.01))\n",
    "mtp.contourf(x1, x2, classifier.predict(nm.array([x1.ravel(), x2.ravel()]).T).reshape(x1.shape),\n",
    "             alpha = 0.75, cmap = ListedColormap(('red', 'green')))\n",
    "mtp.xlim(x1.min(), x1.max())\n",
    "mtp.ylim(x2.min(), x2.max())\n",
    "for i, j in enumerate(nm.unique(y_set)):\n",
    "    mtp.scatter(x_set[y_set == j, 0], x_set[y_set == j, 1],\n",
    "                c = ListedColormap(('red', 'green'))(i), label = j)\n",
    "mtp.title('SVM classifier (Training set)')\n",
    "mtp.xlabel('Age')\n",
    "mtp.ylabel('Estimated Salary')\n",
    "mtp.legend()\n",
    "mtp.show()"
   ],
   "metadata": {
    "collapsed": false
   }
  },
  {
   "cell_type": "code",
   "execution_count": null,
   "outputs": [],
   "source": [
    "import numpy as nm\n",
    "import matplotlib.pyplot as mtp\n",
    "import pandas as pd\n",
    "\n",
    "data_set= pd.read_csv('User_Data.csv')\n",
    "\n",
    "x= data_set.iloc[:, [2,3]].values\n",
    "y= data_set.iloc[:, 4].values\n",
    "\n",
    "from sklearn.model_selection import train_test_split\n",
    "x_train, x_test, y_train, y_test= train_test_split(x, y, test_size= 0.25, random_state=0)\n",
    "\n",
    "from sklearn.preprocessing import StandardScaler\n",
    "st_x= StandardScaler()\n",
    "x_train= st_x.fit_transform(x_train)\n",
    "x_test= st_x.transform(x_test)\n",
    "\n",
    "print(\"Train X: \",x_train)\n",
    "print(\"Test X: \",x_test)"
   ],
   "metadata": {
    "collapsed": false
   }
  },
  {
   "cell_type": "code",
   "execution_count": null,
   "outputs": [],
   "source": [
    "from sklearn.tree import DecisionTreeClassifier\n",
    "classifier= DecisionTreeClassifier(criterion='entropy', random_state=0)\n",
    "print(classifier.fit(x_train, y_train))"
   ],
   "metadata": {
    "collapsed": false
   }
  },
  {
   "cell_type": "code",
   "execution_count": null,
   "outputs": [],
   "source": [
    "y_pred= classifier.predict(x_test)\n",
    "\n",
    "print(y_pred)"
   ],
   "metadata": {
    "collapsed": false
   }
  },
  {
   "cell_type": "code",
   "execution_count": null,
   "outputs": [],
   "source": [
    "from sklearn.metrics import confusion_matrix\n",
    "cm= confusion_matrix(y_test, y_pred)\n",
    "\n",
    "print(cm)"
   ],
   "metadata": {
    "collapsed": false
   }
  },
  {
   "cell_type": "code",
   "execution_count": null,
   "outputs": [],
   "source": [
    "from matplotlib.colors import ListedColormap\n",
    "x_set, y_set = x_train, y_train\n",
    "x1, x2 = nm.meshgrid(nm.arange(start = x_set[:, 0].min() - 1, stop = x_set[:, 0].max() + 1, step  =0.01),\n",
    "                     nm.arange(start = x_set[:, 1].min() - 1, stop = x_set[:, 1].max() + 1, step = 0.01))\n",
    "mtp.contourf(x1, x2, classifier.predict(nm.array([x1.ravel(), x2.ravel()]).T).reshape(x1.shape),\n",
    "             alpha = 0.75, cmap = ListedColormap(('purple','green' )))\n",
    "mtp.xlim(x1.min(), x1.max())\n",
    "mtp.ylim(x2.min(), x2.max())\n",
    "for i, j in enumerate(nm.unique(y_set)):\n",
    "    mtp.scatter(x_set[y_set == j, 0], x_set[y_set == j, 1],\n",
    "                c = ListedColormap(('purple', 'green'))(i), label = j)\n",
    "mtp.title('Decision Tree Algorithm')\n",
    "mtp.xlabel('Age')\n",
    "mtp.ylabel('Estimated Salary')\n",
    "mtp.legend()\n",
    "mtp.show()"
   ],
   "metadata": {
    "collapsed": false
   }
  },
  {
   "cell_type": "code",
   "execution_count": null,
   "outputs": [],
   "source": [
    "from matplotlib.colors import ListedColormap\n",
    "x_set, y_set = x_test, y_test\n",
    "x1, x2 = nm.meshgrid(nm.arange(start = x_set[:, 0].min() - 1, stop = x_set[:, 0].max() + 1, step  =0.01),\n",
    "                     nm.arange(start = x_set[:, 1].min() - 1, stop = x_set[:, 1].max() + 1, step = 0.01))\n",
    "mtp.contourf(x1, x2, classifier.predict(nm.array([x1.ravel(), x2.ravel()]).T).reshape(x1.shape),\n",
    "             alpha = 0.75, cmap = ListedColormap(('purple','green' )))\n",
    "mtp.xlim(x1.min(), x1.max())\n",
    "mtp.ylim(x2.min(), x2.max())\n",
    "for i, j in enumerate(nm.unique(y_set)):\n",
    "    mtp.scatter(x_set[y_set == j, 0], x_set[y_set == j, 1],\n",
    "                c = ListedColormap(('purple', 'green'))(i), label = j)\n",
    "mtp.title('Decision Tree Algorithm')\n",
    "mtp.xlabel('Age')\n",
    "mtp.ylabel('Estimated Salary')\n",
    "mtp.legend()\n",
    "mtp.show()"
   ],
   "metadata": {
    "collapsed": false
   }
  },
  {
   "cell_type": "code",
   "execution_count": null,
   "outputs": [],
   "source": [
    "import numpy as nm\n",
    "import matplotlib.pyplot as mtp\n",
    "import pandas as pd\n",
    "\n",
    "dataset = pd.read_csv('User_Data.csv')\n",
    "\n",
    "x = dataset.iloc[:,[0,3]].values\n",
    "print(x)"
   ],
   "metadata": {
    "collapsed": false
   }
  },
  {
   "cell_type": "code",
   "execution_count": null,
   "outputs": [],
   "source": [
    "import scipy.cluster.hierarchy as shc\n",
    "\n",
    "dendogram = shc.dendrogram(shc.linkage(x,method='ward'))\n",
    "\n",
    "mtp.title('Dendogram Graph')\n",
    "mtp.ylabel('Euclidean Distance')\n",
    "mtp.xlabel('Customer')\n",
    "mtp.show()"
   ],
   "metadata": {
    "collapsed": false
   }
  },
  {
   "cell_type": "code",
   "execution_count": null,
   "outputs": [],
   "source": [
    "from sklearn.cluster import AgglomerativeClustering\n",
    "\n",
    "ag = AgglomerativeClustering(n_clusters=5,metric='euclidean', linkage='ward')\n",
    "y_pred = ag.fit_predict(x)\n",
    "print(y_pred)"
   ],
   "metadata": {
    "collapsed": false
   }
  },
  {
   "cell_type": "code",
   "execution_count": null,
   "outputs": [],
   "source": [
    "mtp.scatter(x[y_pred==0,0],x[y_pred==0,1],s=100,c='red',label='1')\n",
    "mtp.scatter(x[y_pred==1,0],x[y_pred==1,1],s=100,c='blue',label='2')\n",
    "mtp.scatter(x[y_pred==2,0],x[y_pred==2,1],s=100,c='magenta',label='3')\n",
    "mtp.scatter(x[y_pred==3,0],x[y_pred==3,1],s=100,c='green',label='4')\n",
    "mtp.scatter(x[y_pred==4,0],x[y_pred==4,1],s=100,c='indigo',label='5')\n",
    "\n",
    "mtp.title('Customer Clusters')\n",
    "mtp.xlabel('ID')\n",
    "mtp.ylabel('Price')\n",
    "mtp.legend()\n",
    "mtp.show()\n"
   ],
   "metadata": {
    "collapsed": false
   }
  }
 ],
 "metadata": {
  "kernelspec": {
   "display_name": "Python 3",
   "language": "python",
   "name": "python3"
  },
  "language_info": {
   "codemirror_mode": {
    "name": "ipython",
    "version": 2
   },
   "file_extension": ".py",
   "mimetype": "text/x-python",
   "name": "python",
   "nbconvert_exporter": "python",
   "pygments_lexer": "ipython2",
   "version": "2.7.6"
  }
 },
 "nbformat": 4,
 "nbformat_minor": 0
}
