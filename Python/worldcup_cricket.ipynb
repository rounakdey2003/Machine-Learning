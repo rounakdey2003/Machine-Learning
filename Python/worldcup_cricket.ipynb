{
 "cells": [
  {
   "cell_type": "code",
   "execution_count": 1,
   "outputs": [],
   "source": [
    "import pandas as pd"
   ],
   "metadata": {
    "collapsed": false,
    "ExecuteTime": {
     "end_time": "2023-12-27T14:42:07.084848300Z",
     "start_time": "2023-12-27T14:42:05.997026Z"
    }
   },
   "id": "48c358ba18dbb8dd"
  },
  {
   "cell_type": "code",
   "execution_count": 2,
   "outputs": [
    {
     "data": {
      "text/plain": "       YEAR TEAM RUNS SCORED WICKETS LOST WICKETS TAKEN AGAINST RESULT  \\\n0       NaN  NaN         NaN          NaN           NaN     NaN    NaN   \n1    2019.0  ENG         311            8            10      SA    WON   \n2       NaN  NaN         334            9             8     PAK   LOST   \n3       NaN  NaN         386            6            10     BAN    WON   \n4       NaN  NaN         231            2            10      WI    WON   \n..      ...  ...         ...          ...           ...     ...    ...   \n101     NaN  NaN         268            7            10      WI    WON   \n102     NaN  NaN         306            5             7     ENG    WON   \n103     NaN  NaN         314            9            10     BAN    WON   \n104     NaN  NaN         265            3             7      SL    WON   \n105     NaN  NaN         221           10             8      NZ   LOST   \n\n           VENUE   WINNER  \n0            NaN      NaN  \n1         LONDON  ENGLAND  \n2     NOTTINGHAM      NaN  \n3        CARDIFF      NaN  \n4    SOUTHAMPTON      NaN  \n..           ...      ...  \n101  MANCHESTER       NaN  \n102   BIRMINGHAM      NaN  \n103   BIRMINGHAM      NaN  \n104        LEEDS      NaN  \n105  MANCHESTER       NaN  \n\n[106 rows x 9 columns]",
      "text/html": "<div>\n<style scoped>\n    .dataframe tbody tr th:only-of-type {\n        vertical-align: middle;\n    }\n\n    .dataframe tbody tr th {\n        vertical-align: top;\n    }\n\n    .dataframe thead th {\n        text-align: right;\n    }\n</style>\n<table border=\"1\" class=\"dataframe\">\n  <thead>\n    <tr style=\"text-align: right;\">\n      <th></th>\n      <th>YEAR</th>\n      <th>TEAM</th>\n      <th>RUNS SCORED</th>\n      <th>WICKETS LOST</th>\n      <th>WICKETS TAKEN</th>\n      <th>AGAINST</th>\n      <th>RESULT</th>\n      <th>VENUE</th>\n      <th>WINNER</th>\n    </tr>\n  </thead>\n  <tbody>\n    <tr>\n      <th>0</th>\n      <td>NaN</td>\n      <td>NaN</td>\n      <td>NaN</td>\n      <td>NaN</td>\n      <td>NaN</td>\n      <td>NaN</td>\n      <td>NaN</td>\n      <td>NaN</td>\n      <td>NaN</td>\n    </tr>\n    <tr>\n      <th>1</th>\n      <td>2019.0</td>\n      <td>ENG</td>\n      <td>311</td>\n      <td>8</td>\n      <td>10</td>\n      <td>SA</td>\n      <td>WON</td>\n      <td>LONDON</td>\n      <td>ENGLAND</td>\n    </tr>\n    <tr>\n      <th>2</th>\n      <td>NaN</td>\n      <td>NaN</td>\n      <td>334</td>\n      <td>9</td>\n      <td>8</td>\n      <td>PAK</td>\n      <td>LOST</td>\n      <td>NOTTINGHAM</td>\n      <td>NaN</td>\n    </tr>\n    <tr>\n      <th>3</th>\n      <td>NaN</td>\n      <td>NaN</td>\n      <td>386</td>\n      <td>6</td>\n      <td>10</td>\n      <td>BAN</td>\n      <td>WON</td>\n      <td>CARDIFF</td>\n      <td>NaN</td>\n    </tr>\n    <tr>\n      <th>4</th>\n      <td>NaN</td>\n      <td>NaN</td>\n      <td>231</td>\n      <td>2</td>\n      <td>10</td>\n      <td>WI</td>\n      <td>WON</td>\n      <td>SOUTHAMPTON</td>\n      <td>NaN</td>\n    </tr>\n    <tr>\n      <th>...</th>\n      <td>...</td>\n      <td>...</td>\n      <td>...</td>\n      <td>...</td>\n      <td>...</td>\n      <td>...</td>\n      <td>...</td>\n      <td>...</td>\n      <td>...</td>\n    </tr>\n    <tr>\n      <th>101</th>\n      <td>NaN</td>\n      <td>NaN</td>\n      <td>268</td>\n      <td>7</td>\n      <td>10</td>\n      <td>WI</td>\n      <td>WON</td>\n      <td>MANCHESTER</td>\n      <td>NaN</td>\n    </tr>\n    <tr>\n      <th>102</th>\n      <td>NaN</td>\n      <td>NaN</td>\n      <td>306</td>\n      <td>5</td>\n      <td>7</td>\n      <td>ENG</td>\n      <td>WON</td>\n      <td>BIRMINGHAM</td>\n      <td>NaN</td>\n    </tr>\n    <tr>\n      <th>103</th>\n      <td>NaN</td>\n      <td>NaN</td>\n      <td>314</td>\n      <td>9</td>\n      <td>10</td>\n      <td>BAN</td>\n      <td>WON</td>\n      <td>BIRMINGHAM</td>\n      <td>NaN</td>\n    </tr>\n    <tr>\n      <th>104</th>\n      <td>NaN</td>\n      <td>NaN</td>\n      <td>265</td>\n      <td>3</td>\n      <td>7</td>\n      <td>SL</td>\n      <td>WON</td>\n      <td>LEEDS</td>\n      <td>NaN</td>\n    </tr>\n    <tr>\n      <th>105</th>\n      <td>NaN</td>\n      <td>NaN</td>\n      <td>221</td>\n      <td>10</td>\n      <td>8</td>\n      <td>NZ</td>\n      <td>LOST</td>\n      <td>MANCHESTER</td>\n      <td>NaN</td>\n    </tr>\n  </tbody>\n</table>\n<p>106 rows × 9 columns</p>\n</div>"
     },
     "execution_count": 2,
     "metadata": {},
     "output_type": "execute_result"
    }
   ],
   "source": [
    "wc_2019 = pd.read_csv('../Dataset/cricketWorldcup/CRICKET WORLD CUP - 2019.csv')\n",
    "wc_2019"
   ],
   "metadata": {
    "collapsed": false,
    "ExecuteTime": {
     "end_time": "2023-12-27T14:42:07.144878100Z",
     "start_time": "2023-12-27T14:42:07.085848500Z"
    }
   },
   "id": "be395602705d6c03"
  },
  {
   "cell_type": "code",
   "execution_count": 3,
   "outputs": [
    {
     "data": {
      "text/plain": "       YEAR TEAM RUNS SCORED WICKETS LOST WICKETS TAKEN AGAINST RESULT  \\\n0       NaN  NaN         NaN          NaN           NaN     NaN    NaN   \n1    2015.0   NZ         331            6            10      SL    WON   \n2       NaN  NaN         146            7            10     SCO    WON   \n3       NaN  NaN         125            2            10     ENG    WON   \n4       NaN  NaN         152            9            10     AUS    WON   \n..      ...  ...         ...          ...           ...     ...    ...   \n107     NaN  NaN         232           10             6      SL   LOST   \n108     NaN  NaN         211            9            10     SCO    WON   \n109     NaN  NaN         142           10             6     AUS   LOST   \n110     NaN  NaN         186           10             4      NZ   LOST   \n111     NaN  NaN         111            7             1     ENG   LOST   \n\n            VENUE     WINNER  \n0             NaN        NaN  \n1    CHRISTCHURCH  AUSTRALIA  \n2         DUNEDIN        NaN  \n3      WELLINGTON        NaN  \n4        AUCKLAND        NaN  \n..            ...        ...  \n107       DUNEDIN        NaN  \n108       DUNEDIN        NaN  \n109         PERTH        NaN  \n110        NAPIER        NaN  \n111        SYDNEY        NaN  \n\n[112 rows x 9 columns]",
      "text/html": "<div>\n<style scoped>\n    .dataframe tbody tr th:only-of-type {\n        vertical-align: middle;\n    }\n\n    .dataframe tbody tr th {\n        vertical-align: top;\n    }\n\n    .dataframe thead th {\n        text-align: right;\n    }\n</style>\n<table border=\"1\" class=\"dataframe\">\n  <thead>\n    <tr style=\"text-align: right;\">\n      <th></th>\n      <th>YEAR</th>\n      <th>TEAM</th>\n      <th>RUNS SCORED</th>\n      <th>WICKETS LOST</th>\n      <th>WICKETS TAKEN</th>\n      <th>AGAINST</th>\n      <th>RESULT</th>\n      <th>VENUE</th>\n      <th>WINNER</th>\n    </tr>\n  </thead>\n  <tbody>\n    <tr>\n      <th>0</th>\n      <td>NaN</td>\n      <td>NaN</td>\n      <td>NaN</td>\n      <td>NaN</td>\n      <td>NaN</td>\n      <td>NaN</td>\n      <td>NaN</td>\n      <td>NaN</td>\n      <td>NaN</td>\n    </tr>\n    <tr>\n      <th>1</th>\n      <td>2015.0</td>\n      <td>NZ</td>\n      <td>331</td>\n      <td>6</td>\n      <td>10</td>\n      <td>SL</td>\n      <td>WON</td>\n      <td>CHRISTCHURCH</td>\n      <td>AUSTRALIA</td>\n    </tr>\n    <tr>\n      <th>2</th>\n      <td>NaN</td>\n      <td>NaN</td>\n      <td>146</td>\n      <td>7</td>\n      <td>10</td>\n      <td>SCO</td>\n      <td>WON</td>\n      <td>DUNEDIN</td>\n      <td>NaN</td>\n    </tr>\n    <tr>\n      <th>3</th>\n      <td>NaN</td>\n      <td>NaN</td>\n      <td>125</td>\n      <td>2</td>\n      <td>10</td>\n      <td>ENG</td>\n      <td>WON</td>\n      <td>WELLINGTON</td>\n      <td>NaN</td>\n    </tr>\n    <tr>\n      <th>4</th>\n      <td>NaN</td>\n      <td>NaN</td>\n      <td>152</td>\n      <td>9</td>\n      <td>10</td>\n      <td>AUS</td>\n      <td>WON</td>\n      <td>AUCKLAND</td>\n      <td>NaN</td>\n    </tr>\n    <tr>\n      <th>...</th>\n      <td>...</td>\n      <td>...</td>\n      <td>...</td>\n      <td>...</td>\n      <td>...</td>\n      <td>...</td>\n      <td>...</td>\n      <td>...</td>\n      <td>...</td>\n    </tr>\n    <tr>\n      <th>107</th>\n      <td>NaN</td>\n      <td>NaN</td>\n      <td>232</td>\n      <td>10</td>\n      <td>6</td>\n      <td>SL</td>\n      <td>LOST</td>\n      <td>DUNEDIN</td>\n      <td>NaN</td>\n    </tr>\n    <tr>\n      <th>108</th>\n      <td>NaN</td>\n      <td>NaN</td>\n      <td>211</td>\n      <td>9</td>\n      <td>10</td>\n      <td>SCO</td>\n      <td>WON</td>\n      <td>DUNEDIN</td>\n      <td>NaN</td>\n    </tr>\n    <tr>\n      <th>109</th>\n      <td>NaN</td>\n      <td>NaN</td>\n      <td>142</td>\n      <td>10</td>\n      <td>6</td>\n      <td>AUS</td>\n      <td>LOST</td>\n      <td>PERTH</td>\n      <td>NaN</td>\n    </tr>\n    <tr>\n      <th>110</th>\n      <td>NaN</td>\n      <td>NaN</td>\n      <td>186</td>\n      <td>10</td>\n      <td>4</td>\n      <td>NZ</td>\n      <td>LOST</td>\n      <td>NAPIER</td>\n      <td>NaN</td>\n    </tr>\n    <tr>\n      <th>111</th>\n      <td>NaN</td>\n      <td>NaN</td>\n      <td>111</td>\n      <td>7</td>\n      <td>1</td>\n      <td>ENG</td>\n      <td>LOST</td>\n      <td>SYDNEY</td>\n      <td>NaN</td>\n    </tr>\n  </tbody>\n</table>\n<p>112 rows × 9 columns</p>\n</div>"
     },
     "execution_count": 3,
     "metadata": {},
     "output_type": "execute_result"
    }
   ],
   "source": [
    "wc_2015 = pd.read_csv('../Dataset/cricketWorldcup/CRICKET WORLD CUP - 2015.csv')\n",
    "wc_2015"
   ],
   "metadata": {
    "collapsed": false,
    "ExecuteTime": {
     "end_time": "2023-12-27T14:42:07.221295100Z",
     "start_time": "2023-12-27T14:42:07.145878Z"
    }
   },
   "id": "c2abb1a47e24c91"
  },
  {
   "cell_type": "code",
   "execution_count": 4,
   "outputs": [
    {
     "data": {
      "text/plain": "       YEAR TEAM RUNS SCORED WICKETS LOST WICKETS TAKEN AGAINST RESULT  \\\n0       NaN  NaN         NaN          NaN           NaN     NaN    NaN   \n1    2011.0  BAN         283            9             4     IND   LOST   \n2       NaN  NaN         205           10            10     IRE    WON   \n3       NaN  NaN          58           10             1      WI   LOST   \n4       NaN  NaN         227            8            10     ENG    WON   \n..      ...  ...         ...          ...           ...     ...    ...   \n107     NaN  NaN         329            7             8     ENG    WON   \n108     NaN  NaN         207           10             5     IND   LOST   \n109     NaN  NaN         231           10            10      WI   LOST   \n110     NaN  NaN         141           10             7      SA   LOST   \n111     NaN  NaN         307            4            10     NED    WON   \n\n          VENUE WINNER  \n0           NaN    NaN  \n1         DHAKA  INDIA  \n2         DHAKA    NaN  \n3         DHAKA    NaN  \n4    CHATTOGRAM    NaN  \n..          ...    ...  \n107   BENGALURU    NaN  \n108   BENGALURU    NaN  \n109      MOHALI    NaN  \n110     KOLKATA    NaN  \n111     KOLKATA    NaN  \n\n[112 rows x 9 columns]",
      "text/html": "<div>\n<style scoped>\n    .dataframe tbody tr th:only-of-type {\n        vertical-align: middle;\n    }\n\n    .dataframe tbody tr th {\n        vertical-align: top;\n    }\n\n    .dataframe thead th {\n        text-align: right;\n    }\n</style>\n<table border=\"1\" class=\"dataframe\">\n  <thead>\n    <tr style=\"text-align: right;\">\n      <th></th>\n      <th>YEAR</th>\n      <th>TEAM</th>\n      <th>RUNS SCORED</th>\n      <th>WICKETS LOST</th>\n      <th>WICKETS TAKEN</th>\n      <th>AGAINST</th>\n      <th>RESULT</th>\n      <th>VENUE</th>\n      <th>WINNER</th>\n    </tr>\n  </thead>\n  <tbody>\n    <tr>\n      <th>0</th>\n      <td>NaN</td>\n      <td>NaN</td>\n      <td>NaN</td>\n      <td>NaN</td>\n      <td>NaN</td>\n      <td>NaN</td>\n      <td>NaN</td>\n      <td>NaN</td>\n      <td>NaN</td>\n    </tr>\n    <tr>\n      <th>1</th>\n      <td>2011.0</td>\n      <td>BAN</td>\n      <td>283</td>\n      <td>9</td>\n      <td>4</td>\n      <td>IND</td>\n      <td>LOST</td>\n      <td>DHAKA</td>\n      <td>INDIA</td>\n    </tr>\n    <tr>\n      <th>2</th>\n      <td>NaN</td>\n      <td>NaN</td>\n      <td>205</td>\n      <td>10</td>\n      <td>10</td>\n      <td>IRE</td>\n      <td>WON</td>\n      <td>DHAKA</td>\n      <td>NaN</td>\n    </tr>\n    <tr>\n      <th>3</th>\n      <td>NaN</td>\n      <td>NaN</td>\n      <td>58</td>\n      <td>10</td>\n      <td>1</td>\n      <td>WI</td>\n      <td>LOST</td>\n      <td>DHAKA</td>\n      <td>NaN</td>\n    </tr>\n    <tr>\n      <th>4</th>\n      <td>NaN</td>\n      <td>NaN</td>\n      <td>227</td>\n      <td>8</td>\n      <td>10</td>\n      <td>ENG</td>\n      <td>WON</td>\n      <td>CHATTOGRAM</td>\n      <td>NaN</td>\n    </tr>\n    <tr>\n      <th>...</th>\n      <td>...</td>\n      <td>...</td>\n      <td>...</td>\n      <td>...</td>\n      <td>...</td>\n      <td>...</td>\n      <td>...</td>\n      <td>...</td>\n      <td>...</td>\n    </tr>\n    <tr>\n      <th>107</th>\n      <td>NaN</td>\n      <td>NaN</td>\n      <td>329</td>\n      <td>7</td>\n      <td>8</td>\n      <td>ENG</td>\n      <td>WON</td>\n      <td>BENGALURU</td>\n      <td>NaN</td>\n    </tr>\n    <tr>\n      <th>108</th>\n      <td>NaN</td>\n      <td>NaN</td>\n      <td>207</td>\n      <td>10</td>\n      <td>5</td>\n      <td>IND</td>\n      <td>LOST</td>\n      <td>BENGALURU</td>\n      <td>NaN</td>\n    </tr>\n    <tr>\n      <th>109</th>\n      <td>NaN</td>\n      <td>NaN</td>\n      <td>231</td>\n      <td>10</td>\n      <td>10</td>\n      <td>WI</td>\n      <td>LOST</td>\n      <td>MOHALI</td>\n      <td>NaN</td>\n    </tr>\n    <tr>\n      <th>110</th>\n      <td>NaN</td>\n      <td>NaN</td>\n      <td>141</td>\n      <td>10</td>\n      <td>7</td>\n      <td>SA</td>\n      <td>LOST</td>\n      <td>KOLKATA</td>\n      <td>NaN</td>\n    </tr>\n    <tr>\n      <th>111</th>\n      <td>NaN</td>\n      <td>NaN</td>\n      <td>307</td>\n      <td>4</td>\n      <td>10</td>\n      <td>NED</td>\n      <td>WON</td>\n      <td>KOLKATA</td>\n      <td>NaN</td>\n    </tr>\n  </tbody>\n</table>\n<p>112 rows × 9 columns</p>\n</div>"
     },
     "execution_count": 4,
     "metadata": {},
     "output_type": "execute_result"
    }
   ],
   "source": [
    "wc_2011 = pd.read_csv('../Dataset/cricketWorldcup/CRICKET WORLD CUP - 2011.csv')\n",
    "wc_2011"
   ],
   "metadata": {
    "collapsed": false,
    "ExecuteTime": {
     "end_time": "2023-12-27T14:42:07.325451800Z",
     "start_time": "2023-12-27T14:42:07.180182800Z"
    }
   },
   "id": "8ef2c161d2193cb7"
  },
  {
   "cell_type": "code",
   "execution_count": 5,
   "outputs": [
    {
     "data": {
      "text/plain": "       YEAR TEAM  RUNS SCORED  WICKETS LOST  WICKETS TAKEN AGAINST RESULT  \\\n0       NaN  NaN          NaN           NaN            NaN     NaN    NaN   \n1    2007.0   WI        241.0           9.0           10.0     PAK    WON   \n2       NaN  NaN        204.0           4.0            5.0     ZIM    WON   \n3       NaN  NaN        190.0           2.0            8.0     IRE    WON   \n4       NaN  NaN        219.0          10.0            6.0     AUS   LOST   \n..      ...  ...          ...           ...            ...     ...    ...   \n113     NaN  NaN        131.0          10.0            5.0      WI   LOST   \n114     NaN  NaN          NaN           NaN            NaN     NaN    NaN   \n115     NaN  IND        191.0          10.0            5.0     BAN   LOST   \n116     NaN  NaN        413.0           5.0           10.0     BER    WON   \n117     NaN  NaN        185.0          10.0            6.0      SL   LOST   \n\n        VENUE     WINNER  \n0         NaN        NaN  \n1     JAMAICA  AUSTRALIA  \n2     JAMAICA        NaN  \n3     JAMAICA        NaN  \n4     ANTIGUA        NaN  \n..        ...        ...  \n113  BARBADOS        NaN  \n114       NaN        NaN  \n115  TRINIDAD        NaN  \n116  TRINIDAD        NaN  \n117  TRINIDAD        NaN  \n\n[118 rows x 9 columns]",
      "text/html": "<div>\n<style scoped>\n    .dataframe tbody tr th:only-of-type {\n        vertical-align: middle;\n    }\n\n    .dataframe tbody tr th {\n        vertical-align: top;\n    }\n\n    .dataframe thead th {\n        text-align: right;\n    }\n</style>\n<table border=\"1\" class=\"dataframe\">\n  <thead>\n    <tr style=\"text-align: right;\">\n      <th></th>\n      <th>YEAR</th>\n      <th>TEAM</th>\n      <th>RUNS SCORED</th>\n      <th>WICKETS LOST</th>\n      <th>WICKETS TAKEN</th>\n      <th>AGAINST</th>\n      <th>RESULT</th>\n      <th>VENUE</th>\n      <th>WINNER</th>\n    </tr>\n  </thead>\n  <tbody>\n    <tr>\n      <th>0</th>\n      <td>NaN</td>\n      <td>NaN</td>\n      <td>NaN</td>\n      <td>NaN</td>\n      <td>NaN</td>\n      <td>NaN</td>\n      <td>NaN</td>\n      <td>NaN</td>\n      <td>NaN</td>\n    </tr>\n    <tr>\n      <th>1</th>\n      <td>2007.0</td>\n      <td>WI</td>\n      <td>241.0</td>\n      <td>9.0</td>\n      <td>10.0</td>\n      <td>PAK</td>\n      <td>WON</td>\n      <td>JAMAICA</td>\n      <td>AUSTRALIA</td>\n    </tr>\n    <tr>\n      <th>2</th>\n      <td>NaN</td>\n      <td>NaN</td>\n      <td>204.0</td>\n      <td>4.0</td>\n      <td>5.0</td>\n      <td>ZIM</td>\n      <td>WON</td>\n      <td>JAMAICA</td>\n      <td>NaN</td>\n    </tr>\n    <tr>\n      <th>3</th>\n      <td>NaN</td>\n      <td>NaN</td>\n      <td>190.0</td>\n      <td>2.0</td>\n      <td>8.0</td>\n      <td>IRE</td>\n      <td>WON</td>\n      <td>JAMAICA</td>\n      <td>NaN</td>\n    </tr>\n    <tr>\n      <th>4</th>\n      <td>NaN</td>\n      <td>NaN</td>\n      <td>219.0</td>\n      <td>10.0</td>\n      <td>6.0</td>\n      <td>AUS</td>\n      <td>LOST</td>\n      <td>ANTIGUA</td>\n      <td>NaN</td>\n    </tr>\n    <tr>\n      <th>...</th>\n      <td>...</td>\n      <td>...</td>\n      <td>...</td>\n      <td>...</td>\n      <td>...</td>\n      <td>...</td>\n      <td>...</td>\n      <td>...</td>\n      <td>...</td>\n    </tr>\n    <tr>\n      <th>113</th>\n      <td>NaN</td>\n      <td>NaN</td>\n      <td>131.0</td>\n      <td>10.0</td>\n      <td>5.0</td>\n      <td>WI</td>\n      <td>LOST</td>\n      <td>BARBADOS</td>\n      <td>NaN</td>\n    </tr>\n    <tr>\n      <th>114</th>\n      <td>NaN</td>\n      <td>NaN</td>\n      <td>NaN</td>\n      <td>NaN</td>\n      <td>NaN</td>\n      <td>NaN</td>\n      <td>NaN</td>\n      <td>NaN</td>\n      <td>NaN</td>\n    </tr>\n    <tr>\n      <th>115</th>\n      <td>NaN</td>\n      <td>IND</td>\n      <td>191.0</td>\n      <td>10.0</td>\n      <td>5.0</td>\n      <td>BAN</td>\n      <td>LOST</td>\n      <td>TRINIDAD</td>\n      <td>NaN</td>\n    </tr>\n    <tr>\n      <th>116</th>\n      <td>NaN</td>\n      <td>NaN</td>\n      <td>413.0</td>\n      <td>5.0</td>\n      <td>10.0</td>\n      <td>BER</td>\n      <td>WON</td>\n      <td>TRINIDAD</td>\n      <td>NaN</td>\n    </tr>\n    <tr>\n      <th>117</th>\n      <td>NaN</td>\n      <td>NaN</td>\n      <td>185.0</td>\n      <td>10.0</td>\n      <td>6.0</td>\n      <td>SL</td>\n      <td>LOST</td>\n      <td>TRINIDAD</td>\n      <td>NaN</td>\n    </tr>\n  </tbody>\n</table>\n<p>118 rows × 9 columns</p>\n</div>"
     },
     "execution_count": 5,
     "metadata": {},
     "output_type": "execute_result"
    }
   ],
   "source": [
    "wc_2007 = pd.read_csv('../Dataset/cricketWorldcup/CRICKET WORLD CUP - 2007.csv')\n",
    "wc_2007"
   ],
   "metadata": {
    "collapsed": false,
    "ExecuteTime": {
     "end_time": "2023-12-27T14:42:07.346884100Z",
     "start_time": "2023-12-27T14:42:07.223797700Z"
    }
   },
   "id": "8339059d9e9cf73"
  },
  {
   "cell_type": "code",
   "execution_count": 6,
   "outputs": [
    {
     "data": {
      "text/plain": "       YEAR TEAM RUNS SCORED WICKETS LOST WICKETS TAKEN AGAINST RESULT  \\\n0       NaN  NaN         NaN          NaN           NaN     NaN    NaN   \n1    2003.0   SA         278            5             9      WI   LOST   \n2       NaN  NaN         142            0            10     KEN    WON   \n3       NaN  NaN         306            6             1      NZ   LOST   \n4       NaN  NaN         109            0            10     BAN    WON   \n..      ...  ...         ...          ...           ...     ...    ...   \n117     NaN  NaN         144            4             9     NED    WON   \n118     NaN  NaN         272           10             9     NAM    WON   \n119     NaN  NaN         246            8            10     PAK    WON   \n120     NaN  NaN         168           10             9     IND   LOST   \n121     NaN  NaN         204            8             8     AUS   LOST   \n\n             VENUE     WINNER  \n0              NaN        NaN  \n1        CAPE TOWN  AUSTRALIA  \n2    POTCHEFSTROOM        NaN  \n3     JOHANNESBERG        NaN  \n4     BLOEMFONTEIN        NaN  \n..             ...        ...  \n117    EAST LONDON        NaN  \n118       GQEBERHA        NaN  \n119      CAPE TOWN        NaN  \n120         DURBAN        NaN  \n121       GQEBERHA        NaN  \n\n[122 rows x 9 columns]",
      "text/html": "<div>\n<style scoped>\n    .dataframe tbody tr th:only-of-type {\n        vertical-align: middle;\n    }\n\n    .dataframe tbody tr th {\n        vertical-align: top;\n    }\n\n    .dataframe thead th {\n        text-align: right;\n    }\n</style>\n<table border=\"1\" class=\"dataframe\">\n  <thead>\n    <tr style=\"text-align: right;\">\n      <th></th>\n      <th>YEAR</th>\n      <th>TEAM</th>\n      <th>RUNS SCORED</th>\n      <th>WICKETS LOST</th>\n      <th>WICKETS TAKEN</th>\n      <th>AGAINST</th>\n      <th>RESULT</th>\n      <th>VENUE</th>\n      <th>WINNER</th>\n    </tr>\n  </thead>\n  <tbody>\n    <tr>\n      <th>0</th>\n      <td>NaN</td>\n      <td>NaN</td>\n      <td>NaN</td>\n      <td>NaN</td>\n      <td>NaN</td>\n      <td>NaN</td>\n      <td>NaN</td>\n      <td>NaN</td>\n      <td>NaN</td>\n    </tr>\n    <tr>\n      <th>1</th>\n      <td>2003.0</td>\n      <td>SA</td>\n      <td>278</td>\n      <td>5</td>\n      <td>9</td>\n      <td>WI</td>\n      <td>LOST</td>\n      <td>CAPE TOWN</td>\n      <td>AUSTRALIA</td>\n    </tr>\n    <tr>\n      <th>2</th>\n      <td>NaN</td>\n      <td>NaN</td>\n      <td>142</td>\n      <td>0</td>\n      <td>10</td>\n      <td>KEN</td>\n      <td>WON</td>\n      <td>POTCHEFSTROOM</td>\n      <td>NaN</td>\n    </tr>\n    <tr>\n      <th>3</th>\n      <td>NaN</td>\n      <td>NaN</td>\n      <td>306</td>\n      <td>6</td>\n      <td>1</td>\n      <td>NZ</td>\n      <td>LOST</td>\n      <td>JOHANNESBERG</td>\n      <td>NaN</td>\n    </tr>\n    <tr>\n      <th>4</th>\n      <td>NaN</td>\n      <td>NaN</td>\n      <td>109</td>\n      <td>0</td>\n      <td>10</td>\n      <td>BAN</td>\n      <td>WON</td>\n      <td>BLOEMFONTEIN</td>\n      <td>NaN</td>\n    </tr>\n    <tr>\n      <th>...</th>\n      <td>...</td>\n      <td>...</td>\n      <td>...</td>\n      <td>...</td>\n      <td>...</td>\n      <td>...</td>\n      <td>...</td>\n      <td>...</td>\n      <td>...</td>\n    </tr>\n    <tr>\n      <th>117</th>\n      <td>NaN</td>\n      <td>NaN</td>\n      <td>144</td>\n      <td>4</td>\n      <td>9</td>\n      <td>NED</td>\n      <td>WON</td>\n      <td>EAST LONDON</td>\n      <td>NaN</td>\n    </tr>\n    <tr>\n      <th>118</th>\n      <td>NaN</td>\n      <td>NaN</td>\n      <td>272</td>\n      <td>10</td>\n      <td>9</td>\n      <td>NAM</td>\n      <td>WON</td>\n      <td>GQEBERHA</td>\n      <td>NaN</td>\n    </tr>\n    <tr>\n      <th>119</th>\n      <td>NaN</td>\n      <td>NaN</td>\n      <td>246</td>\n      <td>8</td>\n      <td>10</td>\n      <td>PAK</td>\n      <td>WON</td>\n      <td>CAPE TOWN</td>\n      <td>NaN</td>\n    </tr>\n    <tr>\n      <th>120</th>\n      <td>NaN</td>\n      <td>NaN</td>\n      <td>168</td>\n      <td>10</td>\n      <td>9</td>\n      <td>IND</td>\n      <td>LOST</td>\n      <td>DURBAN</td>\n      <td>NaN</td>\n    </tr>\n    <tr>\n      <th>121</th>\n      <td>NaN</td>\n      <td>NaN</td>\n      <td>204</td>\n      <td>8</td>\n      <td>8</td>\n      <td>AUS</td>\n      <td>LOST</td>\n      <td>GQEBERHA</td>\n      <td>NaN</td>\n    </tr>\n  </tbody>\n</table>\n<p>122 rows × 9 columns</p>\n</div>"
     },
     "execution_count": 6,
     "metadata": {},
     "output_type": "execute_result"
    }
   ],
   "source": [
    "wc_2003 = pd.read_csv('../Dataset/cricketWorldcup/CRICKET WORLD CUP - 2003.csv')\n",
    "wc_2003"
   ],
   "metadata": {
    "collapsed": false,
    "ExecuteTime": {
     "end_time": "2023-12-27T14:42:07.385036700Z",
     "start_time": "2023-12-27T14:42:07.259844900Z"
    }
   },
   "id": "1073f96e76671be"
  },
  {
   "cell_type": "code",
   "execution_count": 7,
   "outputs": [
    {
     "data": {
      "text/plain": "      YEAR TEAM  RUNS SCORED WICKETS LOST WICKETS TAKEN AGAINST RESULT  \\\n0      NaN  NaN          NaN          NaN           NaN     NaN    NaN   \n1   1999.0  ENG        207.0            2            10      SL    WON   \n2      NaN  NaN        204.0            1            10     KEN    WON   \n3      NaN  NaN        103.0            7            10      SA   LOST   \n4      NaN  NaN        168.0            3             8     ZIM    WON   \n..     ...  ...          ...          ...           ...     ...    ...   \n91     NaN  NaN        123.0            4            10     SCO    WON   \n92     NaN  NaN         70.0           NR            NR     ZIM     NR   \n93     NaN  NaN        213.0            8             5      SA   LOST   \n94     NaN  NaN        253.0            5             6     IND    WON   \n95     NaN  NaN        241.0            7             1     PAK   LOST   \n\n         VENUE     WINNER  \n0          NaN        NaN  \n1       LONODN  AUSTRALIA  \n2   CANTERBURY        NaN  \n3       LONDON        NaN  \n4   NOTTINGHAM        NaN  \n..         ...        ...  \n91   EDINBURGH        NaN  \n92       LEEDS        NaN  \n93  BIRMINGHAM        NaN  \n94  NOTTINGHAM        NaN  \n95  MANCHESTER        NaN  \n\n[96 rows x 9 columns]",
      "text/html": "<div>\n<style scoped>\n    .dataframe tbody tr th:only-of-type {\n        vertical-align: middle;\n    }\n\n    .dataframe tbody tr th {\n        vertical-align: top;\n    }\n\n    .dataframe thead th {\n        text-align: right;\n    }\n</style>\n<table border=\"1\" class=\"dataframe\">\n  <thead>\n    <tr style=\"text-align: right;\">\n      <th></th>\n      <th>YEAR</th>\n      <th>TEAM</th>\n      <th>RUNS SCORED</th>\n      <th>WICKETS LOST</th>\n      <th>WICKETS TAKEN</th>\n      <th>AGAINST</th>\n      <th>RESULT</th>\n      <th>VENUE</th>\n      <th>WINNER</th>\n    </tr>\n  </thead>\n  <tbody>\n    <tr>\n      <th>0</th>\n      <td>NaN</td>\n      <td>NaN</td>\n      <td>NaN</td>\n      <td>NaN</td>\n      <td>NaN</td>\n      <td>NaN</td>\n      <td>NaN</td>\n      <td>NaN</td>\n      <td>NaN</td>\n    </tr>\n    <tr>\n      <th>1</th>\n      <td>1999.0</td>\n      <td>ENG</td>\n      <td>207.0</td>\n      <td>2</td>\n      <td>10</td>\n      <td>SL</td>\n      <td>WON</td>\n      <td>LONODN</td>\n      <td>AUSTRALIA</td>\n    </tr>\n    <tr>\n      <th>2</th>\n      <td>NaN</td>\n      <td>NaN</td>\n      <td>204.0</td>\n      <td>1</td>\n      <td>10</td>\n      <td>KEN</td>\n      <td>WON</td>\n      <td>CANTERBURY</td>\n      <td>NaN</td>\n    </tr>\n    <tr>\n      <th>3</th>\n      <td>NaN</td>\n      <td>NaN</td>\n      <td>103.0</td>\n      <td>7</td>\n      <td>10</td>\n      <td>SA</td>\n      <td>LOST</td>\n      <td>LONDON</td>\n      <td>NaN</td>\n    </tr>\n    <tr>\n      <th>4</th>\n      <td>NaN</td>\n      <td>NaN</td>\n      <td>168.0</td>\n      <td>3</td>\n      <td>8</td>\n      <td>ZIM</td>\n      <td>WON</td>\n      <td>NOTTINGHAM</td>\n      <td>NaN</td>\n    </tr>\n    <tr>\n      <th>...</th>\n      <td>...</td>\n      <td>...</td>\n      <td>...</td>\n      <td>...</td>\n      <td>...</td>\n      <td>...</td>\n      <td>...</td>\n      <td>...</td>\n      <td>...</td>\n    </tr>\n    <tr>\n      <th>91</th>\n      <td>NaN</td>\n      <td>NaN</td>\n      <td>123.0</td>\n      <td>4</td>\n      <td>10</td>\n      <td>SCO</td>\n      <td>WON</td>\n      <td>EDINBURGH</td>\n      <td>NaN</td>\n    </tr>\n    <tr>\n      <th>92</th>\n      <td>NaN</td>\n      <td>NaN</td>\n      <td>70.0</td>\n      <td>NR</td>\n      <td>NR</td>\n      <td>ZIM</td>\n      <td>NR</td>\n      <td>LEEDS</td>\n      <td>NaN</td>\n    </tr>\n    <tr>\n      <th>93</th>\n      <td>NaN</td>\n      <td>NaN</td>\n      <td>213.0</td>\n      <td>8</td>\n      <td>5</td>\n      <td>SA</td>\n      <td>LOST</td>\n      <td>BIRMINGHAM</td>\n      <td>NaN</td>\n    </tr>\n    <tr>\n      <th>94</th>\n      <td>NaN</td>\n      <td>NaN</td>\n      <td>253.0</td>\n      <td>5</td>\n      <td>6</td>\n      <td>IND</td>\n      <td>WON</td>\n      <td>NOTTINGHAM</td>\n      <td>NaN</td>\n    </tr>\n    <tr>\n      <th>95</th>\n      <td>NaN</td>\n      <td>NaN</td>\n      <td>241.0</td>\n      <td>7</td>\n      <td>1</td>\n      <td>PAK</td>\n      <td>LOST</td>\n      <td>MANCHESTER</td>\n      <td>NaN</td>\n    </tr>\n  </tbody>\n</table>\n<p>96 rows × 9 columns</p>\n</div>"
     },
     "execution_count": 7,
     "metadata": {},
     "output_type": "execute_result"
    }
   ],
   "source": [
    "wc_1999 = pd.read_csv('../Dataset/cricketWorldcup/CRICKET WORLD CUP - 1999.csv')\n",
    "wc_1999"
   ],
   "metadata": {
    "collapsed": false,
    "ExecuteTime": {
     "end_time": "2023-12-27T14:42:07.443651100Z",
     "start_time": "2023-12-27T14:42:07.288328900Z"
    }
   },
   "id": "5ff18b4dc4e232d6"
  },
  {
   "cell_type": "code",
   "execution_count": 8,
   "outputs": [
    {
     "data": {
      "text/plain": "      YEAR TEAM RUNS SCORED WICKETS LOST WICKETS TAKEN AGAINST RESULT  \\\n0      NaN  NaN         NaN          NaN           NaN     NaN    NaN   \n1   1992.0   NZ         248            6            10     AUS    WON   \n2      NaN  NaN         210            4             9      SL    WON   \n3      NaN  NaN         191            3             7      SA    WON   \n4      NaN  NaN         162            3             7     ZIM    WON   \n..     ...  ...         ...          ...           ...     ...    ...   \n82     NaN  NaN         211            7             8     PAK    WON   \n83     NaN  NaN         164            3            10     ZIM    WON   \n84     NaN  NaN         236            4             7     ENG   LOST   \n85     NaN  NaN         181            4             6     IND    WON   \n86     NaN  NaN         232            6             6     ENG   LOST   \n\n        VENUE    WINNER  \n0         NaN       NaN  \n1    AUCKLAND  PAKISTAN  \n2    HAMILTON       NaN  \n3    AUCKLAND       NaN  \n4      NAPIER       NaN  \n..        ...       ...  \n82   BRISBANE       NaN  \n83   CANBERRA       NaN  \n84  MELBOURNE       NaN  \n85   ADELAIDE       NaN  \n86     SYDNEY       NaN  \n\n[87 rows x 9 columns]",
      "text/html": "<div>\n<style scoped>\n    .dataframe tbody tr th:only-of-type {\n        vertical-align: middle;\n    }\n\n    .dataframe tbody tr th {\n        vertical-align: top;\n    }\n\n    .dataframe thead th {\n        text-align: right;\n    }\n</style>\n<table border=\"1\" class=\"dataframe\">\n  <thead>\n    <tr style=\"text-align: right;\">\n      <th></th>\n      <th>YEAR</th>\n      <th>TEAM</th>\n      <th>RUNS SCORED</th>\n      <th>WICKETS LOST</th>\n      <th>WICKETS TAKEN</th>\n      <th>AGAINST</th>\n      <th>RESULT</th>\n      <th>VENUE</th>\n      <th>WINNER</th>\n    </tr>\n  </thead>\n  <tbody>\n    <tr>\n      <th>0</th>\n      <td>NaN</td>\n      <td>NaN</td>\n      <td>NaN</td>\n      <td>NaN</td>\n      <td>NaN</td>\n      <td>NaN</td>\n      <td>NaN</td>\n      <td>NaN</td>\n      <td>NaN</td>\n    </tr>\n    <tr>\n      <th>1</th>\n      <td>1992.0</td>\n      <td>NZ</td>\n      <td>248</td>\n      <td>6</td>\n      <td>10</td>\n      <td>AUS</td>\n      <td>WON</td>\n      <td>AUCKLAND</td>\n      <td>PAKISTAN</td>\n    </tr>\n    <tr>\n      <th>2</th>\n      <td>NaN</td>\n      <td>NaN</td>\n      <td>210</td>\n      <td>4</td>\n      <td>9</td>\n      <td>SL</td>\n      <td>WON</td>\n      <td>HAMILTON</td>\n      <td>NaN</td>\n    </tr>\n    <tr>\n      <th>3</th>\n      <td>NaN</td>\n      <td>NaN</td>\n      <td>191</td>\n      <td>3</td>\n      <td>7</td>\n      <td>SA</td>\n      <td>WON</td>\n      <td>AUCKLAND</td>\n      <td>NaN</td>\n    </tr>\n    <tr>\n      <th>4</th>\n      <td>NaN</td>\n      <td>NaN</td>\n      <td>162</td>\n      <td>3</td>\n      <td>7</td>\n      <td>ZIM</td>\n      <td>WON</td>\n      <td>NAPIER</td>\n      <td>NaN</td>\n    </tr>\n    <tr>\n      <th>...</th>\n      <td>...</td>\n      <td>...</td>\n      <td>...</td>\n      <td>...</td>\n      <td>...</td>\n      <td>...</td>\n      <td>...</td>\n      <td>...</td>\n      <td>...</td>\n    </tr>\n    <tr>\n      <th>82</th>\n      <td>NaN</td>\n      <td>NaN</td>\n      <td>211</td>\n      <td>7</td>\n      <td>8</td>\n      <td>PAK</td>\n      <td>WON</td>\n      <td>BRISBANE</td>\n      <td>NaN</td>\n    </tr>\n    <tr>\n      <th>83</th>\n      <td>NaN</td>\n      <td>NaN</td>\n      <td>164</td>\n      <td>3</td>\n      <td>10</td>\n      <td>ZIM</td>\n      <td>WON</td>\n      <td>CANBERRA</td>\n      <td>NaN</td>\n    </tr>\n    <tr>\n      <th>84</th>\n      <td>NaN</td>\n      <td>NaN</td>\n      <td>236</td>\n      <td>4</td>\n      <td>7</td>\n      <td>ENG</td>\n      <td>LOST</td>\n      <td>MELBOURNE</td>\n      <td>NaN</td>\n    </tr>\n    <tr>\n      <th>85</th>\n      <td>NaN</td>\n      <td>NaN</td>\n      <td>181</td>\n      <td>4</td>\n      <td>6</td>\n      <td>IND</td>\n      <td>WON</td>\n      <td>ADELAIDE</td>\n      <td>NaN</td>\n    </tr>\n    <tr>\n      <th>86</th>\n      <td>NaN</td>\n      <td>NaN</td>\n      <td>232</td>\n      <td>6</td>\n      <td>6</td>\n      <td>ENG</td>\n      <td>LOST</td>\n      <td>SYDNEY</td>\n      <td>NaN</td>\n    </tr>\n  </tbody>\n</table>\n<p>87 rows × 9 columns</p>\n</div>"
     },
     "execution_count": 8,
     "metadata": {},
     "output_type": "execute_result"
    }
   ],
   "source": [
    "wc_1992 = pd.read_csv('../Dataset/cricketWorldcup/CRICKET WORLD CUP - 1992.csv')\n",
    "wc_1992"
   ],
   "metadata": {
    "collapsed": false,
    "ExecuteTime": {
     "end_time": "2023-12-27T14:42:07.467227500Z",
     "start_time": "2023-12-27T14:42:07.317623Z"
    }
   },
   "id": "d9e2e93986490154"
  },
  {
   "cell_type": "code",
   "execution_count": 9,
   "outputs": [
    {
     "data": {
      "text/plain": "      YEAR TEAM  RUNS SCORED  WICKETS LOST  WICKETS TAKEN AGAINST RESULT  \\\n0      NaN  NaN          NaN           NaN            NaN     NaN    NaN   \n1   1987.0  PAK        267.0           6.0           10.0      SL    WON   \n2      NaN  NaN        239.0           7.0           10.0     ENG    WON   \n3      NaN  NaN        216.0           9.0           10.0      WI    WON   \n4      NaN  NaN        247.0           3.0            9.0     ENG    WON   \n..     ...  ...          ...           ...            ...     ...    ...   \n57     NaN  NaN        139.0          10.0            9.0     AUS   LOST   \n58     NaN  NaN        135.0          10.0            2.0     IND   LOST   \n59     NaN  NaN        227.0           5.0            6.0      NZ   LOST   \n60     NaN  NaN        191.0           7.0            3.0     IND   LOST   \n61     NaN  NaN        196.0           6.0            5.0     AUS   LOST   \n\n         VENUE     WINNER  \n0          NaN        NaN  \n1    HYDERABAD  AUSTRALIA  \n2   RAWALPINDI        NaN  \n3       LAHORE        NaN  \n4     KARACHI         NaN  \n..         ...        ...  \n57  CHANDIGARH        NaN  \n58      MUMBAI        NaN  \n59     KOLKATA        NaN  \n60   AHMEDABAD        NaN  \n61    CUTTACK         NaN  \n\n[62 rows x 9 columns]",
      "text/html": "<div>\n<style scoped>\n    .dataframe tbody tr th:only-of-type {\n        vertical-align: middle;\n    }\n\n    .dataframe tbody tr th {\n        vertical-align: top;\n    }\n\n    .dataframe thead th {\n        text-align: right;\n    }\n</style>\n<table border=\"1\" class=\"dataframe\">\n  <thead>\n    <tr style=\"text-align: right;\">\n      <th></th>\n      <th>YEAR</th>\n      <th>TEAM</th>\n      <th>RUNS SCORED</th>\n      <th>WICKETS LOST</th>\n      <th>WICKETS TAKEN</th>\n      <th>AGAINST</th>\n      <th>RESULT</th>\n      <th>VENUE</th>\n      <th>WINNER</th>\n    </tr>\n  </thead>\n  <tbody>\n    <tr>\n      <th>0</th>\n      <td>NaN</td>\n      <td>NaN</td>\n      <td>NaN</td>\n      <td>NaN</td>\n      <td>NaN</td>\n      <td>NaN</td>\n      <td>NaN</td>\n      <td>NaN</td>\n      <td>NaN</td>\n    </tr>\n    <tr>\n      <th>1</th>\n      <td>1987.0</td>\n      <td>PAK</td>\n      <td>267.0</td>\n      <td>6.0</td>\n      <td>10.0</td>\n      <td>SL</td>\n      <td>WON</td>\n      <td>HYDERABAD</td>\n      <td>AUSTRALIA</td>\n    </tr>\n    <tr>\n      <th>2</th>\n      <td>NaN</td>\n      <td>NaN</td>\n      <td>239.0</td>\n      <td>7.0</td>\n      <td>10.0</td>\n      <td>ENG</td>\n      <td>WON</td>\n      <td>RAWALPINDI</td>\n      <td>NaN</td>\n    </tr>\n    <tr>\n      <th>3</th>\n      <td>NaN</td>\n      <td>NaN</td>\n      <td>216.0</td>\n      <td>9.0</td>\n      <td>10.0</td>\n      <td>WI</td>\n      <td>WON</td>\n      <td>LAHORE</td>\n      <td>NaN</td>\n    </tr>\n    <tr>\n      <th>4</th>\n      <td>NaN</td>\n      <td>NaN</td>\n      <td>247.0</td>\n      <td>3.0</td>\n      <td>9.0</td>\n      <td>ENG</td>\n      <td>WON</td>\n      <td>KARACHI</td>\n      <td>NaN</td>\n    </tr>\n    <tr>\n      <th>...</th>\n      <td>...</td>\n      <td>...</td>\n      <td>...</td>\n      <td>...</td>\n      <td>...</td>\n      <td>...</td>\n      <td>...</td>\n      <td>...</td>\n      <td>...</td>\n    </tr>\n    <tr>\n      <th>57</th>\n      <td>NaN</td>\n      <td>NaN</td>\n      <td>139.0</td>\n      <td>10.0</td>\n      <td>9.0</td>\n      <td>AUS</td>\n      <td>LOST</td>\n      <td>CHANDIGARH</td>\n      <td>NaN</td>\n    </tr>\n    <tr>\n      <th>58</th>\n      <td>NaN</td>\n      <td>NaN</td>\n      <td>135.0</td>\n      <td>10.0</td>\n      <td>2.0</td>\n      <td>IND</td>\n      <td>LOST</td>\n      <td>MUMBAI</td>\n      <td>NaN</td>\n    </tr>\n    <tr>\n      <th>59</th>\n      <td>NaN</td>\n      <td>NaN</td>\n      <td>227.0</td>\n      <td>5.0</td>\n      <td>6.0</td>\n      <td>NZ</td>\n      <td>LOST</td>\n      <td>KOLKATA</td>\n      <td>NaN</td>\n    </tr>\n    <tr>\n      <th>60</th>\n      <td>NaN</td>\n      <td>NaN</td>\n      <td>191.0</td>\n      <td>7.0</td>\n      <td>3.0</td>\n      <td>IND</td>\n      <td>LOST</td>\n      <td>AHMEDABAD</td>\n      <td>NaN</td>\n    </tr>\n    <tr>\n      <th>61</th>\n      <td>NaN</td>\n      <td>NaN</td>\n      <td>196.0</td>\n      <td>6.0</td>\n      <td>5.0</td>\n      <td>AUS</td>\n      <td>LOST</td>\n      <td>CUTTACK</td>\n      <td>NaN</td>\n    </tr>\n  </tbody>\n</table>\n<p>62 rows × 9 columns</p>\n</div>"
     },
     "execution_count": 9,
     "metadata": {},
     "output_type": "execute_result"
    }
   ],
   "source": [
    "wc_1987 = pd.read_csv('../Dataset/cricketWorldcup/CRICKET WORLD CUP - 1987.csv')\n",
    "wc_1987"
   ],
   "metadata": {
    "collapsed": false,
    "ExecuteTime": {
     "end_time": "2023-12-27T14:42:07.513916600Z",
     "start_time": "2023-12-27T14:42:07.354254100Z"
    }
   },
   "id": "16396df890944353"
  },
  {
   "cell_type": "code",
   "execution_count": 10,
   "outputs": [
    {
     "data": {
      "text/plain": "      YEAR TEAM  RUNS SCORED  WICKETS LOST  WICKETS TAKEN AGAINST RESULT  \\\n0      NaN  NaN          NaN           NaN            NaN     NaN    NaN   \n1   1983.0  ENG        322.0           6.0           10.0      NZ    WON   \n2      NaN  ENG        339.0           9.0           10.0      SL    WON   \n3      NaN  ENG        199.0           2.0            8.0     PAK    WON   \n4      NaN  ENG        234.0          10.0            8.0      NZ   LOST   \n..     ...  ...          ...           ...            ...     ...    ...   \n57     NaN   WI        282.0           9.0           10.0     IND    WON   \n58     NaN   WI        276.0           3.0            6.0     AUS    WON   \n59     NaN   WI        172.0           0.0           10.0     ZIM    WON   \n60     NaN   WI        188.0           2.0            8.0     PAK    WON   \n61     NaN   WI        140.0          10.0           10.0     IND   LOST   \n\n         VENUE WINNER  \n0          NaN    NaN  \n1       LONDON  INDIA  \n2      TAUNTON    NaN  \n3       LONDON    NaN  \n4   BIRMINGHAM    NaN  \n..         ...    ...  \n57      LONDON    NaN  \n58      LONDON    NaN  \n59  BIRMINGHAM    NaN  \n60      LONDON    NaN  \n61      LONDON    NaN  \n\n[62 rows x 9 columns]",
      "text/html": "<div>\n<style scoped>\n    .dataframe tbody tr th:only-of-type {\n        vertical-align: middle;\n    }\n\n    .dataframe tbody tr th {\n        vertical-align: top;\n    }\n\n    .dataframe thead th {\n        text-align: right;\n    }\n</style>\n<table border=\"1\" class=\"dataframe\">\n  <thead>\n    <tr style=\"text-align: right;\">\n      <th></th>\n      <th>YEAR</th>\n      <th>TEAM</th>\n      <th>RUNS SCORED</th>\n      <th>WICKETS LOST</th>\n      <th>WICKETS TAKEN</th>\n      <th>AGAINST</th>\n      <th>RESULT</th>\n      <th>VENUE</th>\n      <th>WINNER</th>\n    </tr>\n  </thead>\n  <tbody>\n    <tr>\n      <th>0</th>\n      <td>NaN</td>\n      <td>NaN</td>\n      <td>NaN</td>\n      <td>NaN</td>\n      <td>NaN</td>\n      <td>NaN</td>\n      <td>NaN</td>\n      <td>NaN</td>\n      <td>NaN</td>\n    </tr>\n    <tr>\n      <th>1</th>\n      <td>1983.0</td>\n      <td>ENG</td>\n      <td>322.0</td>\n      <td>6.0</td>\n      <td>10.0</td>\n      <td>NZ</td>\n      <td>WON</td>\n      <td>LONDON</td>\n      <td>INDIA</td>\n    </tr>\n    <tr>\n      <th>2</th>\n      <td>NaN</td>\n      <td>ENG</td>\n      <td>339.0</td>\n      <td>9.0</td>\n      <td>10.0</td>\n      <td>SL</td>\n      <td>WON</td>\n      <td>TAUNTON</td>\n      <td>NaN</td>\n    </tr>\n    <tr>\n      <th>3</th>\n      <td>NaN</td>\n      <td>ENG</td>\n      <td>199.0</td>\n      <td>2.0</td>\n      <td>8.0</td>\n      <td>PAK</td>\n      <td>WON</td>\n      <td>LONDON</td>\n      <td>NaN</td>\n    </tr>\n    <tr>\n      <th>4</th>\n      <td>NaN</td>\n      <td>ENG</td>\n      <td>234.0</td>\n      <td>10.0</td>\n      <td>8.0</td>\n      <td>NZ</td>\n      <td>LOST</td>\n      <td>BIRMINGHAM</td>\n      <td>NaN</td>\n    </tr>\n    <tr>\n      <th>...</th>\n      <td>...</td>\n      <td>...</td>\n      <td>...</td>\n      <td>...</td>\n      <td>...</td>\n      <td>...</td>\n      <td>...</td>\n      <td>...</td>\n      <td>...</td>\n    </tr>\n    <tr>\n      <th>57</th>\n      <td>NaN</td>\n      <td>WI</td>\n      <td>282.0</td>\n      <td>9.0</td>\n      <td>10.0</td>\n      <td>IND</td>\n      <td>WON</td>\n      <td>LONDON</td>\n      <td>NaN</td>\n    </tr>\n    <tr>\n      <th>58</th>\n      <td>NaN</td>\n      <td>WI</td>\n      <td>276.0</td>\n      <td>3.0</td>\n      <td>6.0</td>\n      <td>AUS</td>\n      <td>WON</td>\n      <td>LONDON</td>\n      <td>NaN</td>\n    </tr>\n    <tr>\n      <th>59</th>\n      <td>NaN</td>\n      <td>WI</td>\n      <td>172.0</td>\n      <td>0.0</td>\n      <td>10.0</td>\n      <td>ZIM</td>\n      <td>WON</td>\n      <td>BIRMINGHAM</td>\n      <td>NaN</td>\n    </tr>\n    <tr>\n      <th>60</th>\n      <td>NaN</td>\n      <td>WI</td>\n      <td>188.0</td>\n      <td>2.0</td>\n      <td>8.0</td>\n      <td>PAK</td>\n      <td>WON</td>\n      <td>LONDON</td>\n      <td>NaN</td>\n    </tr>\n    <tr>\n      <th>61</th>\n      <td>NaN</td>\n      <td>WI</td>\n      <td>140.0</td>\n      <td>10.0</td>\n      <td>10.0</td>\n      <td>IND</td>\n      <td>LOST</td>\n      <td>LONDON</td>\n      <td>NaN</td>\n    </tr>\n  </tbody>\n</table>\n<p>62 rows × 9 columns</p>\n</div>"
     },
     "execution_count": 10,
     "metadata": {},
     "output_type": "execute_result"
    }
   ],
   "source": [
    "wc_1983 = pd.read_csv('../Dataset/cricketWorldcup/CRICKET WORLD CUP - 1983.csv')\n",
    "wc_1983"
   ],
   "metadata": {
    "collapsed": false,
    "ExecuteTime": {
     "end_time": "2023-12-27T14:42:07.625777300Z",
     "start_time": "2023-12-27T14:42:07.379636900Z"
    }
   },
   "id": "68efbf9c0378d581"
  },
  {
   "cell_type": "code",
   "execution_count": 11,
   "outputs": [
    {
     "data": {
      "text/plain": "      YEAR TEAM  RUNS SCORED WICKETS LOST WICKETS TAKEN AGAINST RESULT  \\\n0      NaN  NaN          NaN          NaN           NaN     NaN    NaN   \n1   1979.0  IND        190.0           10             1      WI   LOST   \n2      NaN  IND        182.0           10             2      NZ   LOST   \n3      NaN  IND        238.0           10             5      SL   LOST   \n4      NaN  NaN          NaN          NaN           NaN     NaN    NaN   \n5      NaN   WI        190.0           10             1     IND    WON   \n6      NaN   WI          NaN           NR            NR      SL     NR   \n7      NaN   WI        244.0            7             9      NZ    WON   \n8      NaN   WI        293.0            6            10     PAK    WON   \n9      NaN   WI        286.0            9            10     ENG    WON   \n10     NaN  NaN          NaN          NaN           NaN     NaN    NaN   \n11     NaN   NZ        190.0            1            10      SL    WON   \n12     NaN   NZ        183.0            2            10     IND    WON   \n13     NaN   NZ        212.0            9             7      WI   LOST   \n14     NaN   NZ        212.0            9             8     ENG   LOST   \n15     NaN  NaN          NaN          NaN           NaN     NaN    NaN   \n16     NaN   SL        189.0           10             1      NZ   LOST   \n17     NaN   SL          NaN           NR            NR      WI     NR   \n18     NaN   SL        238.0            5            10     IND    WON   \n19     NaN  NaN          NaN          NaN           NaN     NaN    NaN   \n20     NaN  ENG        160.0            4             9     AUS    WON   \n21     NaN  ENG         46.0            2            10     CAN    WON   \n22     NaN  ENG        165.0            9            10     PAK    WON   \n23     NaN  ENG        221.0            8             9      NZ    WON   \n24     NaN  ENG        194.0            9            10      WI   LOST   \n25     NaN  NaN          NaN          NaN           NaN     NaN    NaN   \n26     NaN  AUS        159.0            9             4     ENG   LOST   \n27     NaN  AUS        197.0           10             7     PAK   LOST   \n28     NaN  AUS        106.0            3            10     CAN    WON   \n29     NaN  NaN          NaN          NaN           NaN     NaN    NaN   \n30     NaN  CAN        139.0            9             2     PAK   LOST   \n31     NaN  CAN         45.0           10             2     ENG   LOST   \n32     NaN  CAN        105.0           10             3     AUS   LOST   \n33     NaN  NaN          NaN          NaN           NaN     NaN    NaN   \n34     NaN  PAK        140.0            2             9     CAN    WON   \n35     NaN  PAK        286.0            7            10     AUS    WON   \n36     NaN  PAK        151.0           10             9     ENG   LOST   \n37     NaN  PAK        250.0           10             6      WI   LOST   \n\n         VENUE       WINNER  \n0          NaN          NaN  \n1   BIRMINGHAM  WEST INDIES  \n2        LEEDS          NaN  \n3   MANCHESTER          NaN  \n4          NaN          NaN  \n5   BIRMINGHAM          NaN  \n6       LONDON          NaN  \n7   NOTTINGHAM          NaN  \n8       LONDON          NaN  \n9       LONDON          NaN  \n10         NaN          NaN  \n11  NOTTINGHAM          NaN  \n12       LEEDS          NaN  \n13  NOTTINGHAM          NaN  \n14  MANCHESTER          NaN  \n15         NaN          NaN  \n16  NOTTINGHAM          NaN  \n17      LONDON          NaN  \n18  MANCHESTER          NaN  \n19         NaN          NaN  \n20      LONDON          NaN  \n21  MANCHESTER          NaN  \n22       LEEDS          NaN  \n23  MANCHESTER          NaN  \n24      LONDON          NaN  \n25         NaN          NaN  \n26      LONDON          NaN  \n27  NOTTINGHAM          NaN  \n28  BIRMINGHAM          NaN  \n29         NaN          NaN  \n30       LEEDS          NaN  \n31  MANCHESTER          NaN  \n32  BIRMINGHAM          NaN  \n33         NaN          NaN  \n34       LEEDS          NaN  \n35  NOTTINGHAM          NaN  \n36       LEEDS          NaN  \n37      LONDON          NaN  ",
      "text/html": "<div>\n<style scoped>\n    .dataframe tbody tr th:only-of-type {\n        vertical-align: middle;\n    }\n\n    .dataframe tbody tr th {\n        vertical-align: top;\n    }\n\n    .dataframe thead th {\n        text-align: right;\n    }\n</style>\n<table border=\"1\" class=\"dataframe\">\n  <thead>\n    <tr style=\"text-align: right;\">\n      <th></th>\n      <th>YEAR</th>\n      <th>TEAM</th>\n      <th>RUNS SCORED</th>\n      <th>WICKETS LOST</th>\n      <th>WICKETS TAKEN</th>\n      <th>AGAINST</th>\n      <th>RESULT</th>\n      <th>VENUE</th>\n      <th>WINNER</th>\n    </tr>\n  </thead>\n  <tbody>\n    <tr>\n      <th>0</th>\n      <td>NaN</td>\n      <td>NaN</td>\n      <td>NaN</td>\n      <td>NaN</td>\n      <td>NaN</td>\n      <td>NaN</td>\n      <td>NaN</td>\n      <td>NaN</td>\n      <td>NaN</td>\n    </tr>\n    <tr>\n      <th>1</th>\n      <td>1979.0</td>\n      <td>IND</td>\n      <td>190.0</td>\n      <td>10</td>\n      <td>1</td>\n      <td>WI</td>\n      <td>LOST</td>\n      <td>BIRMINGHAM</td>\n      <td>WEST INDIES</td>\n    </tr>\n    <tr>\n      <th>2</th>\n      <td>NaN</td>\n      <td>IND</td>\n      <td>182.0</td>\n      <td>10</td>\n      <td>2</td>\n      <td>NZ</td>\n      <td>LOST</td>\n      <td>LEEDS</td>\n      <td>NaN</td>\n    </tr>\n    <tr>\n      <th>3</th>\n      <td>NaN</td>\n      <td>IND</td>\n      <td>238.0</td>\n      <td>10</td>\n      <td>5</td>\n      <td>SL</td>\n      <td>LOST</td>\n      <td>MANCHESTER</td>\n      <td>NaN</td>\n    </tr>\n    <tr>\n      <th>4</th>\n      <td>NaN</td>\n      <td>NaN</td>\n      <td>NaN</td>\n      <td>NaN</td>\n      <td>NaN</td>\n      <td>NaN</td>\n      <td>NaN</td>\n      <td>NaN</td>\n      <td>NaN</td>\n    </tr>\n    <tr>\n      <th>5</th>\n      <td>NaN</td>\n      <td>WI</td>\n      <td>190.0</td>\n      <td>10</td>\n      <td>1</td>\n      <td>IND</td>\n      <td>WON</td>\n      <td>BIRMINGHAM</td>\n      <td>NaN</td>\n    </tr>\n    <tr>\n      <th>6</th>\n      <td>NaN</td>\n      <td>WI</td>\n      <td>NaN</td>\n      <td>NR</td>\n      <td>NR</td>\n      <td>SL</td>\n      <td>NR</td>\n      <td>LONDON</td>\n      <td>NaN</td>\n    </tr>\n    <tr>\n      <th>7</th>\n      <td>NaN</td>\n      <td>WI</td>\n      <td>244.0</td>\n      <td>7</td>\n      <td>9</td>\n      <td>NZ</td>\n      <td>WON</td>\n      <td>NOTTINGHAM</td>\n      <td>NaN</td>\n    </tr>\n    <tr>\n      <th>8</th>\n      <td>NaN</td>\n      <td>WI</td>\n      <td>293.0</td>\n      <td>6</td>\n      <td>10</td>\n      <td>PAK</td>\n      <td>WON</td>\n      <td>LONDON</td>\n      <td>NaN</td>\n    </tr>\n    <tr>\n      <th>9</th>\n      <td>NaN</td>\n      <td>WI</td>\n      <td>286.0</td>\n      <td>9</td>\n      <td>10</td>\n      <td>ENG</td>\n      <td>WON</td>\n      <td>LONDON</td>\n      <td>NaN</td>\n    </tr>\n    <tr>\n      <th>10</th>\n      <td>NaN</td>\n      <td>NaN</td>\n      <td>NaN</td>\n      <td>NaN</td>\n      <td>NaN</td>\n      <td>NaN</td>\n      <td>NaN</td>\n      <td>NaN</td>\n      <td>NaN</td>\n    </tr>\n    <tr>\n      <th>11</th>\n      <td>NaN</td>\n      <td>NZ</td>\n      <td>190.0</td>\n      <td>1</td>\n      <td>10</td>\n      <td>SL</td>\n      <td>WON</td>\n      <td>NOTTINGHAM</td>\n      <td>NaN</td>\n    </tr>\n    <tr>\n      <th>12</th>\n      <td>NaN</td>\n      <td>NZ</td>\n      <td>183.0</td>\n      <td>2</td>\n      <td>10</td>\n      <td>IND</td>\n      <td>WON</td>\n      <td>LEEDS</td>\n      <td>NaN</td>\n    </tr>\n    <tr>\n      <th>13</th>\n      <td>NaN</td>\n      <td>NZ</td>\n      <td>212.0</td>\n      <td>9</td>\n      <td>7</td>\n      <td>WI</td>\n      <td>LOST</td>\n      <td>NOTTINGHAM</td>\n      <td>NaN</td>\n    </tr>\n    <tr>\n      <th>14</th>\n      <td>NaN</td>\n      <td>NZ</td>\n      <td>212.0</td>\n      <td>9</td>\n      <td>8</td>\n      <td>ENG</td>\n      <td>LOST</td>\n      <td>MANCHESTER</td>\n      <td>NaN</td>\n    </tr>\n    <tr>\n      <th>15</th>\n      <td>NaN</td>\n      <td>NaN</td>\n      <td>NaN</td>\n      <td>NaN</td>\n      <td>NaN</td>\n      <td>NaN</td>\n      <td>NaN</td>\n      <td>NaN</td>\n      <td>NaN</td>\n    </tr>\n    <tr>\n      <th>16</th>\n      <td>NaN</td>\n      <td>SL</td>\n      <td>189.0</td>\n      <td>10</td>\n      <td>1</td>\n      <td>NZ</td>\n      <td>LOST</td>\n      <td>NOTTINGHAM</td>\n      <td>NaN</td>\n    </tr>\n    <tr>\n      <th>17</th>\n      <td>NaN</td>\n      <td>SL</td>\n      <td>NaN</td>\n      <td>NR</td>\n      <td>NR</td>\n      <td>WI</td>\n      <td>NR</td>\n      <td>LONDON</td>\n      <td>NaN</td>\n    </tr>\n    <tr>\n      <th>18</th>\n      <td>NaN</td>\n      <td>SL</td>\n      <td>238.0</td>\n      <td>5</td>\n      <td>10</td>\n      <td>IND</td>\n      <td>WON</td>\n      <td>MANCHESTER</td>\n      <td>NaN</td>\n    </tr>\n    <tr>\n      <th>19</th>\n      <td>NaN</td>\n      <td>NaN</td>\n      <td>NaN</td>\n      <td>NaN</td>\n      <td>NaN</td>\n      <td>NaN</td>\n      <td>NaN</td>\n      <td>NaN</td>\n      <td>NaN</td>\n    </tr>\n    <tr>\n      <th>20</th>\n      <td>NaN</td>\n      <td>ENG</td>\n      <td>160.0</td>\n      <td>4</td>\n      <td>9</td>\n      <td>AUS</td>\n      <td>WON</td>\n      <td>LONDON</td>\n      <td>NaN</td>\n    </tr>\n    <tr>\n      <th>21</th>\n      <td>NaN</td>\n      <td>ENG</td>\n      <td>46.0</td>\n      <td>2</td>\n      <td>10</td>\n      <td>CAN</td>\n      <td>WON</td>\n      <td>MANCHESTER</td>\n      <td>NaN</td>\n    </tr>\n    <tr>\n      <th>22</th>\n      <td>NaN</td>\n      <td>ENG</td>\n      <td>165.0</td>\n      <td>9</td>\n      <td>10</td>\n      <td>PAK</td>\n      <td>WON</td>\n      <td>LEEDS</td>\n      <td>NaN</td>\n    </tr>\n    <tr>\n      <th>23</th>\n      <td>NaN</td>\n      <td>ENG</td>\n      <td>221.0</td>\n      <td>8</td>\n      <td>9</td>\n      <td>NZ</td>\n      <td>WON</td>\n      <td>MANCHESTER</td>\n      <td>NaN</td>\n    </tr>\n    <tr>\n      <th>24</th>\n      <td>NaN</td>\n      <td>ENG</td>\n      <td>194.0</td>\n      <td>9</td>\n      <td>10</td>\n      <td>WI</td>\n      <td>LOST</td>\n      <td>LONDON</td>\n      <td>NaN</td>\n    </tr>\n    <tr>\n      <th>25</th>\n      <td>NaN</td>\n      <td>NaN</td>\n      <td>NaN</td>\n      <td>NaN</td>\n      <td>NaN</td>\n      <td>NaN</td>\n      <td>NaN</td>\n      <td>NaN</td>\n      <td>NaN</td>\n    </tr>\n    <tr>\n      <th>26</th>\n      <td>NaN</td>\n      <td>AUS</td>\n      <td>159.0</td>\n      <td>9</td>\n      <td>4</td>\n      <td>ENG</td>\n      <td>LOST</td>\n      <td>LONDON</td>\n      <td>NaN</td>\n    </tr>\n    <tr>\n      <th>27</th>\n      <td>NaN</td>\n      <td>AUS</td>\n      <td>197.0</td>\n      <td>10</td>\n      <td>7</td>\n      <td>PAK</td>\n      <td>LOST</td>\n      <td>NOTTINGHAM</td>\n      <td>NaN</td>\n    </tr>\n    <tr>\n      <th>28</th>\n      <td>NaN</td>\n      <td>AUS</td>\n      <td>106.0</td>\n      <td>3</td>\n      <td>10</td>\n      <td>CAN</td>\n      <td>WON</td>\n      <td>BIRMINGHAM</td>\n      <td>NaN</td>\n    </tr>\n    <tr>\n      <th>29</th>\n      <td>NaN</td>\n      <td>NaN</td>\n      <td>NaN</td>\n      <td>NaN</td>\n      <td>NaN</td>\n      <td>NaN</td>\n      <td>NaN</td>\n      <td>NaN</td>\n      <td>NaN</td>\n    </tr>\n    <tr>\n      <th>30</th>\n      <td>NaN</td>\n      <td>CAN</td>\n      <td>139.0</td>\n      <td>9</td>\n      <td>2</td>\n      <td>PAK</td>\n      <td>LOST</td>\n      <td>LEEDS</td>\n      <td>NaN</td>\n    </tr>\n    <tr>\n      <th>31</th>\n      <td>NaN</td>\n      <td>CAN</td>\n      <td>45.0</td>\n      <td>10</td>\n      <td>2</td>\n      <td>ENG</td>\n      <td>LOST</td>\n      <td>MANCHESTER</td>\n      <td>NaN</td>\n    </tr>\n    <tr>\n      <th>32</th>\n      <td>NaN</td>\n      <td>CAN</td>\n      <td>105.0</td>\n      <td>10</td>\n      <td>3</td>\n      <td>AUS</td>\n      <td>LOST</td>\n      <td>BIRMINGHAM</td>\n      <td>NaN</td>\n    </tr>\n    <tr>\n      <th>33</th>\n      <td>NaN</td>\n      <td>NaN</td>\n      <td>NaN</td>\n      <td>NaN</td>\n      <td>NaN</td>\n      <td>NaN</td>\n      <td>NaN</td>\n      <td>NaN</td>\n      <td>NaN</td>\n    </tr>\n    <tr>\n      <th>34</th>\n      <td>NaN</td>\n      <td>PAK</td>\n      <td>140.0</td>\n      <td>2</td>\n      <td>9</td>\n      <td>CAN</td>\n      <td>WON</td>\n      <td>LEEDS</td>\n      <td>NaN</td>\n    </tr>\n    <tr>\n      <th>35</th>\n      <td>NaN</td>\n      <td>PAK</td>\n      <td>286.0</td>\n      <td>7</td>\n      <td>10</td>\n      <td>AUS</td>\n      <td>WON</td>\n      <td>NOTTINGHAM</td>\n      <td>NaN</td>\n    </tr>\n    <tr>\n      <th>36</th>\n      <td>NaN</td>\n      <td>PAK</td>\n      <td>151.0</td>\n      <td>10</td>\n      <td>9</td>\n      <td>ENG</td>\n      <td>LOST</td>\n      <td>LEEDS</td>\n      <td>NaN</td>\n    </tr>\n    <tr>\n      <th>37</th>\n      <td>NaN</td>\n      <td>PAK</td>\n      <td>250.0</td>\n      <td>10</td>\n      <td>6</td>\n      <td>WI</td>\n      <td>LOST</td>\n      <td>LONDON</td>\n      <td>NaN</td>\n    </tr>\n  </tbody>\n</table>\n</div>"
     },
     "execution_count": 11,
     "metadata": {},
     "output_type": "execute_result"
    }
   ],
   "source": [
    "wc_1979 = pd.read_csv('../Dataset/cricketWorldcup/CRICKET WORLD CUP - 1979.csv')\n",
    "wc_1979"
   ],
   "metadata": {
    "collapsed": false,
    "ExecuteTime": {
     "end_time": "2023-12-27T14:42:07.716873600Z",
     "start_time": "2023-12-27T14:42:07.410416500Z"
    }
   },
   "id": "cc86a91149ef50e7"
  },
  {
   "cell_type": "code",
   "execution_count": 12,
   "outputs": [
    {
     "name": "stderr",
     "output_type": "stream",
     "text": [
      "C:\\Users\\rouna\\AppData\\Local\\Temp\\ipykernel_15844\\156330580.py:1: FutureWarning: DataFrame.fillna with 'method' is deprecated and will raise in a future version. Use obj.ffill() or obj.bfill() instead.\n",
      "  joint = pd.concat([wc_2019.fillna(method='bfill'), wc_2015.fillna(method='bfill'),wc_2011.fillna(method='bfill'),wc_2007.fillna(method='bfill'),wc_2003.fillna(method='bfill'),wc_1999.fillna(method='bfill'),wc_1992.fillna(method='bfill'),wc_1987.fillna(method='bfill'),wc_1983.fillna(method='bfill'),wc_1979.fillna(method='bfill')],axis=0)\n"
     ]
    }
   ],
   "source": [
    "joint = pd.concat([wc_2019.fillna(method='bfill'), wc_2015.fillna(method='bfill'),wc_2011.fillna(method='bfill'),wc_2007.fillna(method='bfill'),wc_2003.fillna(method='bfill'),wc_1999.fillna(method='bfill'),wc_1992.fillna(method='bfill'),wc_1987.fillna(method='bfill'),wc_1983.fillna(method='bfill'),wc_1979.fillna(method='bfill')],axis=0)"
   ],
   "metadata": {
    "collapsed": false,
    "ExecuteTime": {
     "end_time": "2023-12-27T14:42:07.739400700Z",
     "start_time": "2023-12-27T14:42:07.453573700Z"
    }
   },
   "id": "fe38c2379c082727"
  },
  {
   "cell_type": "code",
   "execution_count": 13,
   "outputs": [
    {
     "data": {
      "text/plain": "      YEAR TEAM RUNS SCORED WICKETS LOST WICKETS TAKEN AGAINST RESULT  \\\n0   2019.0  ENG         311            8            10      SA    WON   \n1   2019.0  ENG         311            8            10      SA    WON   \n2      NaN   SA         334            9             8     PAK   LOST   \n3      NaN   SA         386            6            10     BAN    WON   \n4      NaN   SA         231            2            10      WI    WON   \n..     ...  ...         ...          ...           ...     ...    ...   \n33     NaN  PAK       140.0            2             9     CAN    WON   \n34     NaN  PAK       140.0            2             9     CAN    WON   \n35     NaN  PAK       286.0            7            10     AUS    WON   \n36     NaN  PAK       151.0           10             9     ENG   LOST   \n37     NaN  PAK       250.0           10             6      WI   LOST   \n\n          VENUE   WINNER  \n0        LONDON  ENGLAND  \n1        LONDON  ENGLAND  \n2    NOTTINGHAM      NaN  \n3       CARDIFF      NaN  \n4   SOUTHAMPTON      NaN  \n..          ...      ...  \n33        LEEDS      NaN  \n34        LEEDS      NaN  \n35   NOTTINGHAM      NaN  \n36        LEEDS      NaN  \n37       LONDON      NaN  \n\n[915 rows x 9 columns]",
      "text/html": "<div>\n<style scoped>\n    .dataframe tbody tr th:only-of-type {\n        vertical-align: middle;\n    }\n\n    .dataframe tbody tr th {\n        vertical-align: top;\n    }\n\n    .dataframe thead th {\n        text-align: right;\n    }\n</style>\n<table border=\"1\" class=\"dataframe\">\n  <thead>\n    <tr style=\"text-align: right;\">\n      <th></th>\n      <th>YEAR</th>\n      <th>TEAM</th>\n      <th>RUNS SCORED</th>\n      <th>WICKETS LOST</th>\n      <th>WICKETS TAKEN</th>\n      <th>AGAINST</th>\n      <th>RESULT</th>\n      <th>VENUE</th>\n      <th>WINNER</th>\n    </tr>\n  </thead>\n  <tbody>\n    <tr>\n      <th>0</th>\n      <td>2019.0</td>\n      <td>ENG</td>\n      <td>311</td>\n      <td>8</td>\n      <td>10</td>\n      <td>SA</td>\n      <td>WON</td>\n      <td>LONDON</td>\n      <td>ENGLAND</td>\n    </tr>\n    <tr>\n      <th>1</th>\n      <td>2019.0</td>\n      <td>ENG</td>\n      <td>311</td>\n      <td>8</td>\n      <td>10</td>\n      <td>SA</td>\n      <td>WON</td>\n      <td>LONDON</td>\n      <td>ENGLAND</td>\n    </tr>\n    <tr>\n      <th>2</th>\n      <td>NaN</td>\n      <td>SA</td>\n      <td>334</td>\n      <td>9</td>\n      <td>8</td>\n      <td>PAK</td>\n      <td>LOST</td>\n      <td>NOTTINGHAM</td>\n      <td>NaN</td>\n    </tr>\n    <tr>\n      <th>3</th>\n      <td>NaN</td>\n      <td>SA</td>\n      <td>386</td>\n      <td>6</td>\n      <td>10</td>\n      <td>BAN</td>\n      <td>WON</td>\n      <td>CARDIFF</td>\n      <td>NaN</td>\n    </tr>\n    <tr>\n      <th>4</th>\n      <td>NaN</td>\n      <td>SA</td>\n      <td>231</td>\n      <td>2</td>\n      <td>10</td>\n      <td>WI</td>\n      <td>WON</td>\n      <td>SOUTHAMPTON</td>\n      <td>NaN</td>\n    </tr>\n    <tr>\n      <th>...</th>\n      <td>...</td>\n      <td>...</td>\n      <td>...</td>\n      <td>...</td>\n      <td>...</td>\n      <td>...</td>\n      <td>...</td>\n      <td>...</td>\n      <td>...</td>\n    </tr>\n    <tr>\n      <th>33</th>\n      <td>NaN</td>\n      <td>PAK</td>\n      <td>140.0</td>\n      <td>2</td>\n      <td>9</td>\n      <td>CAN</td>\n      <td>WON</td>\n      <td>LEEDS</td>\n      <td>NaN</td>\n    </tr>\n    <tr>\n      <th>34</th>\n      <td>NaN</td>\n      <td>PAK</td>\n      <td>140.0</td>\n      <td>2</td>\n      <td>9</td>\n      <td>CAN</td>\n      <td>WON</td>\n      <td>LEEDS</td>\n      <td>NaN</td>\n    </tr>\n    <tr>\n      <th>35</th>\n      <td>NaN</td>\n      <td>PAK</td>\n      <td>286.0</td>\n      <td>7</td>\n      <td>10</td>\n      <td>AUS</td>\n      <td>WON</td>\n      <td>NOTTINGHAM</td>\n      <td>NaN</td>\n    </tr>\n    <tr>\n      <th>36</th>\n      <td>NaN</td>\n      <td>PAK</td>\n      <td>151.0</td>\n      <td>10</td>\n      <td>9</td>\n      <td>ENG</td>\n      <td>LOST</td>\n      <td>LEEDS</td>\n      <td>NaN</td>\n    </tr>\n    <tr>\n      <th>37</th>\n      <td>NaN</td>\n      <td>PAK</td>\n      <td>250.0</td>\n      <td>10</td>\n      <td>6</td>\n      <td>WI</td>\n      <td>LOST</td>\n      <td>LONDON</td>\n      <td>NaN</td>\n    </tr>\n  </tbody>\n</table>\n<p>915 rows × 9 columns</p>\n</div>"
     },
     "execution_count": 13,
     "metadata": {},
     "output_type": "execute_result"
    }
   ],
   "source": [
    "joint"
   ],
   "metadata": {
    "collapsed": false,
    "ExecuteTime": {
     "end_time": "2023-12-27T14:42:07.741400600Z",
     "start_time": "2023-12-27T14:42:07.483686400Z"
    }
   },
   "id": "ea1fb205bfa258fa"
  },
  {
   "cell_type": "code",
   "execution_count": 14,
   "outputs": [],
   "source": [
    "joint.drop(labels='RUNS SCORED',axis=1,inplace=True)\n",
    "joint.drop(labels='WICKETS LOST',axis=1,inplace=True)\n",
    "joint.drop(labels='WICKETS TAKEN',axis=1,inplace=True)\n",
    "joint.drop(labels='AGAINST',axis=1,inplace=True)\n",
    "joint.drop(labels='RESULT',axis=1,inplace=True)\n",
    "joint.drop(labels='VENUE',axis=1,inplace=True)"
   ],
   "metadata": {
    "collapsed": false,
    "ExecuteTime": {
     "end_time": "2023-12-27T14:42:07.743400500Z",
     "start_time": "2023-12-27T14:42:07.511413Z"
    }
   },
   "id": "c4006d3d82d06e7a"
  },
  {
   "cell_type": "code",
   "execution_count": 15,
   "outputs": [
    {
     "data": {
      "text/plain": "      YEAR TEAM   WINNER\n0   2019.0  ENG  ENGLAND\n1   2019.0  ENG  ENGLAND\n2      NaN   SA      NaN\n3      NaN   SA      NaN\n4      NaN   SA      NaN\n..     ...  ...      ...\n33     NaN  PAK      NaN\n34     NaN  PAK      NaN\n35     NaN  PAK      NaN\n36     NaN  PAK      NaN\n37     NaN  PAK      NaN\n\n[915 rows x 3 columns]",
      "text/html": "<div>\n<style scoped>\n    .dataframe tbody tr th:only-of-type {\n        vertical-align: middle;\n    }\n\n    .dataframe tbody tr th {\n        vertical-align: top;\n    }\n\n    .dataframe thead th {\n        text-align: right;\n    }\n</style>\n<table border=\"1\" class=\"dataframe\">\n  <thead>\n    <tr style=\"text-align: right;\">\n      <th></th>\n      <th>YEAR</th>\n      <th>TEAM</th>\n      <th>WINNER</th>\n    </tr>\n  </thead>\n  <tbody>\n    <tr>\n      <th>0</th>\n      <td>2019.0</td>\n      <td>ENG</td>\n      <td>ENGLAND</td>\n    </tr>\n    <tr>\n      <th>1</th>\n      <td>2019.0</td>\n      <td>ENG</td>\n      <td>ENGLAND</td>\n    </tr>\n    <tr>\n      <th>2</th>\n      <td>NaN</td>\n      <td>SA</td>\n      <td>NaN</td>\n    </tr>\n    <tr>\n      <th>3</th>\n      <td>NaN</td>\n      <td>SA</td>\n      <td>NaN</td>\n    </tr>\n    <tr>\n      <th>4</th>\n      <td>NaN</td>\n      <td>SA</td>\n      <td>NaN</td>\n    </tr>\n    <tr>\n      <th>...</th>\n      <td>...</td>\n      <td>...</td>\n      <td>...</td>\n    </tr>\n    <tr>\n      <th>33</th>\n      <td>NaN</td>\n      <td>PAK</td>\n      <td>NaN</td>\n    </tr>\n    <tr>\n      <th>34</th>\n      <td>NaN</td>\n      <td>PAK</td>\n      <td>NaN</td>\n    </tr>\n    <tr>\n      <th>35</th>\n      <td>NaN</td>\n      <td>PAK</td>\n      <td>NaN</td>\n    </tr>\n    <tr>\n      <th>36</th>\n      <td>NaN</td>\n      <td>PAK</td>\n      <td>NaN</td>\n    </tr>\n    <tr>\n      <th>37</th>\n      <td>NaN</td>\n      <td>PAK</td>\n      <td>NaN</td>\n    </tr>\n  </tbody>\n</table>\n<p>915 rows × 3 columns</p>\n</div>"
     },
     "execution_count": 15,
     "metadata": {},
     "output_type": "execute_result"
    }
   ],
   "source": [
    "joint"
   ],
   "metadata": {
    "collapsed": false,
    "ExecuteTime": {
     "end_time": "2023-12-27T14:42:07.784690700Z",
     "start_time": "2023-12-27T14:42:07.531284600Z"
    }
   },
   "id": "9ca397feec627b64"
  },
  {
   "cell_type": "code",
   "execution_count": 16,
   "outputs": [
    {
     "data": {
      "text/plain": "     YEAR TEAM       WINNER\n0  2019.0  ENG      ENGLAND\n1  2019.0  ENG      ENGLAND\n0  2015.0   NZ    AUSTRALIA\n1  2015.0   NZ    AUSTRALIA\n0  2011.0  BAN        INDIA\n1  2011.0  BAN        INDIA\n0  2007.0   WI    AUSTRALIA\n1  2007.0   WI    AUSTRALIA\n0  2003.0   SA    AUSTRALIA\n1  2003.0   SA    AUSTRALIA\n0  1999.0  ENG    AUSTRALIA\n1  1999.0  ENG    AUSTRALIA\n0  1992.0   NZ     PAKISTAN\n1  1992.0   NZ     PAKISTAN\n0  1987.0  PAK    AUSTRALIA\n1  1987.0  PAK    AUSTRALIA\n0  1983.0  ENG        INDIA\n1  1983.0  ENG        INDIA\n0  1979.0  IND  WEST INDIES\n1  1979.0  IND  WEST INDIES",
      "text/html": "<div>\n<style scoped>\n    .dataframe tbody tr th:only-of-type {\n        vertical-align: middle;\n    }\n\n    .dataframe tbody tr th {\n        vertical-align: top;\n    }\n\n    .dataframe thead th {\n        text-align: right;\n    }\n</style>\n<table border=\"1\" class=\"dataframe\">\n  <thead>\n    <tr style=\"text-align: right;\">\n      <th></th>\n      <th>YEAR</th>\n      <th>TEAM</th>\n      <th>WINNER</th>\n    </tr>\n  </thead>\n  <tbody>\n    <tr>\n      <th>0</th>\n      <td>2019.0</td>\n      <td>ENG</td>\n      <td>ENGLAND</td>\n    </tr>\n    <tr>\n      <th>1</th>\n      <td>2019.0</td>\n      <td>ENG</td>\n      <td>ENGLAND</td>\n    </tr>\n    <tr>\n      <th>0</th>\n      <td>2015.0</td>\n      <td>NZ</td>\n      <td>AUSTRALIA</td>\n    </tr>\n    <tr>\n      <th>1</th>\n      <td>2015.0</td>\n      <td>NZ</td>\n      <td>AUSTRALIA</td>\n    </tr>\n    <tr>\n      <th>0</th>\n      <td>2011.0</td>\n      <td>BAN</td>\n      <td>INDIA</td>\n    </tr>\n    <tr>\n      <th>1</th>\n      <td>2011.0</td>\n      <td>BAN</td>\n      <td>INDIA</td>\n    </tr>\n    <tr>\n      <th>0</th>\n      <td>2007.0</td>\n      <td>WI</td>\n      <td>AUSTRALIA</td>\n    </tr>\n    <tr>\n      <th>1</th>\n      <td>2007.0</td>\n      <td>WI</td>\n      <td>AUSTRALIA</td>\n    </tr>\n    <tr>\n      <th>0</th>\n      <td>2003.0</td>\n      <td>SA</td>\n      <td>AUSTRALIA</td>\n    </tr>\n    <tr>\n      <th>1</th>\n      <td>2003.0</td>\n      <td>SA</td>\n      <td>AUSTRALIA</td>\n    </tr>\n    <tr>\n      <th>0</th>\n      <td>1999.0</td>\n      <td>ENG</td>\n      <td>AUSTRALIA</td>\n    </tr>\n    <tr>\n      <th>1</th>\n      <td>1999.0</td>\n      <td>ENG</td>\n      <td>AUSTRALIA</td>\n    </tr>\n    <tr>\n      <th>0</th>\n      <td>1992.0</td>\n      <td>NZ</td>\n      <td>PAKISTAN</td>\n    </tr>\n    <tr>\n      <th>1</th>\n      <td>1992.0</td>\n      <td>NZ</td>\n      <td>PAKISTAN</td>\n    </tr>\n    <tr>\n      <th>0</th>\n      <td>1987.0</td>\n      <td>PAK</td>\n      <td>AUSTRALIA</td>\n    </tr>\n    <tr>\n      <th>1</th>\n      <td>1987.0</td>\n      <td>PAK</td>\n      <td>AUSTRALIA</td>\n    </tr>\n    <tr>\n      <th>0</th>\n      <td>1983.0</td>\n      <td>ENG</td>\n      <td>INDIA</td>\n    </tr>\n    <tr>\n      <th>1</th>\n      <td>1983.0</td>\n      <td>ENG</td>\n      <td>INDIA</td>\n    </tr>\n    <tr>\n      <th>0</th>\n      <td>1979.0</td>\n      <td>IND</td>\n      <td>WEST INDIES</td>\n    </tr>\n    <tr>\n      <th>1</th>\n      <td>1979.0</td>\n      <td>IND</td>\n      <td>WEST INDIES</td>\n    </tr>\n  </tbody>\n</table>\n</div>"
     },
     "execution_count": 16,
     "metadata": {},
     "output_type": "execute_result"
    }
   ],
   "source": [
    "winner = joint.dropna()\n",
    "winner"
   ],
   "metadata": {
    "collapsed": false,
    "ExecuteTime": {
     "end_time": "2023-12-27T14:42:07.812717800Z",
     "start_time": "2023-12-27T14:42:07.547729200Z"
    }
   },
   "id": "5219023685eb2b3b"
  },
  {
   "cell_type": "code",
   "execution_count": 17,
   "outputs": [
    {
     "data": {
      "text/plain": "     YEAR TEAM       WINNER\n0  2019.0  ENG      ENGLAND\n0  2015.0   NZ    AUSTRALIA\n0  2011.0  BAN        INDIA\n0  2007.0   WI    AUSTRALIA\n0  2003.0   SA    AUSTRALIA\n0  1999.0  ENG    AUSTRALIA\n0  1992.0   NZ     PAKISTAN\n0  1987.0  PAK    AUSTRALIA\n0  1983.0  ENG        INDIA\n0  1979.0  IND  WEST INDIES",
      "text/html": "<div>\n<style scoped>\n    .dataframe tbody tr th:only-of-type {\n        vertical-align: middle;\n    }\n\n    .dataframe tbody tr th {\n        vertical-align: top;\n    }\n\n    .dataframe thead th {\n        text-align: right;\n    }\n</style>\n<table border=\"1\" class=\"dataframe\">\n  <thead>\n    <tr style=\"text-align: right;\">\n      <th></th>\n      <th>YEAR</th>\n      <th>TEAM</th>\n      <th>WINNER</th>\n    </tr>\n  </thead>\n  <tbody>\n    <tr>\n      <th>0</th>\n      <td>2019.0</td>\n      <td>ENG</td>\n      <td>ENGLAND</td>\n    </tr>\n    <tr>\n      <th>0</th>\n      <td>2015.0</td>\n      <td>NZ</td>\n      <td>AUSTRALIA</td>\n    </tr>\n    <tr>\n      <th>0</th>\n      <td>2011.0</td>\n      <td>BAN</td>\n      <td>INDIA</td>\n    </tr>\n    <tr>\n      <th>0</th>\n      <td>2007.0</td>\n      <td>WI</td>\n      <td>AUSTRALIA</td>\n    </tr>\n    <tr>\n      <th>0</th>\n      <td>2003.0</td>\n      <td>SA</td>\n      <td>AUSTRALIA</td>\n    </tr>\n    <tr>\n      <th>0</th>\n      <td>1999.0</td>\n      <td>ENG</td>\n      <td>AUSTRALIA</td>\n    </tr>\n    <tr>\n      <th>0</th>\n      <td>1992.0</td>\n      <td>NZ</td>\n      <td>PAKISTAN</td>\n    </tr>\n    <tr>\n      <th>0</th>\n      <td>1987.0</td>\n      <td>PAK</td>\n      <td>AUSTRALIA</td>\n    </tr>\n    <tr>\n      <th>0</th>\n      <td>1983.0</td>\n      <td>ENG</td>\n      <td>INDIA</td>\n    </tr>\n    <tr>\n      <th>0</th>\n      <td>1979.0</td>\n      <td>IND</td>\n      <td>WEST INDIES</td>\n    </tr>\n  </tbody>\n</table>\n</div>"
     },
     "execution_count": 17,
     "metadata": {},
     "output_type": "execute_result"
    }
   ],
   "source": [
    "winner.drop_duplicates('YEAR')"
   ],
   "metadata": {
    "collapsed": false,
    "ExecuteTime": {
     "end_time": "2023-12-27T14:42:07.820227400Z",
     "start_time": "2023-12-27T14:42:07.569882800Z"
    }
   },
   "id": "d98d214dbe5ec594"
  }
 ],
 "metadata": {
  "kernelspec": {
   "display_name": "Python 3",
   "language": "python",
   "name": "python3"
  },
  "language_info": {
   "codemirror_mode": {
    "name": "ipython",
    "version": 2
   },
   "file_extension": ".py",
   "mimetype": "text/x-python",
   "name": "python",
   "nbconvert_exporter": "python",
   "pygments_lexer": "ipython2",
   "version": "2.7.6"
  }
 },
 "nbformat": 4,
 "nbformat_minor": 5
}
