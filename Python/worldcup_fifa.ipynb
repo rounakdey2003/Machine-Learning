{
 "cells": [
  {
   "cell_type": "code",
   "execution_count": 1,
   "outputs": [
    {
     "data": {
      "text/plain": "        Year              Datetime    Stage         Stadium         City  \\\n0     1930.0  13 Jul 1930 - 15:00   Group 1         Pocitos  Montevideo    \n1     1930.0  13 Jul 1930 - 15:00   Group 4  Parque Central  Montevideo    \n2     1930.0  14 Jul 1930 - 12:45   Group 2  Parque Central  Montevideo    \n3     1930.0  14 Jul 1930 - 14:50   Group 3         Pocitos  Montevideo    \n4     1930.0  15 Jul 1930 - 16:00   Group 1  Parque Central  Montevideo    \n...      ...                   ...      ...             ...          ...   \n4567     NaN                   NaN      NaN             NaN          NaN   \n4568     NaN                   NaN      NaN             NaN          NaN   \n4569     NaN                   NaN      NaN             NaN          NaN   \n4570     NaN                   NaN      NaN             NaN          NaN   \n4571     NaN                   NaN      NaN             NaN          NaN   \n\n     Home Team Name  Home Team Goals  Away Team Goals Away Team Name  \\\n0            France              4.0              1.0         Mexico   \n1               USA              3.0              0.0        Belgium   \n2        Yugoslavia              2.0              1.0         Brazil   \n3           Romania              3.0              1.0           Peru   \n4         Argentina              1.0              0.0         France   \n...             ...              ...              ...            ...   \n4567            NaN              NaN              NaN            NaN   \n4568            NaN              NaN              NaN            NaN   \n4569            NaN              NaN              NaN            NaN   \n4570            NaN              NaN              NaN            NaN   \n4571            NaN              NaN              NaN            NaN   \n\n     Win conditions  Attendance  Half-time Home Goals  Half-time Away Goals  \\\n0                        4444.0                   3.0                   0.0   \n1                       18346.0                   2.0                   0.0   \n2                       24059.0                   2.0                   0.0   \n3                        2549.0                   1.0                   0.0   \n4                       23409.0                   0.0                   0.0   \n...             ...         ...                   ...                   ...   \n4567            NaN         NaN                   NaN                   NaN   \n4568            NaN         NaN                   NaN                   NaN   \n4569            NaN         NaN                   NaN                   NaN   \n4570            NaN         NaN                   NaN                   NaN   \n4571            NaN         NaN                   NaN                   NaN   \n\n                     Referee               Assistant 1  \\\n0     LOMBARDI Domingo (URU)     CRISTOPHE Henry (BEL)   \n1          MACIAS Jose (ARG)  MATEUCCI Francisco (URU)   \n2        TEJADA Anibal (URU)   VALLARINO Ricardo (URU)   \n3      WARNKEN Alberto (CHI)       LANGENUS Jean (BEL)   \n4        REGO Gilberto (BRA)      SAUCEDO Ulises (BOL)   \n...                      ...                       ...   \n4567                     NaN                       NaN   \n4568                     NaN                       NaN   \n4569                     NaN                       NaN   \n4570                     NaN                       NaN   \n4571                     NaN                       NaN   \n\n                     Assistant 2  RoundID  MatchID Home Team Initials  \\\n0            REGO Gilberto (BRA)    201.0   1096.0                FRA   \n1          WARNKEN Alberto (CHI)    201.0   1090.0                USA   \n2            BALWAY Thomas (FRA)    201.0   1093.0                YUG   \n3       MATEUCCI Francisco (URU)    201.0   1098.0                ROU   \n4     RADULESCU Constantin (ROU)    201.0   1085.0                ARG   \n...                          ...      ...      ...                ...   \n4567                         NaN      NaN      NaN                NaN   \n4568                         NaN      NaN      NaN                NaN   \n4569                         NaN      NaN      NaN                NaN   \n4570                         NaN      NaN      NaN                NaN   \n4571                         NaN      NaN      NaN                NaN   \n\n     Away Team Initials  \n0                   MEX  \n1                   BEL  \n2                   BRA  \n3                   PER  \n4                   FRA  \n...                 ...  \n4567                NaN  \n4568                NaN  \n4569                NaN  \n4570                NaN  \n4571                NaN  \n\n[4572 rows x 20 columns]",
      "text/html": "<div>\n<style scoped>\n    .dataframe tbody tr th:only-of-type {\n        vertical-align: middle;\n    }\n\n    .dataframe tbody tr th {\n        vertical-align: top;\n    }\n\n    .dataframe thead th {\n        text-align: right;\n    }\n</style>\n<table border=\"1\" class=\"dataframe\">\n  <thead>\n    <tr style=\"text-align: right;\">\n      <th></th>\n      <th>Year</th>\n      <th>Datetime</th>\n      <th>Stage</th>\n      <th>Stadium</th>\n      <th>City</th>\n      <th>Home Team Name</th>\n      <th>Home Team Goals</th>\n      <th>Away Team Goals</th>\n      <th>Away Team Name</th>\n      <th>Win conditions</th>\n      <th>Attendance</th>\n      <th>Half-time Home Goals</th>\n      <th>Half-time Away Goals</th>\n      <th>Referee</th>\n      <th>Assistant 1</th>\n      <th>Assistant 2</th>\n      <th>RoundID</th>\n      <th>MatchID</th>\n      <th>Home Team Initials</th>\n      <th>Away Team Initials</th>\n    </tr>\n  </thead>\n  <tbody>\n    <tr>\n      <th>0</th>\n      <td>1930.0</td>\n      <td>13 Jul 1930 - 15:00</td>\n      <td>Group 1</td>\n      <td>Pocitos</td>\n      <td>Montevideo</td>\n      <td>France</td>\n      <td>4.0</td>\n      <td>1.0</td>\n      <td>Mexico</td>\n      <td></td>\n      <td>4444.0</td>\n      <td>3.0</td>\n      <td>0.0</td>\n      <td>LOMBARDI Domingo (URU)</td>\n      <td>CRISTOPHE Henry (BEL)</td>\n      <td>REGO Gilberto (BRA)</td>\n      <td>201.0</td>\n      <td>1096.0</td>\n      <td>FRA</td>\n      <td>MEX</td>\n    </tr>\n    <tr>\n      <th>1</th>\n      <td>1930.0</td>\n      <td>13 Jul 1930 - 15:00</td>\n      <td>Group 4</td>\n      <td>Parque Central</td>\n      <td>Montevideo</td>\n      <td>USA</td>\n      <td>3.0</td>\n      <td>0.0</td>\n      <td>Belgium</td>\n      <td></td>\n      <td>18346.0</td>\n      <td>2.0</td>\n      <td>0.0</td>\n      <td>MACIAS Jose (ARG)</td>\n      <td>MATEUCCI Francisco (URU)</td>\n      <td>WARNKEN Alberto (CHI)</td>\n      <td>201.0</td>\n      <td>1090.0</td>\n      <td>USA</td>\n      <td>BEL</td>\n    </tr>\n    <tr>\n      <th>2</th>\n      <td>1930.0</td>\n      <td>14 Jul 1930 - 12:45</td>\n      <td>Group 2</td>\n      <td>Parque Central</td>\n      <td>Montevideo</td>\n      <td>Yugoslavia</td>\n      <td>2.0</td>\n      <td>1.0</td>\n      <td>Brazil</td>\n      <td></td>\n      <td>24059.0</td>\n      <td>2.0</td>\n      <td>0.0</td>\n      <td>TEJADA Anibal (URU)</td>\n      <td>VALLARINO Ricardo (URU)</td>\n      <td>BALWAY Thomas (FRA)</td>\n      <td>201.0</td>\n      <td>1093.0</td>\n      <td>YUG</td>\n      <td>BRA</td>\n    </tr>\n    <tr>\n      <th>3</th>\n      <td>1930.0</td>\n      <td>14 Jul 1930 - 14:50</td>\n      <td>Group 3</td>\n      <td>Pocitos</td>\n      <td>Montevideo</td>\n      <td>Romania</td>\n      <td>3.0</td>\n      <td>1.0</td>\n      <td>Peru</td>\n      <td></td>\n      <td>2549.0</td>\n      <td>1.0</td>\n      <td>0.0</td>\n      <td>WARNKEN Alberto (CHI)</td>\n      <td>LANGENUS Jean (BEL)</td>\n      <td>MATEUCCI Francisco (URU)</td>\n      <td>201.0</td>\n      <td>1098.0</td>\n      <td>ROU</td>\n      <td>PER</td>\n    </tr>\n    <tr>\n      <th>4</th>\n      <td>1930.0</td>\n      <td>15 Jul 1930 - 16:00</td>\n      <td>Group 1</td>\n      <td>Parque Central</td>\n      <td>Montevideo</td>\n      <td>Argentina</td>\n      <td>1.0</td>\n      <td>0.0</td>\n      <td>France</td>\n      <td></td>\n      <td>23409.0</td>\n      <td>0.0</td>\n      <td>0.0</td>\n      <td>REGO Gilberto (BRA)</td>\n      <td>SAUCEDO Ulises (BOL)</td>\n      <td>RADULESCU Constantin (ROU)</td>\n      <td>201.0</td>\n      <td>1085.0</td>\n      <td>ARG</td>\n      <td>FRA</td>\n    </tr>\n    <tr>\n      <th>...</th>\n      <td>...</td>\n      <td>...</td>\n      <td>...</td>\n      <td>...</td>\n      <td>...</td>\n      <td>...</td>\n      <td>...</td>\n      <td>...</td>\n      <td>...</td>\n      <td>...</td>\n      <td>...</td>\n      <td>...</td>\n      <td>...</td>\n      <td>...</td>\n      <td>...</td>\n      <td>...</td>\n      <td>...</td>\n      <td>...</td>\n      <td>...</td>\n      <td>...</td>\n    </tr>\n    <tr>\n      <th>4567</th>\n      <td>NaN</td>\n      <td>NaN</td>\n      <td>NaN</td>\n      <td>NaN</td>\n      <td>NaN</td>\n      <td>NaN</td>\n      <td>NaN</td>\n      <td>NaN</td>\n      <td>NaN</td>\n      <td>NaN</td>\n      <td>NaN</td>\n      <td>NaN</td>\n      <td>NaN</td>\n      <td>NaN</td>\n      <td>NaN</td>\n      <td>NaN</td>\n      <td>NaN</td>\n      <td>NaN</td>\n      <td>NaN</td>\n      <td>NaN</td>\n    </tr>\n    <tr>\n      <th>4568</th>\n      <td>NaN</td>\n      <td>NaN</td>\n      <td>NaN</td>\n      <td>NaN</td>\n      <td>NaN</td>\n      <td>NaN</td>\n      <td>NaN</td>\n      <td>NaN</td>\n      <td>NaN</td>\n      <td>NaN</td>\n      <td>NaN</td>\n      <td>NaN</td>\n      <td>NaN</td>\n      <td>NaN</td>\n      <td>NaN</td>\n      <td>NaN</td>\n      <td>NaN</td>\n      <td>NaN</td>\n      <td>NaN</td>\n      <td>NaN</td>\n    </tr>\n    <tr>\n      <th>4569</th>\n      <td>NaN</td>\n      <td>NaN</td>\n      <td>NaN</td>\n      <td>NaN</td>\n      <td>NaN</td>\n      <td>NaN</td>\n      <td>NaN</td>\n      <td>NaN</td>\n      <td>NaN</td>\n      <td>NaN</td>\n      <td>NaN</td>\n      <td>NaN</td>\n      <td>NaN</td>\n      <td>NaN</td>\n      <td>NaN</td>\n      <td>NaN</td>\n      <td>NaN</td>\n      <td>NaN</td>\n      <td>NaN</td>\n      <td>NaN</td>\n    </tr>\n    <tr>\n      <th>4570</th>\n      <td>NaN</td>\n      <td>NaN</td>\n      <td>NaN</td>\n      <td>NaN</td>\n      <td>NaN</td>\n      <td>NaN</td>\n      <td>NaN</td>\n      <td>NaN</td>\n      <td>NaN</td>\n      <td>NaN</td>\n      <td>NaN</td>\n      <td>NaN</td>\n      <td>NaN</td>\n      <td>NaN</td>\n      <td>NaN</td>\n      <td>NaN</td>\n      <td>NaN</td>\n      <td>NaN</td>\n      <td>NaN</td>\n      <td>NaN</td>\n    </tr>\n    <tr>\n      <th>4571</th>\n      <td>NaN</td>\n      <td>NaN</td>\n      <td>NaN</td>\n      <td>NaN</td>\n      <td>NaN</td>\n      <td>NaN</td>\n      <td>NaN</td>\n      <td>NaN</td>\n      <td>NaN</td>\n      <td>NaN</td>\n      <td>NaN</td>\n      <td>NaN</td>\n      <td>NaN</td>\n      <td>NaN</td>\n      <td>NaN</td>\n      <td>NaN</td>\n      <td>NaN</td>\n      <td>NaN</td>\n      <td>NaN</td>\n      <td>NaN</td>\n    </tr>\n  </tbody>\n</table>\n<p>4572 rows × 20 columns</p>\n</div>"
     },
     "execution_count": 1,
     "metadata": {},
     "output_type": "execute_result"
    }
   ],
   "source": [
    "import pandas as pd\n",
    "\n",
    "df = pd.read_csv('../Dataset/fifaWorldcup/WorldCupMatches.csv')\n",
    "df"
   ],
   "metadata": {
    "collapsed": false,
    "ExecuteTime": {
     "end_time": "2023-12-17T03:02:37.610485400Z",
     "start_time": "2023-12-17T03:02:36.297079200Z"
    }
   },
   "id": "31c01557cabd48e7"
  },
  {
   "cell_type": "code",
   "execution_count": 1,
   "outputs": [],
   "source": [],
   "metadata": {
    "collapsed": false,
    "ExecuteTime": {
     "end_time": "2023-12-17T03:02:37.612559200Z",
     "start_time": "2023-12-17T03:02:37.603167400Z"
    }
   },
   "id": "67911278beba1e39"
  },
  {
   "cell_type": "code",
   "execution_count": 2,
   "outputs": [
    {
     "data": {
      "text/plain": "        Year    Stage Home Team Name  Home Team Goals  Away Team Goals  \\\n0     1930.0  Group 1         France              4.0              1.0   \n1     1930.0  Group 4            USA              3.0              0.0   \n2     1930.0  Group 2     Yugoslavia              2.0              1.0   \n3     1930.0  Group 3        Romania              3.0              1.0   \n4     1930.0  Group 1      Argentina              1.0              0.0   \n...      ...      ...            ...              ...              ...   \n4567     NaN      NaN            NaN              NaN              NaN   \n4568     NaN      NaN            NaN              NaN              NaN   \n4569     NaN      NaN            NaN              NaN              NaN   \n4570     NaN      NaN            NaN              NaN              NaN   \n4571     NaN      NaN            NaN              NaN              NaN   \n\n     Away Team Name Win conditions  \n0            Mexico                 \n1           Belgium                 \n2            Brazil                 \n3              Peru                 \n4            France                 \n...             ...            ...  \n4567            NaN            NaN  \n4568            NaN            NaN  \n4569            NaN            NaN  \n4570            NaN            NaN  \n4571            NaN            NaN  \n\n[4572 rows x 7 columns]",
      "text/html": "<div>\n<style scoped>\n    .dataframe tbody tr th:only-of-type {\n        vertical-align: middle;\n    }\n\n    .dataframe tbody tr th {\n        vertical-align: top;\n    }\n\n    .dataframe thead th {\n        text-align: right;\n    }\n</style>\n<table border=\"1\" class=\"dataframe\">\n  <thead>\n    <tr style=\"text-align: right;\">\n      <th></th>\n      <th>Year</th>\n      <th>Stage</th>\n      <th>Home Team Name</th>\n      <th>Home Team Goals</th>\n      <th>Away Team Goals</th>\n      <th>Away Team Name</th>\n      <th>Win conditions</th>\n    </tr>\n  </thead>\n  <tbody>\n    <tr>\n      <th>0</th>\n      <td>1930.0</td>\n      <td>Group 1</td>\n      <td>France</td>\n      <td>4.0</td>\n      <td>1.0</td>\n      <td>Mexico</td>\n      <td></td>\n    </tr>\n    <tr>\n      <th>1</th>\n      <td>1930.0</td>\n      <td>Group 4</td>\n      <td>USA</td>\n      <td>3.0</td>\n      <td>0.0</td>\n      <td>Belgium</td>\n      <td></td>\n    </tr>\n    <tr>\n      <th>2</th>\n      <td>1930.0</td>\n      <td>Group 2</td>\n      <td>Yugoslavia</td>\n      <td>2.0</td>\n      <td>1.0</td>\n      <td>Brazil</td>\n      <td></td>\n    </tr>\n    <tr>\n      <th>3</th>\n      <td>1930.0</td>\n      <td>Group 3</td>\n      <td>Romania</td>\n      <td>3.0</td>\n      <td>1.0</td>\n      <td>Peru</td>\n      <td></td>\n    </tr>\n    <tr>\n      <th>4</th>\n      <td>1930.0</td>\n      <td>Group 1</td>\n      <td>Argentina</td>\n      <td>1.0</td>\n      <td>0.0</td>\n      <td>France</td>\n      <td></td>\n    </tr>\n    <tr>\n      <th>...</th>\n      <td>...</td>\n      <td>...</td>\n      <td>...</td>\n      <td>...</td>\n      <td>...</td>\n      <td>...</td>\n      <td>...</td>\n    </tr>\n    <tr>\n      <th>4567</th>\n      <td>NaN</td>\n      <td>NaN</td>\n      <td>NaN</td>\n      <td>NaN</td>\n      <td>NaN</td>\n      <td>NaN</td>\n      <td>NaN</td>\n    </tr>\n    <tr>\n      <th>4568</th>\n      <td>NaN</td>\n      <td>NaN</td>\n      <td>NaN</td>\n      <td>NaN</td>\n      <td>NaN</td>\n      <td>NaN</td>\n      <td>NaN</td>\n    </tr>\n    <tr>\n      <th>4569</th>\n      <td>NaN</td>\n      <td>NaN</td>\n      <td>NaN</td>\n      <td>NaN</td>\n      <td>NaN</td>\n      <td>NaN</td>\n      <td>NaN</td>\n    </tr>\n    <tr>\n      <th>4570</th>\n      <td>NaN</td>\n      <td>NaN</td>\n      <td>NaN</td>\n      <td>NaN</td>\n      <td>NaN</td>\n      <td>NaN</td>\n      <td>NaN</td>\n    </tr>\n    <tr>\n      <th>4571</th>\n      <td>NaN</td>\n      <td>NaN</td>\n      <td>NaN</td>\n      <td>NaN</td>\n      <td>NaN</td>\n      <td>NaN</td>\n      <td>NaN</td>\n    </tr>\n  </tbody>\n</table>\n<p>4572 rows × 7 columns</p>\n</div>"
     },
     "execution_count": 2,
     "metadata": {},
     "output_type": "execute_result"
    }
   ],
   "source": [
    "df.drop(labels='Datetime',axis=1,inplace=True)\n",
    "df.drop(labels='Half-time Home Goals',axis=1,inplace=True)\n",
    "df.drop(labels='Half-time Away Goals',axis=1,inplace=True)\n",
    "df.drop(labels='Stadium',axis=1,inplace=True)\n",
    "df.drop(labels='City',axis=1,inplace=True)\n",
    "df.drop(labels='Away Team Initials',axis=1,inplace=True)\n",
    "df.drop(labels='Assistant 1',axis=1,inplace=True)\n",
    "df.drop(labels='Assistant 2',axis=1,inplace=True)\n",
    "df.drop(labels='Attendance',axis=1,inplace=True)\n",
    "df.drop(labels='RoundID',axis=1,inplace=True)\n",
    "df.drop(labels='MatchID',axis=1,inplace=True)\n",
    "df.drop(labels='Referee',axis=1,inplace=True)\n",
    "df.drop(labels='Home Team Initials',axis=1,inplace=True)\n",
    "df"
   ],
   "metadata": {
    "collapsed": false,
    "ExecuteTime": {
     "end_time": "2023-12-17T03:02:37.759320800Z",
     "start_time": "2023-12-17T03:02:37.610485400Z"
    }
   },
   "id": "973f37fe3507959a"
  },
  {
   "cell_type": "code",
   "execution_count": 3,
   "outputs": [
    {
     "data": {
      "text/plain": "        Year    Stage Home Team Name  Home Team Goals  Away Team Goals  \\\n0     1930.0  Group 1         France              4.0              1.0   \n1     1930.0  Group 4            USA              3.0              0.0   \n2     1930.0  Group 2     Yugoslavia              2.0              1.0   \n3     1930.0  Group 3        Romania              3.0              1.0   \n4     1930.0  Group 1      Argentina              1.0              0.0   \n...      ...      ...            ...              ...              ...   \n4567     NaN      NaN            NaN              NaN              NaN   \n4568     NaN      NaN            NaN              NaN              NaN   \n4569     NaN      NaN            NaN              NaN              NaN   \n4570     NaN      NaN            NaN              NaN              NaN   \n4571     NaN      NaN            NaN              NaN              NaN   \n\n     Away Team Name Win conditions  Winner  \n0            Mexico                      1  \n1           Belgium                      1  \n2            Brazil                      1  \n3              Peru                      1  \n4            France                      1  \n...             ...            ...     ...  \n4567            NaN            NaN       0  \n4568            NaN            NaN       0  \n4569            NaN            NaN       0  \n4570            NaN            NaN       0  \n4571            NaN            NaN       0  \n\n[4572 rows x 8 columns]",
      "text/html": "<div>\n<style scoped>\n    .dataframe tbody tr th:only-of-type {\n        vertical-align: middle;\n    }\n\n    .dataframe tbody tr th {\n        vertical-align: top;\n    }\n\n    .dataframe thead th {\n        text-align: right;\n    }\n</style>\n<table border=\"1\" class=\"dataframe\">\n  <thead>\n    <tr style=\"text-align: right;\">\n      <th></th>\n      <th>Year</th>\n      <th>Stage</th>\n      <th>Home Team Name</th>\n      <th>Home Team Goals</th>\n      <th>Away Team Goals</th>\n      <th>Away Team Name</th>\n      <th>Win conditions</th>\n      <th>Winner</th>\n    </tr>\n  </thead>\n  <tbody>\n    <tr>\n      <th>0</th>\n      <td>1930.0</td>\n      <td>Group 1</td>\n      <td>France</td>\n      <td>4.0</td>\n      <td>1.0</td>\n      <td>Mexico</td>\n      <td></td>\n      <td>1</td>\n    </tr>\n    <tr>\n      <th>1</th>\n      <td>1930.0</td>\n      <td>Group 4</td>\n      <td>USA</td>\n      <td>3.0</td>\n      <td>0.0</td>\n      <td>Belgium</td>\n      <td></td>\n      <td>1</td>\n    </tr>\n    <tr>\n      <th>2</th>\n      <td>1930.0</td>\n      <td>Group 2</td>\n      <td>Yugoslavia</td>\n      <td>2.0</td>\n      <td>1.0</td>\n      <td>Brazil</td>\n      <td></td>\n      <td>1</td>\n    </tr>\n    <tr>\n      <th>3</th>\n      <td>1930.0</td>\n      <td>Group 3</td>\n      <td>Romania</td>\n      <td>3.0</td>\n      <td>1.0</td>\n      <td>Peru</td>\n      <td></td>\n      <td>1</td>\n    </tr>\n    <tr>\n      <th>4</th>\n      <td>1930.0</td>\n      <td>Group 1</td>\n      <td>Argentina</td>\n      <td>1.0</td>\n      <td>0.0</td>\n      <td>France</td>\n      <td></td>\n      <td>1</td>\n    </tr>\n    <tr>\n      <th>...</th>\n      <td>...</td>\n      <td>...</td>\n      <td>...</td>\n      <td>...</td>\n      <td>...</td>\n      <td>...</td>\n      <td>...</td>\n      <td>...</td>\n    </tr>\n    <tr>\n      <th>4567</th>\n      <td>NaN</td>\n      <td>NaN</td>\n      <td>NaN</td>\n      <td>NaN</td>\n      <td>NaN</td>\n      <td>NaN</td>\n      <td>NaN</td>\n      <td>0</td>\n    </tr>\n    <tr>\n      <th>4568</th>\n      <td>NaN</td>\n      <td>NaN</td>\n      <td>NaN</td>\n      <td>NaN</td>\n      <td>NaN</td>\n      <td>NaN</td>\n      <td>NaN</td>\n      <td>0</td>\n    </tr>\n    <tr>\n      <th>4569</th>\n      <td>NaN</td>\n      <td>NaN</td>\n      <td>NaN</td>\n      <td>NaN</td>\n      <td>NaN</td>\n      <td>NaN</td>\n      <td>NaN</td>\n      <td>0</td>\n    </tr>\n    <tr>\n      <th>4570</th>\n      <td>NaN</td>\n      <td>NaN</td>\n      <td>NaN</td>\n      <td>NaN</td>\n      <td>NaN</td>\n      <td>NaN</td>\n      <td>NaN</td>\n      <td>0</td>\n    </tr>\n    <tr>\n      <th>4571</th>\n      <td>NaN</td>\n      <td>NaN</td>\n      <td>NaN</td>\n      <td>NaN</td>\n      <td>NaN</td>\n      <td>NaN</td>\n      <td>NaN</td>\n      <td>0</td>\n    </tr>\n  </tbody>\n</table>\n<p>4572 rows × 8 columns</p>\n</div>"
     },
     "execution_count": 3,
     "metadata": {},
     "output_type": "execute_result"
    }
   ],
   "source": [
    "winner = []\n",
    "for i in range(len(df)):\n",
    "    if df['Home Team Goals'][i]>df['Away Team Goals'][i]:\n",
    "        winner.append(1)\n",
    "    elif df['Home Team Goals'][i]<df['Away Team Goals'][i]:\n",
    "        winner.append(2)\n",
    "    else:\n",
    "        winner.append(0)\n",
    "\n",
    "df['Winner'] = winner\n",
    "df"
   ],
   "metadata": {
    "collapsed": false,
    "ExecuteTime": {
     "end_time": "2023-12-17T03:02:38.008258500Z",
     "start_time": "2023-12-17T03:02:37.677095800Z"
    }
   },
   "id": "4c953c86f6600fab"
  },
  {
   "cell_type": "code",
   "execution_count": 4,
   "outputs": [
    {
     "data": {
      "text/plain": "        Year    Stage Home Team Name Away Team Name  Winner\n0     1930.0  Group 1         France         Mexico       1\n1     1930.0  Group 4            USA        Belgium       1\n2     1930.0  Group 2     Yugoslavia         Brazil       1\n3     1930.0  Group 3        Romania           Peru       1\n4     1930.0  Group 1      Argentina         France       1\n...      ...      ...            ...            ...     ...\n4567     NaN      NaN            NaN            NaN       0\n4568     NaN      NaN            NaN            NaN       0\n4569     NaN      NaN            NaN            NaN       0\n4570     NaN      NaN            NaN            NaN       0\n4571     NaN      NaN            NaN            NaN       0\n\n[4572 rows x 5 columns]",
      "text/html": "<div>\n<style scoped>\n    .dataframe tbody tr th:only-of-type {\n        vertical-align: middle;\n    }\n\n    .dataframe tbody tr th {\n        vertical-align: top;\n    }\n\n    .dataframe thead th {\n        text-align: right;\n    }\n</style>\n<table border=\"1\" class=\"dataframe\">\n  <thead>\n    <tr style=\"text-align: right;\">\n      <th></th>\n      <th>Year</th>\n      <th>Stage</th>\n      <th>Home Team Name</th>\n      <th>Away Team Name</th>\n      <th>Winner</th>\n    </tr>\n  </thead>\n  <tbody>\n    <tr>\n      <th>0</th>\n      <td>1930.0</td>\n      <td>Group 1</td>\n      <td>France</td>\n      <td>Mexico</td>\n      <td>1</td>\n    </tr>\n    <tr>\n      <th>1</th>\n      <td>1930.0</td>\n      <td>Group 4</td>\n      <td>USA</td>\n      <td>Belgium</td>\n      <td>1</td>\n    </tr>\n    <tr>\n      <th>2</th>\n      <td>1930.0</td>\n      <td>Group 2</td>\n      <td>Yugoslavia</td>\n      <td>Brazil</td>\n      <td>1</td>\n    </tr>\n    <tr>\n      <th>3</th>\n      <td>1930.0</td>\n      <td>Group 3</td>\n      <td>Romania</td>\n      <td>Peru</td>\n      <td>1</td>\n    </tr>\n    <tr>\n      <th>4</th>\n      <td>1930.0</td>\n      <td>Group 1</td>\n      <td>Argentina</td>\n      <td>France</td>\n      <td>1</td>\n    </tr>\n    <tr>\n      <th>...</th>\n      <td>...</td>\n      <td>...</td>\n      <td>...</td>\n      <td>...</td>\n      <td>...</td>\n    </tr>\n    <tr>\n      <th>4567</th>\n      <td>NaN</td>\n      <td>NaN</td>\n      <td>NaN</td>\n      <td>NaN</td>\n      <td>0</td>\n    </tr>\n    <tr>\n      <th>4568</th>\n      <td>NaN</td>\n      <td>NaN</td>\n      <td>NaN</td>\n      <td>NaN</td>\n      <td>0</td>\n    </tr>\n    <tr>\n      <th>4569</th>\n      <td>NaN</td>\n      <td>NaN</td>\n      <td>NaN</td>\n      <td>NaN</td>\n      <td>0</td>\n    </tr>\n    <tr>\n      <th>4570</th>\n      <td>NaN</td>\n      <td>NaN</td>\n      <td>NaN</td>\n      <td>NaN</td>\n      <td>0</td>\n    </tr>\n    <tr>\n      <th>4571</th>\n      <td>NaN</td>\n      <td>NaN</td>\n      <td>NaN</td>\n      <td>NaN</td>\n      <td>0</td>\n    </tr>\n  </tbody>\n</table>\n<p>4572 rows × 5 columns</p>\n</div>"
     },
     "execution_count": 4,
     "metadata": {},
     "output_type": "execute_result"
    }
   ],
   "source": [
    "df.drop(labels='Home Team Goals',axis=1,inplace=True)\n",
    "df.drop(labels='Away Team Goals',axis=1,inplace=True)\n",
    "df.drop(labels='Win conditions',axis=1,inplace=True)\n",
    "df"
   ],
   "metadata": {
    "collapsed": false,
    "ExecuteTime": {
     "end_time": "2023-12-17T03:02:38.011400200Z",
     "start_time": "2023-12-17T03:02:37.827069600Z"
    }
   },
   "id": "ed96a7e07a80ea5e"
  },
  {
   "cell_type": "code",
   "execution_count": 5,
   "outputs": [
    {
     "data": {
      "text/plain": "       Year  Stage Home Team Name  Away Team Name  Winner\n17   1930.0  Final        Uruguay       Argentina       1\n34   1934.0  Final          Italy  Czechoslovakia       1\n52   1938.0  Final          Italy         Hungary       1\n100  1954.0  Final     Germany FR         Hungary       1\n135  1958.0  Final         Brazil          Sweden       1\n167  1962.0  Final         Brazil  Czechoslovakia       1\n199  1966.0  Final        England      Germany FR       1\n231  1970.0  Final         Brazil           Italy       1\n269  1974.0  Final    Netherlands      Germany FR       2\n307  1978.0  Final      Argentina     Netherlands       1\n359  1982.0  Final          Italy      Germany FR       1\n411  1986.0  Final      Argentina      Germany FR       1\n463  1990.0  Final     Germany FR       Argentina       1\n515  1994.0  Final         Brazil           Italy       0\n579  1998.0  Final         Brazil          France       2\n643  2002.0  Final        Germany          Brazil       2\n707  2006.0  Final          Italy          France       0\n771  2010.0  Final    Netherlands           Spain       2\n828  2014.0  Final        Germany       Argentina       1\n851  2014.0  Final        Germany       Argentina       1",
      "text/html": "<div>\n<style scoped>\n    .dataframe tbody tr th:only-of-type {\n        vertical-align: middle;\n    }\n\n    .dataframe tbody tr th {\n        vertical-align: top;\n    }\n\n    .dataframe thead th {\n        text-align: right;\n    }\n</style>\n<table border=\"1\" class=\"dataframe\">\n  <thead>\n    <tr style=\"text-align: right;\">\n      <th></th>\n      <th>Year</th>\n      <th>Stage</th>\n      <th>Home Team Name</th>\n      <th>Away Team Name</th>\n      <th>Winner</th>\n    </tr>\n  </thead>\n  <tbody>\n    <tr>\n      <th>17</th>\n      <td>1930.0</td>\n      <td>Final</td>\n      <td>Uruguay</td>\n      <td>Argentina</td>\n      <td>1</td>\n    </tr>\n    <tr>\n      <th>34</th>\n      <td>1934.0</td>\n      <td>Final</td>\n      <td>Italy</td>\n      <td>Czechoslovakia</td>\n      <td>1</td>\n    </tr>\n    <tr>\n      <th>52</th>\n      <td>1938.0</td>\n      <td>Final</td>\n      <td>Italy</td>\n      <td>Hungary</td>\n      <td>1</td>\n    </tr>\n    <tr>\n      <th>100</th>\n      <td>1954.0</td>\n      <td>Final</td>\n      <td>Germany FR</td>\n      <td>Hungary</td>\n      <td>1</td>\n    </tr>\n    <tr>\n      <th>135</th>\n      <td>1958.0</td>\n      <td>Final</td>\n      <td>Brazil</td>\n      <td>Sweden</td>\n      <td>1</td>\n    </tr>\n    <tr>\n      <th>167</th>\n      <td>1962.0</td>\n      <td>Final</td>\n      <td>Brazil</td>\n      <td>Czechoslovakia</td>\n      <td>1</td>\n    </tr>\n    <tr>\n      <th>199</th>\n      <td>1966.0</td>\n      <td>Final</td>\n      <td>England</td>\n      <td>Germany FR</td>\n      <td>1</td>\n    </tr>\n    <tr>\n      <th>231</th>\n      <td>1970.0</td>\n      <td>Final</td>\n      <td>Brazil</td>\n      <td>Italy</td>\n      <td>1</td>\n    </tr>\n    <tr>\n      <th>269</th>\n      <td>1974.0</td>\n      <td>Final</td>\n      <td>Netherlands</td>\n      <td>Germany FR</td>\n      <td>2</td>\n    </tr>\n    <tr>\n      <th>307</th>\n      <td>1978.0</td>\n      <td>Final</td>\n      <td>Argentina</td>\n      <td>Netherlands</td>\n      <td>1</td>\n    </tr>\n    <tr>\n      <th>359</th>\n      <td>1982.0</td>\n      <td>Final</td>\n      <td>Italy</td>\n      <td>Germany FR</td>\n      <td>1</td>\n    </tr>\n    <tr>\n      <th>411</th>\n      <td>1986.0</td>\n      <td>Final</td>\n      <td>Argentina</td>\n      <td>Germany FR</td>\n      <td>1</td>\n    </tr>\n    <tr>\n      <th>463</th>\n      <td>1990.0</td>\n      <td>Final</td>\n      <td>Germany FR</td>\n      <td>Argentina</td>\n      <td>1</td>\n    </tr>\n    <tr>\n      <th>515</th>\n      <td>1994.0</td>\n      <td>Final</td>\n      <td>Brazil</td>\n      <td>Italy</td>\n      <td>0</td>\n    </tr>\n    <tr>\n      <th>579</th>\n      <td>1998.0</td>\n      <td>Final</td>\n      <td>Brazil</td>\n      <td>France</td>\n      <td>2</td>\n    </tr>\n    <tr>\n      <th>643</th>\n      <td>2002.0</td>\n      <td>Final</td>\n      <td>Germany</td>\n      <td>Brazil</td>\n      <td>2</td>\n    </tr>\n    <tr>\n      <th>707</th>\n      <td>2006.0</td>\n      <td>Final</td>\n      <td>Italy</td>\n      <td>France</td>\n      <td>0</td>\n    </tr>\n    <tr>\n      <th>771</th>\n      <td>2010.0</td>\n      <td>Final</td>\n      <td>Netherlands</td>\n      <td>Spain</td>\n      <td>2</td>\n    </tr>\n    <tr>\n      <th>828</th>\n      <td>2014.0</td>\n      <td>Final</td>\n      <td>Germany</td>\n      <td>Argentina</td>\n      <td>1</td>\n    </tr>\n    <tr>\n      <th>851</th>\n      <td>2014.0</td>\n      <td>Final</td>\n      <td>Germany</td>\n      <td>Argentina</td>\n      <td>1</td>\n    </tr>\n  </tbody>\n</table>\n</div>"
     },
     "execution_count": 5,
     "metadata": {},
     "output_type": "execute_result"
    }
   ],
   "source": [
    "final = df[df['Stage'] == 'Final']\n",
    "final"
   ],
   "metadata": {
    "collapsed": false,
    "ExecuteTime": {
     "end_time": "2023-12-17T03:02:38.093147800Z",
     "start_time": "2023-12-17T03:02:37.858237800Z"
    }
   },
   "id": "5f076aafae5132c7"
  },
  {
   "cell_type": "markdown",
   "source": [
    "Home Team represents = 1\n",
    "Away Team represents = 2"
   ],
   "metadata": {
    "collapsed": false
   },
   "id": "3014449a23dc98fb"
  }
 ],
 "metadata": {
  "kernelspec": {
   "display_name": "Python 3",
   "language": "python",
   "name": "python3"
  },
  "language_info": {
   "codemirror_mode": {
    "name": "ipython",
    "version": 2
   },
   "file_extension": ".py",
   "mimetype": "text/x-python",
   "name": "python",
   "nbconvert_exporter": "python",
   "pygments_lexer": "ipython2",
   "version": "2.7.6"
  }
 },
 "nbformat": 4,
 "nbformat_minor": 5
}
